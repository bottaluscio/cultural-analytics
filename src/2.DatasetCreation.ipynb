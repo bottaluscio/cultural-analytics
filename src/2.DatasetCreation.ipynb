{
 "cells": [
  {
   "cell_type": "code",
   "execution_count": 1,
   "id": "2e6ad901",
   "metadata": {},
   "outputs": [],
   "source": [
    "import numpy as np\n",
    "import pandas as pd\n",
    "import os,time, matplotlib\n",
    "import matplotlib.pyplot as plt\n",
    "import datetime,time,json\n",
    "import multiprocessing\n",
    "\n",
    "from newsplease import NewsPlease\n",
    "from utils import GoogleNews"
   ]
  },
  {
   "cell_type": "markdown",
   "id": "a8932a03",
   "metadata": {},
   "source": [
    "# Start Loading all files from folder"
   ]
  },
  {
   "cell_type": "code",
   "execution_count": 2,
   "id": "e9a48193",
   "metadata": {},
   "outputs": [],
   "source": [
    "INPUT_PATH = '../data/articles'"
   ]
  },
  {
   "cell_type": "code",
   "execution_count": 3,
   "id": "69bb620e",
   "metadata": {},
   "outputs": [],
   "source": [
    "paths = [os.path.join(INPUT_PATH,x) for x in os.listdir(INPUT_PATH)]"
   ]
  },
  {
   "cell_type": "code",
   "execution_count": 4,
   "id": "736961a1",
   "metadata": {},
   "outputs": [],
   "source": [
    "alldicts = []\n",
    "for file in paths:\n",
    "    with open(file,'r') as fi:\n",
    "        try:\n",
    "            d = json.load(fi)\n",
    "            alldicts.append(d)\n",
    "        except Exception as e:\n",
    "            pass"
   ]
  },
  {
   "cell_type": "code",
   "execution_count": 5,
   "id": "f265b88a",
   "metadata": {},
   "outputs": [],
   "source": [
    "df = pd.DataFrame(alldicts).dropna(subset = 'maintext').reset_index(drop=True)"
   ]
  },
  {
   "cell_type": "markdown",
   "id": "f453f2c1",
   "metadata": {},
   "source": [
    "# Data Cleaning \n",
    "Remove incorrect results like scraping errors"
   ]
  },
  {
   "cell_type": "code",
   "execution_count": 6,
   "id": "9c45d6b6",
   "metadata": {},
   "outputs": [
    {
     "name": "stdout",
     "output_type": "stream",
     "text": [
      "Initial Number of articles: 22036\n"
     ]
    }
   ],
   "source": [
    "# Filter out newline escape chars\n",
    "\n",
    "df = df.assign(maintext = df.maintext.str.replace('\\n',' '))\n",
    "\n",
    "print('Initial Number of articles:',len(df))"
   ]
  },
  {
   "cell_type": "markdown",
   "id": "185da678",
   "metadata": {},
   "source": [
    "## cleaning should take care of incorrect text: javascript browser cookies\n",
    "Out of all articles N are featuring web error related stopwords, as initial preprocessing we can discard them"
   ]
  },
  {
   "cell_type": "code",
   "execution_count": 16,
   "id": "06b593a3",
   "metadata": {},
   "outputs": [
    {
     "data": {
      "text/plain": [
       "887"
      ]
     },
     "execution_count": 16,
     "metadata": {},
     "output_type": "execute_result"
    }
   ],
   "source": [
    "check = df.maintext.str.contains('java|javascript|cookie|browser', regex=True)\n",
    "check.sum()"
   ]
  },
  {
   "cell_type": "code",
   "execution_count": 17,
   "id": "0b5f3861",
   "metadata": {
    "scrolled": true
   },
   "outputs": [
    {
     "name": "stdout",
     "output_type": "stream",
     "text": [
      "Why did this happen?\n",
      "Please make sure your browser supports JavaScript and cookies and that you are not blocking them from loading. For more information you can review our Terms of Service and Cookie Policy.\n",
      "-----\n"
     ]
    }
   ],
   "source": [
    "for row in  df[check].maintext.drop_duplicates():\n",
    "    print(row)\n",
    "    print('-----')\n",
    "    break"
   ]
  },
  {
   "cell_type": "code",
   "execution_count": 18,
   "id": "9e3295fe",
   "metadata": {},
   "outputs": [],
   "source": [
    "df = df[-check]"
   ]
  },
  {
   "cell_type": "code",
   "execution_count": 24,
   "id": "06c6ecd3",
   "metadata": {},
   "outputs": [
    {
     "data": {
      "text/plain": [
       "(0.96, 21149)"
      ]
     },
     "execution_count": 24,
     "metadata": {},
     "output_type": "execute_result"
    }
   ],
   "source": [
    "round(len(df)/(len(df)+887),2), len(df)"
   ]
  },
  {
   "cell_type": "markdown",
   "id": "36052d4a",
   "metadata": {},
   "source": [
    "# Preprocessing"
   ]
  },
  {
   "cell_type": "code",
   "execution_count": 26,
   "id": "eb2f7af2",
   "metadata": {},
   "outputs": [],
   "source": [
    "# To lower case\n",
    "df['maintext'] = df.maintext.str.lower()\n",
    "df['title'] = df.title.str.lower()\n",
    "\n",
    "# Remove commas\n",
    "df['maintext'] = df['maintext'].str.replace('[,;/]','', regex=True)"
   ]
  },
  {
   "cell_type": "markdown",
   "id": "c794a37d",
   "metadata": {},
   "source": [
    "## add country info"
   ]
  },
  {
   "cell_type": "code",
   "execution_count": 27,
   "id": "6ceac206",
   "metadata": {},
   "outputs": [
    {
     "data": {
      "text/plain": [
       "'uk|usa|austria|belgium|bulgaria|croatia|cyprus|czech|denmark|estonia|finland|france|germany|greece|hungary|ireland|italy|latvia|lithuania|luxembourg|malta|netherlands|poland|portugal|romania|slovakia|slovenia|spain|sweden'"
      ]
     },
     "execution_count": 27,
     "metadata": {},
     "output_type": "execute_result"
    }
   ],
   "source": [
    "countries = ['uk','usa','Austria','Belgium','Bulgaria','Croatia',\n",
    "             'Cyprus','Czech','Denmark',\n",
    "             'Estonia','Finland','France','Germany','Greece',\n",
    "             'Hungary','Ireland','Italy','Latvia','Lithuania',\n",
    "             'Luxembourg','Malta','Netherlands','Poland','Portugal',\n",
    "             'Romania','Slovakia','Slovenia','Spain','Sweden']\n",
    "countries = [x.lower() for x in countries]\n",
    "\n",
    "pat = '|'.join(countries)\n",
    "pat"
   ]
  },
  {
   "cell_type": "code",
   "execution_count": 28,
   "id": "7a99dd04",
   "metadata": {},
   "outputs": [],
   "source": [
    "words = df.maintext.str.split('\\s+', regex=True)\n",
    "country = df.maintext.str.findall(pat)\n",
    "\n",
    "df = df.assign(country = country.apply(lambda x: list(set(x))))"
   ]
  },
  {
   "cell_type": "markdown",
   "id": "658e47d2",
   "metadata": {},
   "source": [
    "## Check text length\n",
    "\n",
    "it might make sense to just drop articles incredibly long"
   ]
  },
  {
   "cell_type": "code",
   "execution_count": 29,
   "id": "90899876",
   "metadata": {},
   "outputs": [
    {
     "data": {
      "text/html": [
       "<div>\n",
       "<style scoped>\n",
       "    .dataframe tbody tr th:only-of-type {\n",
       "        vertical-align: middle;\n",
       "    }\n",
       "\n",
       "    .dataframe tbody tr th {\n",
       "        vertical-align: top;\n",
       "    }\n",
       "\n",
       "    .dataframe thead th {\n",
       "        text-align: right;\n",
       "    }\n",
       "</style>\n",
       "<table border=\"1\" class=\"dataframe\">\n",
       "  <thead>\n",
       "    <tr style=\"text-align: right;\">\n",
       "      <th></th>\n",
       "      <th>id</th>\n",
       "      <th>title</th>\n",
       "      <th>link</th>\n",
       "      <th>published</th>\n",
       "      <th>maintext</th>\n",
       "      <th>country</th>\n",
       "      <th>numchars</th>\n",
       "      <th>numwords</th>\n",
       "    </tr>\n",
       "  </thead>\n",
       "  <tbody>\n",
       "    <tr>\n",
       "      <th>0</th>\n",
       "      <td>8f585a5d26a3b5820b5f7e1e3feec996</td>\n",
       "      <td>coronavirus - austria travel advice - gov.uk</td>\n",
       "      <td>https://www.gov.uk/foreign-travel-advice/austr...</td>\n",
       "      <td>Sat, 21 Mar 2020 10:13:56 GMT</td>\n",
       "      <td>coronavirus travel health\\ncheck the latest in...</td>\n",
       "      <td>[uk, austria, ireland]</td>\n",
       "      <td>4225</td>\n",
       "      <td>763</td>\n",
       "    </tr>\n",
       "    <tr>\n",
       "      <th>1</th>\n",
       "      <td>2ce54f3940c5e94a29387852d3f4b282</td>\n",
       "      <td>cdc study shows unvaccinated people are 29 tim...</td>\n",
       "      <td>https://www.cnbc.com/2021/08/24/cdc-study-show...</td>\n",
       "      <td>Tue, 24 Aug 2021 07:00:00 GMT</td>\n",
       "      <td>medics transfer a patient on a stretcher from ...</td>\n",
       "      <td>[]</td>\n",
       "      <td>2126</td>\n",
       "      <td>404</td>\n",
       "    </tr>\n",
       "    <tr>\n",
       "      <th>2</th>\n",
       "      <td>cdafae70c4e76a5cb4ac8de7fe64b314</td>\n",
       "      <td>here's how the last pandemic vaccine was rolle...</td>\n",
       "      <td>https://www.healthline.com/health-news/what-ha...</td>\n",
       "      <td>Mon, 10 Aug 2020 07:00:00 GMT</td>\n",
       "      <td>share on pinterest families wait for the h1n1 ...</td>\n",
       "      <td>[]</td>\n",
       "      <td>3956</td>\n",
       "      <td>782</td>\n",
       "    </tr>\n",
       "    <tr>\n",
       "      <th>3</th>\n",
       "      <td>300c572c2e471d8044c04d5d49902b9f</td>\n",
       "      <td>opinion | will we struggle to reach herd immun...</td>\n",
       "      <td>https://www.nytimes.com/interactive/2021/03/26...</td>\n",
       "      <td>Fri, 26 Mar 2021 07:00:00 GMT</td>\n",
       "      <td>illustration by brian stauffer\\nhere’s the goo...</td>\n",
       "      <td>[]</td>\n",
       "      <td>9286</td>\n",
       "      <td>1918</td>\n",
       "    </tr>\n",
       "    <tr>\n",
       "      <th>4</th>\n",
       "      <td>187e2dff43d693610498830a9ee59a13</td>\n",
       "      <td>italy mandates covid vaccine for those over 50...</td>\n",
       "      <td>https://www.newsweek.com/italy-mandates-covid-...</td>\n",
       "      <td>Thu, 06 Jan 2022 08:00:00 GMT</td>\n",
       "      <td>as the death toll from the covid-19 omicron va...</td>\n",
       "      <td>[germany, italy, greece, austria]</td>\n",
       "      <td>2924</td>\n",
       "      <td>567</td>\n",
       "    </tr>\n",
       "  </tbody>\n",
       "</table>\n",
       "</div>"
      ],
      "text/plain": [
       "                                 id  \\\n",
       "0  8f585a5d26a3b5820b5f7e1e3feec996   \n",
       "1  2ce54f3940c5e94a29387852d3f4b282   \n",
       "2  cdafae70c4e76a5cb4ac8de7fe64b314   \n",
       "3  300c572c2e471d8044c04d5d49902b9f   \n",
       "4  187e2dff43d693610498830a9ee59a13   \n",
       "\n",
       "                                               title  \\\n",
       "0       coronavirus - austria travel advice - gov.uk   \n",
       "1  cdc study shows unvaccinated people are 29 tim...   \n",
       "2  here's how the last pandemic vaccine was rolle...   \n",
       "3  opinion | will we struggle to reach herd immun...   \n",
       "4  italy mandates covid vaccine for those over 50...   \n",
       "\n",
       "                                                link  \\\n",
       "0  https://www.gov.uk/foreign-travel-advice/austr...   \n",
       "1  https://www.cnbc.com/2021/08/24/cdc-study-show...   \n",
       "2  https://www.healthline.com/health-news/what-ha...   \n",
       "3  https://www.nytimes.com/interactive/2021/03/26...   \n",
       "4  https://www.newsweek.com/italy-mandates-covid-...   \n",
       "\n",
       "                       published  \\\n",
       "0  Sat, 21 Mar 2020 10:13:56 GMT   \n",
       "1  Tue, 24 Aug 2021 07:00:00 GMT   \n",
       "2  Mon, 10 Aug 2020 07:00:00 GMT   \n",
       "3  Fri, 26 Mar 2021 07:00:00 GMT   \n",
       "4  Thu, 06 Jan 2022 08:00:00 GMT   \n",
       "\n",
       "                                            maintext  \\\n",
       "0  coronavirus travel health\\ncheck the latest in...   \n",
       "1  medics transfer a patient on a stretcher from ...   \n",
       "2  share on pinterest families wait for the h1n1 ...   \n",
       "3  illustration by brian stauffer\\nhere’s the goo...   \n",
       "4  as the death toll from the covid-19 omicron va...   \n",
       "\n",
       "                             country  numchars  numwords  \n",
       "0             [uk, austria, ireland]      4225       763  \n",
       "1                                 []      2126       404  \n",
       "2                                 []      3956       782  \n",
       "3                                 []      9286      1918  \n",
       "4  [germany, italy, greece, austria]      2924       567  "
      ]
     },
     "execution_count": 29,
     "metadata": {},
     "output_type": "execute_result"
    }
   ],
   "source": [
    "df = df.assign(numchars = df.maintext.apply(lambda x: len(x.replace(' ',''))))\n",
    "df = df.assign(numwords = df.maintext.apply(lambda x: len(x.split(' '))))\n",
    "df.head()"
   ]
  },
  {
   "cell_type": "code",
   "execution_count": 30,
   "id": "087b8af5",
   "metadata": {},
   "outputs": [
    {
     "data": {
      "image/png": "[encoded data removed]",
      "text/plain": [
       "<Figure size 1008x360 with 2 Axes>"
      ]
     },
     "metadata": {
      "needs_background": "light"
     },
     "output_type": "display_data"
    }
   ],
   "source": [
    "fig,[ax,ax2] = plt.subplots(figsize = (14,5), ncols=2)\n",
    "df.numchars.hist(bins=128,ax=ax)\n",
    "df.numwords.hist(bins=128,ax=ax2)\n",
    "\n",
    "ax.set_xlabel('char count')\n",
    "ax2.set_xlabel('word count')\n",
    "\n",
    "ax.set_ylabel('frequency')\n",
    "ax.set_title('Text Dataset: Number of Chars by article')\n",
    "ax2.set_title('Text Dataset: Number of Words by article')\n",
    "plt.show()"
   ]
  },
  {
   "cell_type": "code",
   "execution_count": 31,
   "id": "ef470432",
   "metadata": {},
   "outputs": [
    {
     "data": {
      "text/plain": [
       "numchars    9000.0\n",
       "numwords    2000.0\n",
       "dtype: float64"
      ]
     },
     "execution_count": 31,
     "metadata": {},
     "output_type": "execute_result"
    }
   ],
   "source": [
    "quantiles90 = df[['numchars','numwords']].apply(lambda x :x.quantile(.9).round(-3))\n",
    "\n",
    "quantiles90"
   ]
  },
  {
   "cell_type": "code",
   "execution_count": 32,
   "id": "1f03f4ba",
   "metadata": {},
   "outputs": [],
   "source": [
    "df = df[(df.numwords<=quantiles90.numchars) & (df.numchars<=quantiles90.numchars)]"
   ]
  },
  {
   "cell_type": "code",
   "execution_count": 33,
   "id": "d91636b0",
   "metadata": {},
   "outputs": [
    {
     "data": {
      "image/png": "[encoded data removed]",
      "text/plain": [
       "<Figure size 1008x360 with 2 Axes>"
      ]
     },
     "metadata": {
      "needs_background": "light"
     },
     "output_type": "display_data"
    }
   ],
   "source": [
    "fig,[ax,ax2] = plt.subplots(figsize = (14,5), ncols=2)\n",
    "df.numchars.hist(bins=128,ax=ax)\n",
    "df.numwords.hist(bins=128,ax=ax2)\n",
    "\n",
    "ax.set_xlabel('char count')\n",
    "ax2.set_xlabel('word count')\n",
    "\n",
    "ax.set_ylabel('frequency')\n",
    "ax.set_title('Text Dataset: Number of Chars by article')\n",
    "ax2.set_title('Text Dataset: Number of Words by article')\n",
    "plt.show()"
   ]
  },
  {
   "cell_type": "code",
   "execution_count": 36,
   "id": "1303aa30",
   "metadata": {},
   "outputs": [
    {
     "data": {
      "text/plain": [
       "(18838, 0.78)"
      ]
     },
     "execution_count": 36,
     "metadata": {},
     "output_type": "execute_result"
    }
   ],
   "source": [
    "len(df), round(len(df)/24001,2)"
   ]
  },
  {
   "cell_type": "code",
   "execution_count": 19,
   "id": "43b27025",
   "metadata": {},
   "outputs": [
    {
     "data": {
      "text/plain": [
       "numchars    150.0\n",
       "numwords     30.0\n",
       "dtype: float64"
      ]
     },
     "execution_count": 19,
     "metadata": {},
     "output_type": "execute_result"
    }
   ],
   "source": [
    "# Lowerbound\n",
    "\n",
    "quantiles10 = df[['numchars','numwords']].apply(lambda x :x.quantile(.01).round(-1))\n",
    "\n",
    "quantiles10"
   ]
  },
  {
   "cell_type": "code",
   "execution_count": 19,
   "id": "e7e64031",
   "metadata": {},
   "outputs": [
    {
     "name": "stdout",
     "output_type": "stream",
     "text": [
      "---------\n",
      "a tourist on a boat on the southern thai island of koh phi phi in 2019. photo: afp\n",
      "---------\n",
      "hong kong confirmed nine new coronavirus cases on sunday all among arrivals on inbound flights. photo: k. y. cheng\n",
      "---------\n",
      "logo_ddn_tag_site jn with tagline logo-sns_tag_site our apologies unfortunately our website is currently unavailable in most european countries due to gdpr rules.\n",
      "---------\n",
      "covid live news updates: delhi reports 1414 new covid-19 cases 1171 recoveries and 1 death in the last 24 hours\n",
      "---------\n",
      "people are monitored for any reactions after receiving coronavirus vaccine shots in beijing last month. photo: kyodo\n",
      "---------\n",
      "residents wait in line for biontech inoculation at a mobile vaccination station in shek kip mei on sunday. photo: yik yeung man\n",
      "---------\n",
      "travellers arrive at singapore’s changi airport. visitors are flocking to the quarantine-free city state. photo: afp\n",
      "---------\n",
      "omicron covid news updates: new guidelines for international arrivals 14 days travel details negative rt-pcr test report mandatory from december 1\n",
      "---------\n",
      "residents are evacuated from a tung chung housing block after a resident was found to be carrying a mutated coronavirus variant. photo: winson wong\n",
      "---------\n",
      "apasionado por la industria aerocomercial. despachante de aeronaves operador de rampa y señalero. coordinador editorial de aviacionline. contacto: gaston.sena@aviacionline.com\n",
      "---------\n",
      "thank you for following dh's updates on covid-19 here. we will be back for more updates tomorrow!\n",
      "---------\n",
      "emulating macau’s gradual approach was one option discussed at a meeting on reopening the border with mainland china. photo: sam tsang\n",
      "---------\n",
      "most major global airlines say their hands are tied when it comes to making vaccinations mandatory for staff and travellers alike. photo: reuters\n",
      "---------\n",
      "children ride bikes along the helix bridge with a view of the financial business district in singapore. photo: afp\n",
      "---------\n",
      "when autocomplete results are available use up and down arrows to review and enter to select.\n",
      "---------\n",
      "hong kong opened walk-ins for a fourth covid-19 jab for residents aged 18 to 59 on saturday. photo: bloomberg\n",
      "---------\n",
      "the housing market is entering the ‘most significant contraction in activity since 2006’ says freddie mac economist\n",
      "---------\n",
      "international passengers must still undergo varying periods of quarantine as required by their port of arrival in china. photo: ap\n",
      "---------\n",
      "new a vastly improved search engine helps you find the latest on companies business leaders and news more easily.\n",
      "---------\n",
      "police are looking for multiple suspects after a man was gunned down at the back of a scarborough apartment building wednesday night.\n",
      "---------\n",
      "all you need to know about being a cipd student as well as access to a wide range of resources\n",
      "---------\n",
      "the ban is in place for an \"initial period\" of two weeks but does not include care homes and sheltered accommodation at this stage.\n",
      "---------\n",
      "new a vastly improved search engine helps you find the latest on companies business leaders and news more easily.\n",
      "---------\n",
      "covid latest news updates: karnataka government imposes weekend curfew from friday to monday in bengaluru for two weeks to contain covid spread\n",
      "---------\n",
      "\"the daily show\" correspondent jordan klepper traveled to los angeles to look at vaccine hesitancy among some in the wellness community.\n",
      "---------\n",
      "sri lanka crisis live updates: defence ministry orders tri-forces to open fire on rioters in sri lanka\n",
      "---------\n",
      "join the conversation you can post now and register later. if you have an account sign in now to post with your account.\n",
      "---------\n",
      "track the latest covid news and updates from india and across the world with dh.\n",
      "---------\n",
      "russian president vladimir putin during a meeting at the novo-ogaryovo residence outside moscow russia on sunday. photo: sputnik kremlin pool photo via ap\n",
      "---------\n",
      "the housing market is entering the ‘most significant contraction in activity since 2006’ says freddie mac economist\n",
      "---------\n",
      "the researchers said their findings held true across all demographics including groups that have been hesitant to receive the vaccine.\n",
      "---------\n",
      "india's covid-19 cases continued to rise with the nation registering 3324 new cases on sunday. stay tuned for updates.\n",
      "---------\n",
      "shanghai health authorities have been asked to clarify vaccine rules for inbound travellers. photo: xinhua\n",
      "---------\n",
      "patients at the packed accident and emergency unit of queen elizabeth hospital in jordan. photo: jelly tse\n",
      "---------\n",
      "the housing market is entering the ‘most significant contraction in activity since 2006’ says freddie mac economist\n",
      "---------\n",
      "a man talks to his daughter through a fence at a residential compound under covid-19 quarantine in shanghai on march 14. photo: epa-efe\n",
      "---------\n",
      "only fully vaccinated residents are allowed to board flights to hong kong from high-risk countries. photo: felix wong\n",
      "---------\n",
      "the housing market is entering the ‘most significant contraction in activity since 2006’ says freddie mac economist\n",
      "---------\n",
      "linked commentary protect patients like me—make covid vaccines mandatory for all eligible staff in care settings\n",
      "---------\n",
      "more residents could return after the change comes into effect on wednesday. photo: may tse\n",
      "---------\n",
      "a look at how covid-19 vaccine mandates are dividing us states and the implications this has for businesses.\n",
      "---------\n",
      "pa students study vaccine hesitancy among latinx groups the students will hold a focus group to gauge thoughts on covid-19 vaccines by: emily mavrakis\n",
      "---------\n",
      "omicron variant india news updates: gujarat reports 9 more cases of omicron variant of coronavirus\n",
      "---------\n",
      "page not found the content you requested does not exist or is not available anymore.\n",
      "---------\n",
      "the housing market is entering the ‘most significant contraction in activity since 2006’ says freddie mac economist\n",
      "---------\n",
      "covid news updates: rajasthan govt says international passengers will need to undergo mandatory rt-pcr test on arrival\n",
      "---------\n",
      "many in toronto continue to wear masks in public spaces in the downtown core. - r.j. johnston  toronto star\n",
      "---------\n",
      "travellers line up at check-in counters at japan’s narita airport. the country confirmed one omicron case on tuesday. photo: bloomberg\n",
      "---------\n",
      "the housing market is entering the ‘most significant contraction in activity since 2006’ says freddie mac economist\n",
      "---------\n",
      "a man passes a government banner in causeway bay encouraging residents to get vaccinated. photo: nora tam\n",
      "---------\n",
      "cnn's chief medical correspondent dr. sanjay gupta discusses new polls on overall vaccinations against covid-19 in the us and the origins of vaccine hesitancy.\n"
     ]
    }
   ],
   "source": [
    "for i in df[df.numwords<25].maintext:\n",
    "    print('---------')\n",
    "    print(i)    "
   ]
  },
  {
   "cell_type": "code",
   "execution_count": 20,
   "id": "3b8ccfe8",
   "metadata": {},
   "outputs": [],
   "source": [
    "# Number of articles by date"
   ]
  },
  {
   "cell_type": "code",
   "execution_count": 20,
   "id": "d35b3a64",
   "metadata": {},
   "outputs": [
    {
     "name": "stderr",
     "output_type": "stream",
     "text": [
      "/home/rba/Projects/cultural-analytics/venv_culturalanalytics/lib/python3.8/site-packages/pandas/core/arrays/datetimes.py:1162: UserWarning: Converting to PeriodArray/Index representation will drop timezone information.\n",
      "  warnings.warn(\n"
     ]
    }
   ],
   "source": [
    "dates = (pd.to_datetime(df.published)).dt.to_period('M')"
   ]
  },
  {
   "cell_type": "code",
   "execution_count": 21,
   "id": "a573d7ba",
   "metadata": {},
   "outputs": [
    {
     "data": {
      "text/plain": [
       "<AxesSubplot:>"
      ]
     },
     "execution_count": 21,
     "metadata": {},
     "output_type": "execute_result"
    },
    {
     "data": {
      "image/png": "[encoded data removed]",
      "text/plain": [
       "<Figure size 1080x504 with 1 Axes>"
      ]
     },
     "metadata": {
      "needs_background": "light"
     },
     "output_type": "display_data"
    }
   ],
   "source": [
    "dates.value_counts().sort_index().plot.bar(figsize=(15,7))"
   ]
  },
  {
   "cell_type": "markdown",
   "id": "b607eb2c",
   "metadata": {},
   "source": [
    "# Save Dataset"
   ]
  },
  {
   "cell_type": "code",
   "execution_count": 22,
   "id": "d0ffaebb",
   "metadata": {},
   "outputs": [
    {
     "data": {
      "text/html": [
       "<div>\n",
       "<style scoped>\n",
       "    .dataframe tbody tr th:only-of-type {\n",
       "        vertical-align: middle;\n",
       "    }\n",
       "\n",
       "    .dataframe tbody tr th {\n",
       "        vertical-align: top;\n",
       "    }\n",
       "\n",
       "    .dataframe thead th {\n",
       "        text-align: right;\n",
       "    }\n",
       "</style>\n",
       "<table border=\"1\" class=\"dataframe\">\n",
       "  <thead>\n",
       "    <tr style=\"text-align: right;\">\n",
       "      <th></th>\n",
       "      <th>id</th>\n",
       "      <th>title</th>\n",
       "      <th>link</th>\n",
       "      <th>published</th>\n",
       "      <th>maintext</th>\n",
       "      <th>country</th>\n",
       "      <th>numchars</th>\n",
       "      <th>numwords</th>\n",
       "    </tr>\n",
       "  </thead>\n",
       "  <tbody>\n",
       "    <tr>\n",
       "      <th>0</th>\n",
       "      <td>8f585a5d26a3b5820b5f7e1e3feec996</td>\n",
       "      <td>coronavirus - austria travel advice - gov.uk</td>\n",
       "      <td>https://www.gov.uk/foreign-travel-advice/austr...</td>\n",
       "      <td>Sat, 21 Mar 2020 10:13:56 GMT</td>\n",
       "      <td>coronavirus travel health check the latest inf...</td>\n",
       "      <td>[uk, ireland, austria]</td>\n",
       "      <td>4189</td>\n",
       "      <td>799</td>\n",
       "    </tr>\n",
       "    <tr>\n",
       "      <th>1</th>\n",
       "      <td>2ce54f3940c5e94a29387852d3f4b282</td>\n",
       "      <td>cdc study shows unvaccinated people are 29 tim...</td>\n",
       "      <td>https://www.cnbc.com/2021/08/24/cdc-study-show...</td>\n",
       "      <td>Tue, 24 Aug 2021 07:00:00 GMT</td>\n",
       "      <td>medics transfer a patient on a stretcher from ...</td>\n",
       "      <td>[]</td>\n",
       "      <td>2122</td>\n",
       "      <td>408</td>\n",
       "    </tr>\n",
       "    <tr>\n",
       "      <th>2</th>\n",
       "      <td>cdafae70c4e76a5cb4ac8de7fe64b314</td>\n",
       "      <td>here's how the last pandemic vaccine was rolle...</td>\n",
       "      <td>https://www.healthline.com/health-news/what-ha...</td>\n",
       "      <td>Mon, 10 Aug 2020 07:00:00 GMT</td>\n",
       "      <td>share on pinterest families wait for the h1n1 ...</td>\n",
       "      <td>[]</td>\n",
       "      <td>3952</td>\n",
       "      <td>786</td>\n",
       "    </tr>\n",
       "    <tr>\n",
       "      <th>4</th>\n",
       "      <td>187e2dff43d693610498830a9ee59a13</td>\n",
       "      <td>italy mandates covid vaccine for those over 50...</td>\n",
       "      <td>https://www.newsweek.com/italy-mandates-covid-...</td>\n",
       "      <td>Thu, 06 Jan 2022 08:00:00 GMT</td>\n",
       "      <td>as the death toll from the covid-19 omicron va...</td>\n",
       "      <td>[italy, greece, austria, germany]</td>\n",
       "      <td>2908</td>\n",
       "      <td>583</td>\n",
       "    </tr>\n",
       "    <tr>\n",
       "      <th>6</th>\n",
       "      <td>b65c939453403440b5318bfd3fcb70e0</td>\n",
       "      <td>reader question: do international school teach...</td>\n",
       "      <td>https://www.thelocal.it/20210816/reader-questi...</td>\n",
       "      <td>Mon, 16 Aug 2021 07:00:00 GMT</td>\n",
       "      <td>question: i’ve been hired to teach at an inter...</td>\n",
       "      <td>[italy, uk]</td>\n",
       "      <td>4813</td>\n",
       "      <td>964</td>\n",
       "    </tr>\n",
       "  </tbody>\n",
       "</table>\n",
       "</div>"
      ],
      "text/plain": [
       "                                 id  \\\n",
       "0  8f585a5d26a3b5820b5f7e1e3feec996   \n",
       "1  2ce54f3940c5e94a29387852d3f4b282   \n",
       "2  cdafae70c4e76a5cb4ac8de7fe64b314   \n",
       "4  187e2dff43d693610498830a9ee59a13   \n",
       "6  b65c939453403440b5318bfd3fcb70e0   \n",
       "\n",
       "                                               title  \\\n",
       "0       coronavirus - austria travel advice - gov.uk   \n",
       "1  cdc study shows unvaccinated people are 29 tim...   \n",
       "2  here's how the last pandemic vaccine was rolle...   \n",
       "4  italy mandates covid vaccine for those over 50...   \n",
       "6  reader question: do international school teach...   \n",
       "\n",
       "                                                link  \\\n",
       "0  https://www.gov.uk/foreign-travel-advice/austr...   \n",
       "1  https://www.cnbc.com/2021/08/24/cdc-study-show...   \n",
       "2  https://www.healthline.com/health-news/what-ha...   \n",
       "4  https://www.newsweek.com/italy-mandates-covid-...   \n",
       "6  https://www.thelocal.it/20210816/reader-questi...   \n",
       "\n",
       "                       published  \\\n",
       "0  Sat, 21 Mar 2020 10:13:56 GMT   \n",
       "1  Tue, 24 Aug 2021 07:00:00 GMT   \n",
       "2  Mon, 10 Aug 2020 07:00:00 GMT   \n",
       "4  Thu, 06 Jan 2022 08:00:00 GMT   \n",
       "6  Mon, 16 Aug 2021 07:00:00 GMT   \n",
       "\n",
       "                                            maintext  \\\n",
       "0  coronavirus travel health check the latest inf...   \n",
       "1  medics transfer a patient on a stretcher from ...   \n",
       "2  share on pinterest families wait for the h1n1 ...   \n",
       "4  as the death toll from the covid-19 omicron va...   \n",
       "6  question: i’ve been hired to teach at an inter...   \n",
       "\n",
       "                             country  numchars  numwords  \n",
       "0             [uk, ireland, austria]      4189       799  \n",
       "1                                 []      2122       408  \n",
       "2                                 []      3952       786  \n",
       "4  [italy, greece, austria, germany]      2908       583  \n",
       "6                        [italy, uk]      4813       964  "
      ]
     },
     "execution_count": 22,
     "metadata": {},
     "output_type": "execute_result"
    }
   ],
   "source": [
    "df.head()"
   ]
  },
  {
   "cell_type": "code",
   "execution_count": 24,
   "id": "ab71dcde",
   "metadata": {},
   "outputs": [
    {
     "data": {
      "text/plain": [
       "(18862, 8)"
      ]
     },
     "execution_count": 24,
     "metadata": {},
     "output_type": "execute_result"
    }
   ],
   "source": [
    "df.shape"
   ]
  },
  {
   "cell_type": "code",
   "execution_count": 23,
   "id": "adc4dff9",
   "metadata": {},
   "outputs": [],
   "source": [
    "df.to_csv('../data/text_dataset/articles_v1.csv',sep=';', index=None)\n",
    "df.to_excel('../data/text_dataset/articles_v1.xlsx',index=None)\n",
    "df.to_pickle('../data/text_dataset/articles_v1.pickle')"
   ]
  },
  {
   "cell_type": "code",
   "execution_count": null,
   "id": "56effc0e",
   "metadata": {},
   "outputs": [],
   "source": []
  }
 ],
 "metadata": {
  "kernelspec": {
   "display_name": "Python 3",
   "language": "python",
   "name": "python3"
  },
  "language_info": {
   "codemirror_mode": {
    "name": "ipython",
    "version": 3
   },
   "file_extension": ".py",
   "mimetype": "text/x-python",
   "name": "python",
   "nbconvert_exporter": "python",
   "pygments_lexer": "ipython3",
   "version": "3.8.10"
  }
 },
 "nbformat": 4,
 "nbformat_minor": 5
}
