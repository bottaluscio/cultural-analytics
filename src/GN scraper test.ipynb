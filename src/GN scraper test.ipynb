{
 "cells": [
  {
   "cell_type": "code",
   "execution_count": 1,
   "metadata": {},
   "outputs": [],
   "source": [
    "import numpy as np\n",
    "import pandas as pd\n",
    "import os,time, matplotlib\n",
    "import matplotlib.pyplot as plt\n",
    "\n",
    "from pygooglenews import GoogleNews\n",
    "from newsplease import NewsPlease"
   ]
  },
  {
   "cell_type": "markdown",
   "metadata": {},
   "source": [
    "# Start Google News Research to extract articles links"
   ]
  },
  {
   "cell_type": "code",
   "execution_count": 2,
   "metadata": {},
   "outputs": [
    {
     "data": {
      "text/html": [
       "<div>\n",
       "<style scoped>\n",
       "    .dataframe tbody tr th:only-of-type {\n",
       "        vertical-align: middle;\n",
       "    }\n",
       "\n",
       "    .dataframe tbody tr th {\n",
       "        vertical-align: top;\n",
       "    }\n",
       "\n",
       "    .dataframe thead th {\n",
       "        text-align: right;\n",
       "    }\n",
       "</style>\n",
       "<table border=\"1\" class=\"dataframe\">\n",
       "  <thead>\n",
       "    <tr style=\"text-align: right;\">\n",
       "      <th></th>\n",
       "      <th>Country</th>\n",
       "      <th>Population-2020</th>\n",
       "      <th>Land Area-Km2</th>\n",
       "      <th>Density-P/Km2</th>\n",
       "    </tr>\n",
       "  </thead>\n",
       "  <tbody>\n",
       "    <tr>\n",
       "      <th>0</th>\n",
       "      <td>Afghanistan</td>\n",
       "      <td>38928346</td>\n",
       "      <td>652860</td>\n",
       "      <td>60</td>\n",
       "    </tr>\n",
       "    <tr>\n",
       "      <th>1</th>\n",
       "      <td>Albania</td>\n",
       "      <td>2877797</td>\n",
       "      <td>27400</td>\n",
       "      <td>105</td>\n",
       "    </tr>\n",
       "    <tr>\n",
       "      <th>2</th>\n",
       "      <td>Algeria</td>\n",
       "      <td>43851044</td>\n",
       "      <td>2381740</td>\n",
       "      <td>18</td>\n",
       "    </tr>\n",
       "    <tr>\n",
       "      <th>3</th>\n",
       "      <td>Andorra</td>\n",
       "      <td>77265</td>\n",
       "      <td>470</td>\n",
       "      <td>164</td>\n",
       "    </tr>\n",
       "    <tr>\n",
       "      <th>4</th>\n",
       "      <td>Angola</td>\n",
       "      <td>32866272</td>\n",
       "      <td>1246700</td>\n",
       "      <td>26</td>\n",
       "    </tr>\n",
       "    <tr>\n",
       "      <th>...</th>\n",
       "      <td>...</td>\n",
       "      <td>...</td>\n",
       "      <td>...</td>\n",
       "      <td>...</td>\n",
       "    </tr>\n",
       "    <tr>\n",
       "      <th>190</th>\n",
       "      <td>Venezuela</td>\n",
       "      <td>28435940</td>\n",
       "      <td>882050</td>\n",
       "      <td>32</td>\n",
       "    </tr>\n",
       "    <tr>\n",
       "      <th>191</th>\n",
       "      <td>Vietnam</td>\n",
       "      <td>97338579</td>\n",
       "      <td>310070</td>\n",
       "      <td>314</td>\n",
       "    </tr>\n",
       "    <tr>\n",
       "      <th>192</th>\n",
       "      <td>Yemen</td>\n",
       "      <td>29825964</td>\n",
       "      <td>527970</td>\n",
       "      <td>56</td>\n",
       "    </tr>\n",
       "    <tr>\n",
       "      <th>193</th>\n",
       "      <td>Zambia</td>\n",
       "      <td>18383955</td>\n",
       "      <td>743390</td>\n",
       "      <td>25</td>\n",
       "    </tr>\n",
       "    <tr>\n",
       "      <th>194</th>\n",
       "      <td>Zimbabwe</td>\n",
       "      <td>14862924</td>\n",
       "      <td>386850</td>\n",
       "      <td>38</td>\n",
       "    </tr>\n",
       "  </tbody>\n",
       "</table>\n",
       "<p>195 rows × 4 columns</p>\n",
       "</div>"
      ],
      "text/plain": [
       "         Country  Population-2020  Land Area-Km2  Density-P/Km2\n",
       "0    Afghanistan         38928346         652860             60\n",
       "1        Albania          2877797          27400            105\n",
       "2        Algeria         43851044        2381740             18\n",
       "3        Andorra            77265            470            164\n",
       "4         Angola         32866272        1246700             26\n",
       "..           ...              ...            ...            ...\n",
       "190    Venezuela         28435940         882050             32\n",
       "191      Vietnam         97338579         310070            314\n",
       "192        Yemen         29825964         527970             56\n",
       "193       Zambia         18383955         743390             25\n",
       "194     Zimbabwe         14862924         386850             38\n",
       "\n",
       "[195 rows x 4 columns]"
      ]
     },
     "execution_count": 2,
     "metadata": {},
     "output_type": "execute_result"
    }
   ],
   "source": [
    "countries = pd.read_excel(\"../data/countries.xlsx\",header=[0] )\n",
    "countries"
   ]
  },
  {
   "cell_type": "markdown",
   "metadata": {},
   "source": [
    "# Query to do:\n",
    "- by year-month\n",
    "- by country-name\n",
    "- by keyword:\n",
    "    - hesitancy\n",
    "    - mandatory\n",
    "    - compulsatory\n",
    "    "
   ]
  },
  {
   "cell_type": "code",
   "execution_count": 3,
   "metadata": {},
   "outputs": [
    {
     "name": "stdout",
     "output_type": "stream",
     "text": [
      "italy\n",
      "spain\n"
     ]
    }
   ],
   "source": [
    "KEYWORD = 'vaccine heistancy {cname}'\n",
    "WHEN = '3y'\n",
    "\n",
    "results = {}\n",
    "\n",
    "countries_ = ['italy','spain']#,'germany','france','uk','usa']\n",
    "\n",
    "# for i,row in countries.iterrows():\n",
    "for c in countries_:\n",
    "    print(c)\n",
    "    gn = GoogleNews(country = c)\n",
    "    results[c] =gn.search(KEYWORD.format(cname=c), when = WHEN)"
   ]
  },
  {
   "cell_type": "code",
   "execution_count": 4,
   "metadata": {},
   "outputs": [
    {
     "data": {
      "text/plain": [
       "99"
      ]
     },
     "execution_count": 4,
     "metadata": {},
     "output_type": "execute_result"
    }
   ],
   "source": [
    "len(results['italy']['entries'])"
   ]
  },
  {
   "cell_type": "code",
   "execution_count": 5,
   "metadata": {},
   "outputs": [],
   "source": [
    "gnFrame = pd.DataFrame(results['italy']['entries']).drop(columns=['title_detail','links','guidislink','summary_detail'])"
   ]
  },
  {
   "cell_type": "code",
   "execution_count": 9,
   "metadata": {},
   "outputs": [
    {
     "data": {
      "text/plain": [
       "title               COVID-19 vaccine hesitancy in Sweden and Italy...\n",
       "link                https://www.docwirenews.com/abstracts/covid-19...\n",
       "id                                                         1455997294\n",
       "published                               Fri, 03 Jun 2022 06:00:00 GMT\n",
       "published_parsed                     (2022, 6, 3, 6, 0, 0, 4, 154, 0)\n",
       "summary             <ol><li><a href=\"https://www.docwirenews.com/a...\n",
       "source              {'href': 'https://www.docwirenews.com', 'title...\n",
       "sub_articles        [{'url': 'https://www.docwirenews.com/abstract...\n",
       "Name: 0, dtype: object"
      ]
     },
     "execution_count": 9,
     "metadata": {},
     "output_type": "execute_result"
    }
   ],
   "source": [
    "gnFrame.iloc[0]"
   ]
  },
  {
   "cell_type": "code",
   "execution_count": 10,
   "metadata": {},
   "outputs": [
    {
     "data": {
      "text/plain": [
       "0     COVID-19 vaccine hesitancy in Sweden and Italy...\n",
       "1     Parental hesitancy and childhood COVID vaccina...\n",
       "2     Reasons behind COVID-19 vaccine hesitancy and ...\n",
       "3     Study looks at COVID-19 vaccine hesitancy in F...\n",
       "4     Social media and attitudes towards a COVID-19 ...\n",
       "                            ...                        \n",
       "94    Could computer models be the key to better COV...\n",
       "95    Health workers are among the COVID vaccine hes...\n",
       "96    Marjorie Taylor Greene Says Americans Must Be ...\n",
       "97    COVID vaccine passports boost uptake in countr...\n",
       "98    Is Tinnitus a Rare Side Effect Linked to SARS-...\n",
       "Name: title, Length: 99, dtype: object"
      ]
     },
     "execution_count": 10,
     "metadata": {},
     "output_type": "execute_result"
    }
   ],
   "source": [
    "gnFrame.title"
   ]
  },
  {
   "cell_type": "code",
   "execution_count": 14,
   "metadata": {},
   "outputs": [
    {
     "data": {
      "text/plain": [
       "'https://www.docwirenews.com/abstracts/covid-19-vaccine-hesitancy-in-sweden-and-italy-the-role-of-trust-in-authorities-3/'"
      ]
     },
     "execution_count": 14,
     "metadata": {},
     "output_type": "execute_result"
    }
   ],
   "source": [
    "l =gnFrame.link.iloc[0]\n",
    "l"
   ]
  },
  {
   "cell_type": "code",
   "execution_count": 22,
   "metadata": {},
   "outputs": [
    {
     "data": {
      "text/plain": [
       "{'authors': [],\n",
       " 'date_download': datetime.datetime(2022, 6, 8, 12, 27, 11),\n",
       " 'date_modify': None,\n",
       " 'date_publish': datetime.datetime(2022, 6, 3, 10, 0),\n",
       " 'description': 'Scand J Public Health. 2022 Jun 2:14034948221099410. doi: 10.1177/14034948221099410. Online ahead of print.ABSTRACTBACKGROUND: The success of vaccination',\n",
       " 'filename': 'https%3A%2F%2Fwww.docwirenews.com%2Fabstracts%2Fcovid-19-vaccine-hesitancy-in-sweden-and-italy-the-role-of-trust-in-authorities-3%2F.json',\n",
       " 'image_url': 'https://www.docwirenews.com/wp-content/uploads/2019/04/docwire_og_image.jpg',\n",
       " 'language': 'en',\n",
       " 'localpath': None,\n",
       " 'maintext': 'This article was originally published here\\nScand J Public Health. 2022 Jun 2:14034948221099410. doi: 10.1177/14034948221099410. Online ahead of print.\\nABSTRACT\\nBACKGROUND: The success of vaccination campaigns against COVID-19 infection is vital for moving from a COVID-19 pandemic to an endemic scenario. We aimed to unravel the influence of the risk perception of epidemics along with individual and contextual factors on adherence to COVID-19 vaccination campaigns in Italy and Sweden.\\nMETHODS: We compared the results of two nationwide surveys carried out in August 2021 across four domains of epidemic risk perception: perceived likelihood, perceived impact on the individual and perceived individual and authority knowledge. The roles of individual and contextual determinants were also explored.\\nRESULTS: The survey included 2144 participants in Sweden (52.3% women) and 2010 in Italy (52.6% women). In both countries, we found that trust in authorities was one of the main drivers of this process, with two-fold increased odds of being vaccinated. Being highly educated and having a higher relative income were associated with a higher adherence to the vaccination campaign (for relative income OR = 1.44, 95% CI 1.23-1.67 in Sweden and OR = 1.18, 95% CI 1.04-1.34 in Italy; for education OR = 1.90, 95% CI 1.30-2.77 in Sweden and OR = 1.47, 95% CI 1.09-1.97 in Italy), whereas a right and centre-right compared with a left and centre-left political orientation was negatively related to vaccination adherence (OR = 0.41, 95% CI 0.25-0.67 in Sweden and OR = 0.47, 95% CI 0.33-0.68 in Italy).\\nIncreasing trust in authorities, along with an equal global distribution of vaccine doses, can contribute to accelerating vaccination campaigns around the world and, in turn, to move towards an endemic scenario.\\nPMID:35656576 | DOI:10.1177/14034948221099410',\n",
       " 'source_domain': 'www.docwirenews.com',\n",
       " 'text': None,\n",
       " 'title': 'COVID-19 vaccine hesitancy in Sweden and Italy: The role of trust in authorities',\n",
       " 'title_page': None,\n",
       " 'title_rss': None,\n",
       " 'url': 'https://www.docwirenews.com/abstracts/covid-19-vaccine-hesitancy-in-sweden-and-italy-the-role-of-trust-in-authorities-3/'}"
      ]
     },
     "execution_count": 22,
     "metadata": {},
     "output_type": "execute_result"
    }
   ],
   "source": [
    "article = NewsPlease.from_url(l)\n",
    "article.get_dict()"
   ]
  }
 ],
 "metadata": {
  "kernelspec": {
   "display_name": "Python 3",
   "language": "python",
   "name": "python3"
  },
  "language_info": {
   "codemirror_mode": {
    "name": "ipython",
    "version": 3
   },
   "file_extension": ".py",
   "mimetype": "text/x-python",
   "name": "python",
   "nbconvert_exporter": "python",
   "pygments_lexer": "ipython3",
   "version": "3.8.10"
  }
 },
 "nbformat": 4,
 "nbformat_minor": 4
}
