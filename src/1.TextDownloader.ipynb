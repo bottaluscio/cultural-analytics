{
 "cells": [
  {
   "cell_type": "code",
   "execution_count": 2,
   "id": "5f371051",
   "metadata": {},
   "outputs": [],
   "source": [
    "import numpy as np\n",
    "import pandas as pd\n",
    "import os,time, matplotlib\n",
    "import matplotlib.pyplot as plt\n",
    "import datetime,time,json\n",
    "import multiprocessing\n",
    "\n",
    "from newsplease import NewsPlease\n",
    "from utils import GoogleNews"
   ]
  },
  {
   "cell_type": "code",
   "execution_count": 4,
   "id": "6ff3399b",
   "metadata": {},
   "outputs": [],
   "source": [
    "meta = pd.read_csv('../data/pygooglenews/metadata.csv', sep=',')\n",
    "meta = meta.drop_duplicates(subset=['id'])"
   ]
  },
  {
   "cell_type": "code",
   "execution_count": 6,
   "id": "f9345250",
   "metadata": {},
   "outputs": [
    {
     "data": {
      "text/plain": [
       "(24001, 4)"
      ]
     },
     "execution_count": 6,
     "metadata": {},
     "output_type": "execute_result"
    }
   ],
   "source": [
    "meta.shape"
   ]
  },
  {
   "cell_type": "code",
   "execution_count": 7,
   "id": "21881b1f",
   "metadata": {},
   "outputs": [
    {
     "data": {
      "text/html": [
       "<div>\n",
       "<style scoped>\n",
       "    .dataframe tbody tr th:only-of-type {\n",
       "        vertical-align: middle;\n",
       "    }\n",
       "\n",
       "    .dataframe tbody tr th {\n",
       "        vertical-align: top;\n",
       "    }\n",
       "\n",
       "    .dataframe thead th {\n",
       "        text-align: right;\n",
       "    }\n",
       "</style>\n",
       "<table border=\"1\" class=\"dataframe\">\n",
       "  <thead>\n",
       "    <tr style=\"text-align: right;\">\n",
       "      <th></th>\n",
       "      <th>id</th>\n",
       "      <th>title</th>\n",
       "      <th>link</th>\n",
       "      <th>published</th>\n",
       "    </tr>\n",
       "  </thead>\n",
       "  <tbody>\n",
       "    <tr>\n",
       "      <th>0</th>\n",
       "      <td>113be0cc2d1a225a304211002b25fbb8</td>\n",
       "      <td>Anti-vaccine movement could undermine efforts ...</td>\n",
       "      <td>https://www.nature.com/articles/d41586-020-014...</td>\n",
       "      <td>Wed, 13 May 2020 07:00:00 GMT</td>\n",
       "    </tr>\n",
       "    <tr>\n",
       "      <th>1</th>\n",
       "      <td>331047232ac3c1b44a7c7fd234452e7d</td>\n",
       "      <td>A majority of vaccine skeptics plan to refuse ...</td>\n",
       "      <td>https://theconversation.com/a-majority-of-vacc...</td>\n",
       "      <td>Mon, 04 May 2020 07:00:00 GMT</td>\n",
       "    </tr>\n",
       "    <tr>\n",
       "      <th>2</th>\n",
       "      <td>e19788af8207dbed4cbfb9b4da1eae13</td>\n",
       "      <td>A leading COVID-19 vaccine scientist answers o...</td>\n",
       "      <td>https://www.weforum.org/agenda/2020/05/covid19...</td>\n",
       "      <td>Fri, 01 May 2020 07:00:00 GMT</td>\n",
       "    </tr>\n",
       "    <tr>\n",
       "      <th>3</th>\n",
       "      <td>e7d84595423deac7d6d953d488db98a0</td>\n",
       "      <td>UK's response to covid-19 “too little, too lat...</td>\n",
       "      <td>https://www.bmj.com/company/newsroom/uks-respo...</td>\n",
       "      <td>Fri, 15 May 2020 16:58:07 GMT</td>\n",
       "    </tr>\n",
       "    <tr>\n",
       "      <th>4</th>\n",
       "      <td>c9458976bdc65bf03e05a181fde642a6</td>\n",
       "      <td>Luxembourg mulls mandatory vaccine as Germany ...</td>\n",
       "      <td>https://www.luxtimes.lu/en/luxembourg/luxembou...</td>\n",
       "      <td>Fri, 08 Apr 2022 07:00:00 GMT</td>\n",
       "    </tr>\n",
       "  </tbody>\n",
       "</table>\n",
       "</div>"
      ],
      "text/plain": [
       "                                 id  \\\n",
       "0  113be0cc2d1a225a304211002b25fbb8   \n",
       "1  331047232ac3c1b44a7c7fd234452e7d   \n",
       "2  e19788af8207dbed4cbfb9b4da1eae13   \n",
       "3  e7d84595423deac7d6d953d488db98a0   \n",
       "4  c9458976bdc65bf03e05a181fde642a6   \n",
       "\n",
       "                                               title  \\\n",
       "0  Anti-vaccine movement could undermine efforts ...   \n",
       "1  A majority of vaccine skeptics plan to refuse ...   \n",
       "2  A leading COVID-19 vaccine scientist answers o...   \n",
       "3  UK's response to covid-19 “too little, too lat...   \n",
       "4  Luxembourg mulls mandatory vaccine as Germany ...   \n",
       "\n",
       "                                                link  \\\n",
       "0  https://www.nature.com/articles/d41586-020-014...   \n",
       "1  https://theconversation.com/a-majority-of-vacc...   \n",
       "2  https://www.weforum.org/agenda/2020/05/covid19...   \n",
       "3  https://www.bmj.com/company/newsroom/uks-respo...   \n",
       "4  https://www.luxtimes.lu/en/luxembourg/luxembou...   \n",
       "\n",
       "                       published  \n",
       "0  Wed, 13 May 2020 07:00:00 GMT  \n",
       "1  Mon, 04 May 2020 07:00:00 GMT  \n",
       "2  Fri, 01 May 2020 07:00:00 GMT  \n",
       "3  Fri, 15 May 2020 16:58:07 GMT  \n",
       "4  Fri, 08 Apr 2022 07:00:00 GMT  "
      ]
     },
     "execution_count": 7,
     "metadata": {},
     "output_type": "execute_result"
    }
   ],
   "source": [
    "meta.head()"
   ]
  },
  {
   "cell_type": "code",
   "execution_count": 8,
   "id": "e61565b0",
   "metadata": {},
   "outputs": [
    {
     "data": {
      "text/plain": [
       "'https://www.nature.com/articles/d41586-020-01423-4'"
      ]
     },
     "execution_count": 8,
     "metadata": {},
     "output_type": "execute_result"
    }
   ],
   "source": [
    "l = meta.link.iloc[0]\n",
    "l"
   ]
  },
  {
   "cell_type": "code",
   "execution_count": 9,
   "id": "4d0baa80",
   "metadata": {},
   "outputs": [
    {
     "data": {
      "text/plain": [
       "{'authors': ['Ball', 'Philip Ball', 'You Can Also Search For This Author In'],\n",
       " 'date_download': datetime.datetime(2022, 6, 9, 17, 30, 22),\n",
       " 'date_modify': None,\n",
       " 'date_publish': datetime.datetime(2022, 5, 16, 0, 0),\n",
       " 'description': 'Studies of social networks show that opposition to vaccines is small but far-reaching — and growing.',\n",
       " 'filename': 'https%3A%2F%2Fwww.nature.com%2Farticles%2Fd41586-020-01423-4.json',\n",
       " 'image_url': 'https://media.nature.com/lw1024/magazine-assets/d41586-020-01423-4/d41586-020-01423-4_17977470.jpg',\n",
       " 'language': 'en',\n",
       " 'localpath': None,\n",
       " 'maintext': 'Anti-vaccine placards have appeared at US protests during the pandemic.Credit: Rich Pedroncelli/AP/Shutterstock\\nAs scientists work to create a vaccine against COVID-19, a small but fervent anti-vaccination movement is marshalling against it. Campaigners are seeding outlandish narratives: they falsely say that coronavirus vaccines will be used to implant microchips into people, for instance, and falsely claim that a woman who took part in a UK vaccine trial died. In April, some carried placards with anti-vaccine slogans at rallies in California to protest against the lockdown. Last week, a now-deleted YouTube video promoting wild conspiracy theories about the pandemic and asserting (without evidence) that vaccines would “kill millions” received more than 8 million views.\\nIt’s not known how many people would actually refuse a COVID-19 vaccine — and general support for vaccines remains high. But some researchers studying vaccine-opposition movements say they’re concerned that the messages could undermine efforts to establish herd immunity to the new coronavirus. Online opposition to vaccines has rapidly pivoted to talk of the pandemic, says Neil Johnson, a physicist at George Washington University in Washington DC, who is studying the campaigners’ tactics. “For a lot of these groups, it’s all about COVID now,” he says.\\nGroups opposing vaccines are small in size, but their online-communications strategy is worryingly effective and far-reaching, a report from Johnson’s team suggests. Before the SARS-CoV-2 virus emerged, Johnson’s team began mapping out a network of views on vaccination, on Facebook. They investigated more than 1,300 pages, followed by about 85 million individuals.\\nTheir findings1, published on 13 May, suggest that anti-vaccination pages tend to have fewer followers but are more numerous than pro-vaccination ones, and are more often linked to in discussions on other Facebook pages — such as parent associations at schools — whose stance on vaccination is undecided.\\nIn contrast, pages that explain the benefits of and the scientific case for vaccination are linked in a network that is largely disconnected from this “main battlefield” for public sentiment, as Johnson puts it. During measles outbreaks in 2019, anti-vaccination pages grew more links than did pro-vaccination ones on Facebook, Johnson’s team adds. An extrapolation of current trends using computer simulations suggests that opposition to vaccines might dominate the network of views on vaccines within ten years, they write.\\nSource: Ref 1.\\nThe work shows that “the pro-vaccine community are basically sticking to their narrative and talking to each other, and not reaching out and being responsive to the narratives that are out there among the undecided,” says Heidi Larson, who directs the Vaccine Confidence Project, a group that monitors public trust in vaccines, at the London School of Hygiene and Tropical Medicine.\\nThe issue isn’t confined to Facebook. On 1 April, Johnson’s team released a preprint of a separate study2 on online messaging about COVID-19. That report, which has not yet been peer-reviewed, suggests that links are growing across different social-media platforms between anti-vaccine groups debating COVID-19 and other interest groups, such as far-right extremists.\\nCountering the spread of anti-vaccine sentiment will involve understanding not just the shape of the online map, but of how it got that way, says Bruce Gellin, president of global immunization at the Sabin Vaccine Institute in Washington DC. “We need to understand what it is about the conversations and content [around anti-vaccination] that compels people to listen and share it with others,” he says.\\nVaried, emotive messages\\nPro-vaccine groups have a simple message — vaccines work and save lives. Anti-vaccine narratives are numerous: from sowing worries about children’s health to advocating alternative medicines and linking immunizations to conspiracy theories. And the anti-vaccination messages are spread across many more Facebook clusters than are those from the larger pro-vaccine groups. Johnson says these features echo those his team has found in earlier studies of insurgency networks in conflict zones, where insurgents could often embed themselves deeply into existing social networks.\\nAnti-vaccine campaigners tend to win converts with personalized, emotive messages, says Larson; these are built not necessarily on fear (“Vaccines will kill you.”), but on appeals to the heart (“Do you love your children?”). The public-health community, meanwhile, has simply been trying to get more people vaccinated, she says — which might lead to a feeling that they are just trying to get their numbers up. “The approach needs to be quite different with people who are undecided,” she says. Vaccine-advocacy organizations are “not listening to concerns and questions”.\\nOverall, most people support vaccines, points out Gellin, and are likely to do so in this pandemic. Still, global vaccination rates have plateaued in the past two decades, Larson says. Both she and Gellin worry that another reason for public suspicion about a COVID-19 vaccine might be the speed of its development. “We should be very clear and transparent about the development process,” says Gellin. “Otherwise, when it shows up, people will ask ‘how can we be sure no shortcuts were taken?’”\\nThe messaging around a vaccine will also need to be carefully thought out. If there’s already fewer COVID-19 infections by then, it’s going to be a hard sell, says Larson. “The thing that’s going to change people’s minds is if the government says that if you have the vaccine, you can go to work”, she says.',\n",
       " 'source_domain': 'www.nature.com',\n",
       " 'text': None,\n",
       " 'title': 'Anti-vaccine movement could undermine efforts to end coronavirus pandemic, researchers warn',\n",
       " 'title_page': None,\n",
       " 'title_rss': None,\n",
       " 'url': 'https://www.nature.com/articles/d41586-020-01423-4'}"
      ]
     },
     "execution_count": 9,
     "metadata": {},
     "output_type": "execute_result"
    }
   ],
   "source": [
    "article = NewsPlease.from_url(l)\n",
    "article.get_dict()"
   ]
  },
  {
   "cell_type": "code",
   "execution_count": null,
   "id": "f5d9652f",
   "metadata": {
    "scrolled": true
   },
   "outputs": [
    {
     "name": "stderr",
     "output_type": "stream",
     "text": [
      "not a 200 response: 451\n"
     ]
    },
    {
     "name": "stdout",
     "output_type": "stream",
     "text": [
      "Error while processing https://myfox8.com/news/north-carolina/should-covid-19-vaccine-be-required-for-17-year-olds-nc-health-commission-to-consider-petition-for-mandate/\n",
      "You must `download()` an article first!\n"
     ]
    },
    {
     "name": "stderr",
     "output_type": "stream",
     "text": [
      "not a 200 response: 503\n"
     ]
    },
    {
     "name": "stdout",
     "output_type": "stream",
     "text": [
      "Error while processing https://associationofanaesthetists-publications.onlinelibrary.wiley.com/doi/full/10.1111/anae.15699\n",
      "You must `download()` an article first!\n"
     ]
    },
    {
     "name": "stderr",
     "output_type": "stream",
     "text": [
      "/home/rba/Projects/cultural-analytics/venv_culturalanalytics/lib/python3.8/site-packages/dateutil/parser/_parser.py:1207: UnknownTimezoneWarning: tzname PST identified but not understood.  Pass `tzinfos` argument in order to correctly return a timezone-aware datetime.  In a future version, this will raise an exception.\n",
      "  warnings.warn(\"tzname {tzname} identified but not understood.  \"\n",
      "not a 200 response: 503\n"
     ]
    },
    {
     "name": "stdout",
     "output_type": "stream",
     "text": [
      "Error while processing https://soyacincau.com/2022/02/02/pickids-covid-19-vaccine-children-malaysia-how-to-book-appointment-vaccine-slot/\n",
      "You must `download()` an article first!\n"
     ]
    },
    {
     "name": "stderr",
     "output_type": "stream",
     "text": [
      "not a 200 response: 503\n"
     ]
    },
    {
     "name": "stdout",
     "output_type": "stream",
     "text": [
      "Error while processing https://onlinelibrary.wiley.com/doi/10.1111/jcms.13259\n",
      "You must `download()` an article first!\n"
     ]
    },
    {
     "name": "stderr",
     "output_type": "stream",
     "text": [
      "not a 200 response: 403\n"
     ]
    },
    {
     "name": "stdout",
     "output_type": "stream",
     "text": [
      "Error while processing https://www.ipsos.com/en-ca/news-polls/Two-Three-Canadians-Believe-Fully-Vaccinated-Population-Not-Enough-Stop-Omicron\n",
      "You must `download()` an article first!\n"
     ]
    },
    {
     "name": "stderr",
     "output_type": "stream",
     "text": [
      "not a 200 response: 403\n"
     ]
    },
    {
     "name": "stdout",
     "output_type": "stream",
     "text": [
      "Error while processing https://www.ipsos.com/en-ca/news-polls/One-in-Five-Canadians-Never-Comfortable-Without-Masks-Vaccine-Mandates\n",
      "You must `download()` an article first!\n"
     ]
    },
    {
     "name": "stderr",
     "output_type": "stream",
     "text": [
      "not a 200 response: 451\n"
     ]
    },
    {
     "name": "stdout",
     "output_type": "stream",
     "text": [
      "Error while processing https://www.thederrick.com/ap/business/novavax-hopes-its-covid-shot-wins-over-fda-vaccine-holdouts/article_5399a296-75da-533c-a119-2149812663f8.html\n",
      "You must `download()` an article first!\n"
     ]
    },
    {
     "name": "stderr",
     "output_type": "stream",
     "text": [
      "not a 200 response: 503\n"
     ]
    },
    {
     "name": "stdout",
     "output_type": "stream",
     "text": [
      "Error while processing https://www.pnas.org/doi/10.1073/pnas.2119266119\n",
      "You must `download()` an article first!\n"
     ]
    },
    {
     "name": "stderr",
     "output_type": "stream",
     "text": [
      "not a 200 response: 403\n"
     ]
    },
    {
     "name": "stdout",
     "output_type": "stream",
     "text": [
      "Error while processing https://www.newscentermaine.com/article/news/health/coronavirus/list-of-maine-stores-lifting-covid-19-mask-mandates-for-the-fully-vaccinated/97-b4a58241-e5d8-45d7-8f26-bb61e2009383\n",
      "You must `download()` an article first!\n"
     ]
    },
    {
     "name": "stderr",
     "output_type": "stream",
     "text": [
      "not a 200 response: 503\n"
     ]
    },
    {
     "name": "stdout",
     "output_type": "stream",
     "text": [
      "Error while processing https://onlinelibrary.wiley.com/doi/10.1111/jan.15222\n",
      "You must `download()` an article first!\n"
     ]
    },
    {
     "name": "stderr",
     "output_type": "stream",
     "text": [
      "not a 200 response: 503\n"
     ]
    },
    {
     "name": "stdout",
     "output_type": "stream",
     "text": [
      "Error while processing https://www.thelancet.com/article/S0140-6736(22)00008-3/fulltext\n",
      "You must `download()` an article first!\n"
     ]
    },
    {
     "name": "stderr",
     "output_type": "stream",
     "text": [
      "not a 200 response: 503\n"
     ]
    },
    {
     "name": "stdout",
     "output_type": "stream",
     "text": [
      "Error while processing https://www.science.org/doi/10.1126/scitranslmed.abn4342\n",
      "You must `download()` an article first!\n"
     ]
    },
    {
     "name": "stderr",
     "output_type": "stream",
     "text": [
      "not a 200 response: 503\n"
     ]
    },
    {
     "name": "stdout",
     "output_type": "stream",
     "text": [
      "Error while processing https://onlinelibrary.wiley.com/doi/10.1002/ana.26339\n",
      "You must `download()` an article first!\n"
     ]
    },
    {
     "name": "stderr",
     "output_type": "stream",
     "text": [
      "not a 200 response: 503\n"
     ]
    },
    {
     "name": "stdout",
     "output_type": "stream",
     "text": [
      "Error while processing https://onlinelibrary.wiley.com/doi/10.1002/iid3.606\n",
      "You must `download()` an article first!\n"
     ]
    },
    {
     "name": "stderr",
     "output_type": "stream",
     "text": [
      "not a 200 response: 451\n"
     ]
    },
    {
     "name": "stdout",
     "output_type": "stream",
     "text": [
      "Error while processing https://www.wvnews.com/morgantownnews/news/west-virginia-university-faculty-vote-in-favor-of-mandatory-covid-19-vaccine-mandate/article_65bee3d4-0cc4-11ec-b5fe-fbf40b555ba7.html\n",
      "You must `download()` an article first!\n"
     ]
    },
    {
     "name": "stderr",
     "output_type": "stream",
     "text": [
      "not a 200 response: 503\n"
     ]
    },
    {
     "name": "stdout",
     "output_type": "stream",
     "text": [
      "Error while processing https://onlinelibrary.wiley.com/doi/10.1111/nuf.12715\n",
      "You must `download()` an article first!\n"
     ]
    },
    {
     "name": "stderr",
     "output_type": "stream",
     "text": [
      "not a 200 response: 451\n"
     ]
    },
    {
     "name": "stdout",
     "output_type": "stream",
     "text": [
      "Error while processing https://www.kezi.com/news/local/local-governments-urge-but-don-t-require-vaccine-for-employees/article_68711e9a-ecc6-5919-8f5e-62a21f32a739.html\n",
      "You must `download()` an article first!\n"
     ]
    },
    {
     "name": "stderr",
     "output_type": "stream",
     "text": [
      "not a 200 response: 403\n"
     ]
    },
    {
     "name": "stdout",
     "output_type": "stream",
     "text": [
      "Error while processing https://lloydslist.maritimeintelligence.informa.com/LL1138186/Industry-mulls-compulsory-seafarer-vaccination\n",
      "You must `download()` an article first!\n"
     ]
    },
    {
     "name": "stderr",
     "output_type": "stream",
     "text": [
      "not a 200 response: 451\n"
     ]
    },
    {
     "name": "stdout",
     "output_type": "stream",
     "text": [
      "Error while processing https://www.daily-journal.com/news/local/hundreds-gather-for-talk-opposing-vaccine-mandates/article_fd91eee8-0a05-11ec-a913-8b91d166fa5f.html\n",
      "You must `download()` an article first!\n"
     ]
    },
    {
     "name": "stderr",
     "output_type": "stream",
     "text": [
      "not a 200 response: 451\n"
     ]
    },
    {
     "name": "stdout",
     "output_type": "stream",
     "text": [
      "Error while processing https://www.centralillinoisproud.com/news/local-news/minier-nurse-organizes-springfield-protest-wednesday-saying-getting-vaccinated-should-be-everyones-choice/\n",
      "You must `download()` an article first!\n"
     ]
    },
    {
     "name": "stderr",
     "output_type": "stream",
     "text": [
      "not a 200 response: 451\n"
     ]
    },
    {
     "name": "stdout",
     "output_type": "stream",
     "text": [
      "Error while processing https://www.heraldandnews.com/news/local_news/vaccine-mandate-a-step-too-far-for-some/article_07d7852a-022d-50c8-aeaa-5d9ce54ce132.html\n",
      "You must `download()` an article first!\n"
     ]
    },
    {
     "name": "stderr",
     "output_type": "stream",
     "text": [
      "not a 200 response: 503\n"
     ]
    },
    {
     "name": "stdout",
     "output_type": "stream",
     "text": [
      "Error while processing https://www.thelancet.com/journals/lancet/article/PIIS0140-6736(21)00267-1/fulltext\n",
      "You must `download()` an article first!\n"
     ]
    },
    {
     "name": "stderr",
     "output_type": "stream",
     "text": [
      "not a 200 response: 451\n"
     ]
    },
    {
     "name": "stdout",
     "output_type": "stream",
     "text": [
      "Error while processing https://www.daily-journal.com/news/local/riverside-denies-religious-exemptions-for-covid-vaccinations/article_388feeb0-19a0-11ec-84ac-23aaa5bcad69.html\n",
      "You must `download()` an article first!\n"
     ]
    },
    {
     "name": "stderr",
     "output_type": "stream",
     "text": [
      "not a 200 response: 451\n"
     ]
    },
    {
     "name": "stdout",
     "output_type": "stream",
     "text": [
      "Error while processing https://www.gwinnettdailypost.com/local/gwinnett-county-public-schools-offering-500-incentive-to-staff-members-who-are-vaccinated/article_a9ae7e62-0c2c-11ec-8b23-ab6c11538b98.html\n",
      "You must `download()` an article first!\n"
     ]
    },
    {
     "name": "stderr",
     "output_type": "stream",
     "text": [
      "not a 200 response: 451\n"
     ]
    },
    {
     "name": "stdout",
     "output_type": "stream",
     "text": [
      "Error while processing https://www.kitv.com/archive/illinois-woman-charged-for-using-fake-covid-19-vaccine-card-to-bypass-states-mandatory-quarantine/article_92621e29-abc9-5b9e-be22-7734f17a6c2b.html\n",
      "You must `download()` an article first!\n"
     ]
    },
    {
     "name": "stderr",
     "output_type": "stream",
     "text": [
      "error getting summary: \n",
      "Traceback (most recent call last):\n",
      "  File \"/home/rba/Projects/cultural-analytics/venv_culturalanalytics/lib/python3.8/site-packages/readability/readability.py\", line 213, in summary\n",
      "    self._html(True)\n",
      "  File \"/home/rba/Projects/cultural-analytics/venv_culturalanalytics/lib/python3.8/site-packages/readability/readability.py\", line 148, in _html\n",
      "    self.html = self._parse(self.input)\n",
      "  File \"/home/rba/Projects/cultural-analytics/venv_culturalanalytics/lib/python3.8/site-packages/readability/readability.py\", line 157, in _parse\n",
      "    doc, self.encoding = build_doc(input)\n",
      "  File \"/home/rba/Projects/cultural-analytics/venv_culturalanalytics/lib/python3.8/site-packages/readability/htmls.py\", line 21, in build_doc\n",
      "    doc = lxml.html.document_fromstring(\n",
      "  File \"/home/rba/Projects/cultural-analytics/venv_culturalanalytics/lib/python3.8/site-packages/lxml/html/__init__.py\", line 761, in document_fromstring\n",
      "    raise etree.ParserError(\n",
      "lxml.etree.ParserError: Document is empty\n"
     ]
    },
    {
     "name": "stdout",
     "output_type": "stream",
     "text": [
      "Error while processing https://www.haaretz.com/israel-news/2021-08-03/ty-article/israel-adds-18-countries-to-arrivals-quarantine-list/0000017f-e0e6-d75c-a7ff-fcef45f60000\n",
      "Document is empty\n"
     ]
    },
    {
     "name": "stderr",
     "output_type": "stream",
     "text": [
      "not a 200 response: 403\n"
     ]
    },
    {
     "name": "stdout",
     "output_type": "stream",
     "text": [
      "Error while processing https://local12.com/news/nation-world/satire-fuels-false-claims-of-quarantine-camps-for-unvaccinated-in-us-president-joe-biden-vaccinated-idaho-school-covid-hospitalizations-canada-does-not-ban-vaccinated-pilots-from-flying-thunberg-sticker-on-car-french-flag-photo-world-cup-celebration\n",
      "You must `download()` an article first!\n"
     ]
    },
    {
     "name": "stderr",
     "output_type": "stream",
     "text": [
      "not a 200 response: 451\n"
     ]
    },
    {
     "name": "stdout",
     "output_type": "stream",
     "text": [
      "Error while processing https://www.daily-journal.com/news/coronavirus/coronavirus-local/amita-health-requiring-employees-to-be-covid-19-vaccinated/article_1ed8b318-050e-11ec-a786-0bc7860b5cbc.html\n",
      "You must `download()` an article first!\n"
     ]
    },
    {
     "name": "stderr",
     "output_type": "stream",
     "text": [
      "not a 200 response: 403\n"
     ]
    },
    {
     "name": "stdout",
     "output_type": "stream",
     "text": [
      "Error while processing https://www.devex.com/news/africans-view-covid-19-vaccines-as-less-safe-than-other-vaccines-99451\n",
      "You must `download()` an article first!\n"
     ]
    },
    {
     "name": "stderr",
     "output_type": "stream",
     "text": [
      "not a 200 response: 451\n"
     ]
    },
    {
     "name": "stdout",
     "output_type": "stream",
     "text": [
      "Error while processing https://www.idahopress.com/news/local/idaho-governor-defends-not-issuing-a-vaccine-mandate-as-covid-19-cases-surge-people-have/article_e75cf9f9-0d2d-5ca0-8abc-0aaaa2e792c8.html\n",
      "You must `download()` an article first!\n"
     ]
    },
    {
     "name": "stderr",
     "output_type": "stream",
     "text": [
      "not a 200 response: 451\n"
     ]
    },
    {
     "name": "stdout",
     "output_type": "stream",
     "text": [
      "Error while processing https://www.gwinnettdailypost.com/multimedia/slideshows/history-of-vaccine-mandates-in-the-us/collection_9b3a8578-938d-5d18-ab25-a5416e8f0d84.html\n",
      "You must `download()` an article first!\n"
     ]
    },
    {
     "name": "stderr",
     "output_type": "stream",
     "text": [
      "not a 200 response: 451\n"
     ]
    },
    {
     "name": "stdout",
     "output_type": "stream",
     "text": [
      "Error while processing https://www.sentinelsource.com/news/local/milliporesigma-requires-employees-to-be-vaccinated-ahead-of-federal-mandate/article_c1a5d9f1-d7a7-5542-a951-481571b22489.html\n",
      "You must `download()` an article first!\n"
     ]
    },
    {
     "name": "stderr",
     "output_type": "stream",
     "text": [
      "not a 200 response: 403\n"
     ]
    },
    {
     "name": "stdout",
     "output_type": "stream",
     "text": [
      "Error while processing https://www.king5.com/article/news/health/coronavirus/jay-inslee-washington-covid-mask-update/281-ccbd653b-ac64-4330-854c-44a632b31142\n",
      "You must `download()` an article first!\n"
     ]
    },
    {
     "name": "stderr",
     "output_type": "stream",
     "text": [
      "not a 200 response: 503\n"
     ]
    },
    {
     "name": "stdout",
     "output_type": "stream",
     "text": [
      "Error while processing https://onlinelibrary.wiley.com/doi/10.1111/tid.13803\n",
      "You must `download()` an article first!\n"
     ]
    },
    {
     "name": "stderr",
     "output_type": "stream",
     "text": [
      "/home/rba/Projects/cultural-analytics/venv_culturalanalytics/lib/python3.8/site-packages/dateutil/parser/_parser.py:1207: UnknownTimezoneWarning: tzname EET identified but not understood.  Pass `tzinfos` argument in order to correctly return a timezone-aware datetime.  In a future version, this will raise an exception.\n",
      "  warnings.warn(\"tzname {tzname} identified but not understood.  \"\n",
      "not a 200 response: 451\n"
     ]
    },
    {
     "name": "stdout",
     "output_type": "stream",
     "text": [
      "Error while processing https://www.hngnews.com/cambridge_deerfield/article_9cf2ae56-98c1-11ec-b810-c323bdc0b917.html\n",
      "You must `download()` an article first!\n"
     ]
    },
    {
     "name": "stderr",
     "output_type": "stream",
     "text": [
      "not a 200 response: 451\n"
     ]
    },
    {
     "name": "stdout",
     "output_type": "stream",
     "text": [
      "Error while processing https://www.idahopress.com/news/local/crowd-gathers-in-boise-to-protest-covid-19-mandates-support-truckers/article_635a2d23-f548-5955-b896-d35e66402044.html\n",
      "You must `download()` an article first!\n"
     ]
    },
    {
     "name": "stderr",
     "output_type": "stream",
     "text": [
      "not a 200 response: 451\n"
     ]
    },
    {
     "name": "stdout",
     "output_type": "stream",
     "text": [
      "Error while processing https://www.thederrick.com/ap/world/new-floods-in-eastern-south-africa-displace-more-than-300/article_9f0ba69c-73aa-5bf4-94b5-fe1521e2780a.html\n",
      "You must `download()` an article first!\n"
     ]
    },
    {
     "name": "stderr",
     "output_type": "stream",
     "text": [
      "/home/rba/Projects/cultural-analytics/venv_culturalanalytics/lib/python3.8/site-packages/bs4/builder/__init__.py:545: XMLParsedAsHTMLWarning: It looks like you're parsing an XML document using an HTML parser. If this really is an HTML document (maybe it's XHTML?), you can ignore or filter this warning. If it's XML, you should know that using an XML parser will be more reliable. To parse this document as XML, make sure you have the lxml package installed, and pass the keyword argument `features=\"xml\"` into the BeautifulSoup constructor.\n",
      "  warnings.warn(\n",
      "not a 200 response: 451\n"
     ]
    },
    {
     "name": "stdout",
     "output_type": "stream",
     "text": [
      "Error while processing https://www.thederrick.com/ap/national/new-timeline-of-texas-school-shooting-includes-student-911-calls-as-officers-wait-outside/article_e02e8a4a-ed50-5982-bb98-f2f889bfca8f.html\n",
      "You must `download()` an article first!\n"
     ]
    },
    {
     "name": "stderr",
     "output_type": "stream",
     "text": [
      "not a 200 response: 451\n"
     ]
    },
    {
     "name": "stdout",
     "output_type": "stream",
     "text": [
      "Error while processing https://www.thederrick.com/ap/business/woman-gets-15-months-in-prison-for-punching-flight-attendant/article_5abdb313-bff5-5b73-9956-ef61082de902.html\n",
      "You must `download()` an article first!\n"
     ]
    },
    {
     "name": "stderr",
     "output_type": "stream",
     "text": [
      "not a 200 response: 451\n"
     ]
    },
    {
     "name": "stdout",
     "output_type": "stream",
     "text": [
      "Error while processing https://www.thederrick.com/ap/national/video-released-of-shooting-of-louisville-man-by-us-marshal/article_59736f8b-79b8-50ad-b3ca-de5931deebca.html\n",
      "You must `download()` an article first!\n"
     ]
    },
    {
     "name": "stderr",
     "output_type": "stream",
     "text": [
      "not a 200 response: 451\n"
     ]
    },
    {
     "name": "stdout",
     "output_type": "stream",
     "text": [
      "Error while processing https://www.thederrick.com/ap/world/relentless-russia-squeezes-ukrainian-strongholds-in-east/article_d17cb40f-4a20-5954-b4df-5ae3ace46a1f.html\n",
      "You must `download()` an article first!\n"
     ]
    },
    {
     "name": "stderr",
     "output_type": "stream",
     "text": [
      "not a 200 response: 451\n"
     ]
    },
    {
     "name": "stdout",
     "output_type": "stream",
     "text": [
      "Error while processing https://www.thederrick.com/ap/business/california-new-zealand-announce-climate-change-partnership/article_546b5a7c-9cb3-5cab-a4ae-480c76f70764.html\n",
      "You must `download()` an article first!\n"
     ]
    },
    {
     "name": "stderr",
     "output_type": "stream",
     "text": [
      "not a 200 response: 451\n"
     ]
    },
    {
     "name": "stdout",
     "output_type": "stream",
     "text": [
      "Error while processing https://www.thederrick.com/ap/national/feds-interview-georgia-republicans-who-refused-to-serve-as-fake-electors/article_0174efcc-2cdf-5c57-98bd-86c7663dd107.html\n",
      "You must `download()` an article first!\n"
     ]
    },
    {
     "name": "stderr",
     "output_type": "stream",
     "text": [
      "not a 200 response: 451\n"
     ]
    },
    {
     "name": "stdout",
     "output_type": "stream",
     "text": [
      "Error while processing https://www.chronicleonline.com/lifestyle/entertainment/good-times-whitney-houston-tribute-more/article_443b0872-857a-5d46-9b08-66e3653cd76d.html\n",
      "You must `download()` an article first!\n"
     ]
    },
    {
     "name": "stderr",
     "output_type": "stream",
     "text": [
      "not a 200 response: 451\n"
     ]
    },
    {
     "name": "stdout",
     "output_type": "stream",
     "text": [
      "Error while processing https://www.ozarksfirst.com/local-news/national-news/100-years-of-military-history/\n",
      "You must `download()` an article first!\n"
     ]
    },
    {
     "name": "stderr",
     "output_type": "stream",
     "text": [
      "/home/rba/Projects/cultural-analytics/venv_culturalanalytics/lib/python3.8/site-packages/dateutil/parser/_parser.py:1207: UnknownTimezoneWarning: tzname EDT identified but not understood.  Pass `tzinfos` argument in order to correctly return a timezone-aware datetime.  In a future version, this will raise an exception.\n",
      "  warnings.warn(\"tzname {tzname} identified but not understood.  \"\n",
      "error getting summary: \n",
      "Traceback (most recent call last):\n",
      "  File \"/home/rba/Projects/cultural-analytics/venv_culturalanalytics/lib/python3.8/site-packages/readability/readability.py\", line 213, in summary\n",
      "    self._html(True)\n",
      "  File \"/home/rba/Projects/cultural-analytics/venv_culturalanalytics/lib/python3.8/site-packages/readability/readability.py\", line 148, in _html\n",
      "    self.html = self._parse(self.input)\n",
      "  File \"/home/rba/Projects/cultural-analytics/venv_culturalanalytics/lib/python3.8/site-packages/readability/readability.py\", line 157, in _parse\n",
      "    doc, self.encoding = build_doc(input)\n",
      "  File \"/home/rba/Projects/cultural-analytics/venv_culturalanalytics/lib/python3.8/site-packages/readability/htmls.py\", line 21, in build_doc\n",
      "    doc = lxml.html.document_fromstring(\n",
      "  File \"/home/rba/Projects/cultural-analytics/venv_culturalanalytics/lib/python3.8/site-packages/lxml/html/__init__.py\", line 761, in document_fromstring\n",
      "    raise etree.ParserError(\n",
      "lxml.etree.ParserError: Document is empty\n"
     ]
    },
    {
     "name": "stdout",
     "output_type": "stream",
     "text": [
      "Error while processing https://www.haaretz.com/israel-news/2021-08-29/ty-article/israel-expands-booster-pfizer-vaccine-campaign-all-no-quarantine-delta/0000017f-f3f8-d497-a1ff-f3f81a150000\n",
      "Document is empty\n"
     ]
    },
    {
     "name": "stderr",
     "output_type": "stream",
     "text": [
      "not a 200 response: 451\n"
     ]
    },
    {
     "name": "stdout",
     "output_type": "stream",
     "text": [
      "Error while processing https://www.thedaonline.com/opinion/opinion-wvu-should-mandate-the-vaccine-in-dorms/article_715e04ac-1653-11ec-b027-d3795590ae90.html\n",
      "You must `download()` an article first!\n"
     ]
    },
    {
     "name": "stderr",
     "output_type": "stream",
     "text": [
      "not a 200 response: 503\n"
     ]
    },
    {
     "name": "stdout",
     "output_type": "stream",
     "text": [
      "Error while processing https://www.thelancet.com/journals/lanepe/article/PIIS2666-7762(22)00052-7/fulltext\n",
      "You must `download()` an article first!\n"
     ]
    },
    {
     "name": "stderr",
     "output_type": "stream",
     "text": [
      "not a 200 response: 503\n"
     ]
    },
    {
     "name": "stdout",
     "output_type": "stream",
     "text": [
      "Error while processing https://onlinelibrary.wiley.com/doi/full/10.5694/mja2.51500\n",
      "You must `download()` an article first!\n"
     ]
    },
    {
     "name": "stderr",
     "output_type": "stream",
     "text": [
      "not a 200 response: 503\n"
     ]
    },
    {
     "name": "stdout",
     "output_type": "stream",
     "text": [
      "Error while processing https://onlinelibrary.wiley.com/doi/10.1111/jwip.12223\n",
      "You must `download()` an article first!\n"
     ]
    },
    {
     "name": "stderr",
     "output_type": "stream",
     "text": [
      "not a 200 response: 503\n"
     ]
    },
    {
     "name": "stdout",
     "output_type": "stream",
     "text": [
      "Error while processing https://www.freemalaysiatoday.com/category/nation/2022/04/18/second-booster-not-compulsory-for-seniors-says-kj/\n",
      "You must `download()` an article first!\n"
     ]
    },
    {
     "name": "stderr",
     "output_type": "stream",
     "text": [
      "not a 200 response: 503\n"
     ]
    },
    {
     "name": "stdout",
     "output_type": "stream",
     "text": [
      "Error while processing https://www.capradio.org/articles/2022/04/29/california-coronavirus-updates-april-2022/\n",
      "You must `download()` an article first!\n"
     ]
    },
    {
     "name": "stderr",
     "output_type": "stream",
     "text": [
      "not a 200 response: 403\n"
     ]
    },
    {
     "name": "stdout",
     "output_type": "stream",
     "text": [
      "Error while processing https://www.nst.com.my/news/nation/2022/04/788860/4th-covid-19-vaccine-shot-do-you-need-one\n",
      "You must `download()` an article first!\n"
     ]
    },
    {
     "name": "stderr",
     "output_type": "stream",
     "text": [
      "not a 200 response: 451\n"
     ]
    },
    {
     "name": "stdout",
     "output_type": "stream",
     "text": [
      "Error while processing https://www.wkrg.com/mobile-county/pediatric-covid-19-vaccine-available-at-some-alabama-gulf-coast-locations/\n",
      "You must `download()` an article first!\n"
     ]
    },
    {
     "name": "stderr",
     "output_type": "stream",
     "text": [
      "not a 200 response: 451\n"
     ]
    },
    {
     "name": "stdout",
     "output_type": "stream",
     "text": [
      "Error while processing https://www.hjnews.com/news/covid19/nurses-dozens-of-others-protest-covid-19-vaccine-mandates-in-logan/article_c66c1647-b748-5561-9338-2ac13d359e4c.html\n",
      "You must `download()` an article first!\n"
     ]
    },
    {
     "name": "stderr",
     "output_type": "stream",
     "text": [
      "not a 200 response: 451\n"
     ]
    },
    {
     "name": "stdout",
     "output_type": "stream",
     "text": [
      "Error while processing https://www.kezi.com/news/health/sesame-streets-rosita-gets-her-first-covid-19-vaccine-dose/article_b48c839c-c57a-524a-ab95-b8502a402f98.html\n",
      "You must `download()` an article first!\n"
     ]
    },
    {
     "name": "stderr",
     "output_type": "stream",
     "text": [
      "encoding error: utf8 / UTF-8\n",
      "not a 200 response: 416\n"
     ]
    },
    {
     "name": "stdout",
     "output_type": "stream",
     "text": [
      "Error while processing https://theparadise.ng/is-frances-high-authority-of-health-starting-to-panic-over-vaccine-side-effects/\n",
      "You must `download()` an article first!\n"
     ]
    }
   ],
   "source": [
    "def textDownloader(row):\n",
    "    row = row.to_dict()\n",
    "    try:\n",
    "        with open(f\"../data/articles/{row['id']}.json\", \"x\") as file:\n",
    "            q = NewsPlease.from_url(row['link'])\n",
    "            row['maintext'] = q.maintext\n",
    "            json.dump(row, file)\n",
    "            time.sleep(0.1)\n",
    "    except FileExistsError as e1:\n",
    "        pass\n",
    "    except Exception as e:\n",
    "        print('Error while processing',row['link'])\n",
    "        print(e)\n",
    "\n",
    "    \n",
    "def main():\n",
    "    pool = multiprocessing.Pool(5)\n",
    "    pool.map(textDownloader, [meta.loc[x] for x in meta.index])\n",
    "    \n",
    "main()"
   ]
  }
 ],
 "metadata": {
  "kernelspec": {
   "display_name": "Python 3",
   "language": "python",
   "name": "python3"
  },
  "language_info": {
   "codemirror_mode": {
    "name": "ipython",
    "version": 3
   },
   "file_extension": ".py",
   "mimetype": "text/x-python",
   "name": "python",
   "nbconvert_exporter": "python",
   "pygments_lexer": "ipython3",
   "version": "3.8.10"
  }
 },
 "nbformat": 4,
 "nbformat_minor": 5
}
