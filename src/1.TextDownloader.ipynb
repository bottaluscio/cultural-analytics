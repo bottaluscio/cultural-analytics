{
 "cells": [
  {
   "cell_type": "code",
   "execution_count": 1,
   "id": "5f371051",
   "metadata": {},
   "outputs": [],
   "source": [
    "import numpy as np\n",
    "import pandas as pd\n",
    "import os,time, matplotlib\n",
    "import matplotlib.pyplot as plt\n",
    "import datetime,time,json\n",
    "import multiprocessing\n",
    "\n",
    "from newsplease import NewsPlease\n",
    "from utils import GoogleNews"
   ]
  },
  {
   "cell_type": "code",
   "execution_count": 2,
   "id": "6ff3399b",
   "metadata": {},
   "outputs": [],
   "source": [
    "meta = pd.read_csv('../data/pygooglenews/metadata.csv', sep=',')\n",
    "meta = meta.drop_duplicates(subset=['id'])"
   ]
  },
  {
   "cell_type": "code",
   "execution_count": 3,
   "id": "f9345250",
   "metadata": {},
   "outputs": [
    {
     "data": {
      "text/plain": [
       "(24001, 4)"
      ]
     },
     "execution_count": 3,
     "metadata": {},
     "output_type": "execute_result"
    }
   ],
   "source": [
    "meta.shape"
   ]
  },
  {
   "cell_type": "code",
   "execution_count": 4,
   "id": "21881b1f",
   "metadata": {},
   "outputs": [
    {
     "data": {
      "text/html": [
       "<div>\n",
       "<style scoped>\n",
       "    .dataframe tbody tr th:only-of-type {\n",
       "        vertical-align: middle;\n",
       "    }\n",
       "\n",
       "    .dataframe tbody tr th {\n",
       "        vertical-align: top;\n",
       "    }\n",
       "\n",
       "    .dataframe thead th {\n",
       "        text-align: right;\n",
       "    }\n",
       "</style>\n",
       "<table border=\"1\" class=\"dataframe\">\n",
       "  <thead>\n",
       "    <tr style=\"text-align: right;\">\n",
       "      <th></th>\n",
       "      <th>id</th>\n",
       "      <th>title</th>\n",
       "      <th>link</th>\n",
       "      <th>published</th>\n",
       "    </tr>\n",
       "  </thead>\n",
       "  <tbody>\n",
       "    <tr>\n",
       "      <th>0</th>\n",
       "      <td>113be0cc2d1a225a304211002b25fbb8</td>\n",
       "      <td>Anti-vaccine movement could undermine efforts ...</td>\n",
       "      <td>https://www.nature.com/articles/d41586-020-014...</td>\n",
       "      <td>Wed, 13 May 2020 07:00:00 GMT</td>\n",
       "    </tr>\n",
       "    <tr>\n",
       "      <th>1</th>\n",
       "      <td>331047232ac3c1b44a7c7fd234452e7d</td>\n",
       "      <td>A majority of vaccine skeptics plan to refuse ...</td>\n",
       "      <td>https://theconversation.com/a-majority-of-vacc...</td>\n",
       "      <td>Mon, 04 May 2020 07:00:00 GMT</td>\n",
       "    </tr>\n",
       "    <tr>\n",
       "      <th>2</th>\n",
       "      <td>e19788af8207dbed4cbfb9b4da1eae13</td>\n",
       "      <td>A leading COVID-19 vaccine scientist answers o...</td>\n",
       "      <td>https://www.weforum.org/agenda/2020/05/covid19...</td>\n",
       "      <td>Fri, 01 May 2020 07:00:00 GMT</td>\n",
       "    </tr>\n",
       "    <tr>\n",
       "      <th>3</th>\n",
       "      <td>e7d84595423deac7d6d953d488db98a0</td>\n",
       "      <td>UK's response to covid-19 “too little, too lat...</td>\n",
       "      <td>https://www.bmj.com/company/newsroom/uks-respo...</td>\n",
       "      <td>Fri, 15 May 2020 16:58:07 GMT</td>\n",
       "    </tr>\n",
       "    <tr>\n",
       "      <th>4</th>\n",
       "      <td>c9458976bdc65bf03e05a181fde642a6</td>\n",
       "      <td>Luxembourg mulls mandatory vaccine as Germany ...</td>\n",
       "      <td>https://www.luxtimes.lu/en/luxembourg/luxembou...</td>\n",
       "      <td>Fri, 08 Apr 2022 07:00:00 GMT</td>\n",
       "    </tr>\n",
       "  </tbody>\n",
       "</table>\n",
       "</div>"
      ],
      "text/plain": [
       "                                 id  \\\n",
       "0  113be0cc2d1a225a304211002b25fbb8   \n",
       "1  331047232ac3c1b44a7c7fd234452e7d   \n",
       "2  e19788af8207dbed4cbfb9b4da1eae13   \n",
       "3  e7d84595423deac7d6d953d488db98a0   \n",
       "4  c9458976bdc65bf03e05a181fde642a6   \n",
       "\n",
       "                                               title  \\\n",
       "0  Anti-vaccine movement could undermine efforts ...   \n",
       "1  A majority of vaccine skeptics plan to refuse ...   \n",
       "2  A leading COVID-19 vaccine scientist answers o...   \n",
       "3  UK's response to covid-19 “too little, too lat...   \n",
       "4  Luxembourg mulls mandatory vaccine as Germany ...   \n",
       "\n",
       "                                                link  \\\n",
       "0  https://www.nature.com/articles/d41586-020-014...   \n",
       "1  https://theconversation.com/a-majority-of-vacc...   \n",
       "2  https://www.weforum.org/agenda/2020/05/covid19...   \n",
       "3  https://www.bmj.com/company/newsroom/uks-respo...   \n",
       "4  https://www.luxtimes.lu/en/luxembourg/luxembou...   \n",
       "\n",
       "                       published  \n",
       "0  Wed, 13 May 2020 07:00:00 GMT  \n",
       "1  Mon, 04 May 2020 07:00:00 GMT  \n",
       "2  Fri, 01 May 2020 07:00:00 GMT  \n",
       "3  Fri, 15 May 2020 16:58:07 GMT  \n",
       "4  Fri, 08 Apr 2022 07:00:00 GMT  "
      ]
     },
     "execution_count": 4,
     "metadata": {},
     "output_type": "execute_result"
    }
   ],
   "source": [
    "meta.head()"
   ]
  },
  {
   "cell_type": "code",
   "execution_count": 5,
   "id": "e61565b0",
   "metadata": {},
   "outputs": [
    {
     "data": {
      "text/plain": [
       "'https://www.nature.com/articles/d41586-020-01423-4'"
      ]
     },
     "execution_count": 5,
     "metadata": {},
     "output_type": "execute_result"
    }
   ],
   "source": [
    "l = meta.link.iloc[0]\n",
    "l"
   ]
  },
  {
   "cell_type": "code",
   "execution_count": 6,
   "id": "4d0baa80",
   "metadata": {
    "scrolled": true
   },
   "outputs": [
    {
     "data": {
      "text/plain": [
       "{'authors': ['Ball', 'Philip Ball', 'You Can Also Search For This Author In'],\n",
       " 'date_download': datetime.datetime(2022, 6, 10, 11, 11, 21),\n",
       " 'date_modify': None,\n",
       " 'date_publish': datetime.datetime(2022, 5, 16, 0, 0),\n",
       " 'description': 'Studies of social networks show that opposition to vaccines is small but far-reaching — and growing.',\n",
       " 'filename': 'https%3A%2F%2Fwww.nature.com%2Farticles%2Fd41586-020-01423-4.json',\n",
       " 'image_url': 'https://media.nature.com/lw1024/magazine-assets/d41586-020-01423-4/d41586-020-01423-4_17977470.jpg',\n",
       " 'language': 'en',\n",
       " 'localpath': None,\n",
       " 'maintext': 'Anti-vaccine placards have appeared at US protests during the pandemic.Credit: Rich Pedroncelli/AP/Shutterstock\\nAs scientists work to create a vaccine against COVID-19, a small but fervent anti-vaccination movement is marshalling against it. Campaigners are seeding outlandish narratives: they falsely say that coronavirus vaccines will be used to implant microchips into people, for instance, and falsely claim that a woman who took part in a UK vaccine trial died. In April, some carried placards with anti-vaccine slogans at rallies in California to protest against the lockdown. Last week, a now-deleted YouTube video promoting wild conspiracy theories about the pandemic and asserting (without evidence) that vaccines would “kill millions” received more than 8 million views.\\nIt’s not known how many people would actually refuse a COVID-19 vaccine — and general support for vaccines remains high. But some researchers studying vaccine-opposition movements say they’re concerned that the messages could undermine efforts to establish herd immunity to the new coronavirus. Online opposition to vaccines has rapidly pivoted to talk of the pandemic, says Neil Johnson, a physicist at George Washington University in Washington DC, who is studying the campaigners’ tactics. “For a lot of these groups, it’s all about COVID now,” he says.\\nGroups opposing vaccines are small in size, but their online-communications strategy is worryingly effective and far-reaching, a report from Johnson’s team suggests. Before the SARS-CoV-2 virus emerged, Johnson’s team began mapping out a network of views on vaccination, on Facebook. They investigated more than 1,300 pages, followed by about 85 million individuals.\\nTheir findings1, published on 13 May, suggest that anti-vaccination pages tend to have fewer followers but are more numerous than pro-vaccination ones, and are more often linked to in discussions on other Facebook pages — such as parent associations at schools — whose stance on vaccination is undecided.\\nIn contrast, pages that explain the benefits of and the scientific case for vaccination are linked in a network that is largely disconnected from this “main battlefield” for public sentiment, as Johnson puts it. During measles outbreaks in 2019, anti-vaccination pages grew more links than did pro-vaccination ones on Facebook, Johnson’s team adds. An extrapolation of current trends using computer simulations suggests that opposition to vaccines might dominate the network of views on vaccines within ten years, they write.\\nSource: Ref 1.\\nThe work shows that “the pro-vaccine community are basically sticking to their narrative and talking to each other, and not reaching out and being responsive to the narratives that are out there among the undecided,” says Heidi Larson, who directs the Vaccine Confidence Project, a group that monitors public trust in vaccines, at the London School of Hygiene and Tropical Medicine.\\nThe issue isn’t confined to Facebook. On 1 April, Johnson’s team released a preprint of a separate study2 on online messaging about COVID-19. That report, which has not yet been peer-reviewed, suggests that links are growing across different social-media platforms between anti-vaccine groups debating COVID-19 and other interest groups, such as far-right extremists.\\nCountering the spread of anti-vaccine sentiment will involve understanding not just the shape of the online map, but of how it got that way, says Bruce Gellin, president of global immunization at the Sabin Vaccine Institute in Washington DC. “We need to understand what it is about the conversations and content [around anti-vaccination] that compels people to listen and share it with others,” he says.\\nVaried, emotive messages\\nPro-vaccine groups have a simple message — vaccines work and save lives. Anti-vaccine narratives are numerous: from sowing worries about children’s health to advocating alternative medicines and linking immunizations to conspiracy theories. And the anti-vaccination messages are spread across many more Facebook clusters than are those from the larger pro-vaccine groups. Johnson says these features echo those his team has found in earlier studies of insurgency networks in conflict zones, where insurgents could often embed themselves deeply into existing social networks.\\nAnti-vaccine campaigners tend to win converts with personalized, emotive messages, says Larson; these are built not necessarily on fear (“Vaccines will kill you.”), but on appeals to the heart (“Do you love your children?”). The public-health community, meanwhile, has simply been trying to get more people vaccinated, she says — which might lead to a feeling that they are just trying to get their numbers up. “The approach needs to be quite different with people who are undecided,” she says. Vaccine-advocacy organizations are “not listening to concerns and questions”.\\nOverall, most people support vaccines, points out Gellin, and are likely to do so in this pandemic. Still, global vaccination rates have plateaued in the past two decades, Larson says. Both she and Gellin worry that another reason for public suspicion about a COVID-19 vaccine might be the speed of its development. “We should be very clear and transparent about the development process,” says Gellin. “Otherwise, when it shows up, people will ask ‘how can we be sure no shortcuts were taken?’”\\nThe messaging around a vaccine will also need to be carefully thought out. If there’s already fewer COVID-19 infections by then, it’s going to be a hard sell, says Larson. “The thing that’s going to change people’s minds is if the government says that if you have the vaccine, you can go to work”, she says.',\n",
       " 'source_domain': 'www.nature.com',\n",
       " 'text': None,\n",
       " 'title': 'Anti-vaccine movement could undermine efforts to end coronavirus pandemic, researchers warn',\n",
       " 'title_page': None,\n",
       " 'title_rss': None,\n",
       " 'url': 'https://www.nature.com/articles/d41586-020-01423-4'}"
      ]
     },
     "execution_count": 6,
     "metadata": {},
     "output_type": "execute_result"
    }
   ],
   "source": [
    "article = NewsPlease.from_url(l)\n",
    "article.get_dict()"
   ]
  },
  {
   "cell_type": "code",
   "execution_count": null,
   "id": "f5d9652f",
   "metadata": {
    "scrolled": false
   },
   "outputs": [
    {
     "name": "stdout",
     "output_type": "stream",
     "text": [
      "0.08%\n",
      "0.17%\n",
      "0.25%\n",
      "0.33%\n",
      "0.42%\n",
      "0.5%\n",
      "0.58%\n",
      "0.67%\n",
      "0.75%\n",
      "0.83%\n",
      "0.92%\n",
      "1.0%\n",
      "1.08%\n",
      "1.17%\n"
     ]
    },
    {
     "name": "stderr",
     "output_type": "stream",
     "text": [
      "connection/timeout error: https://www.newsobserver.com/news/local/article248311460.html HTTPSConnectionPool(host='www.newsobserver.com', port=443): Read timed out. (read timeout=5)\n"
     ]
    },
    {
     "name": "stdout",
     "output_type": "stream",
     "text": [
      "Error while processing https://www.newsobserver.com/news/local/article248311460.html\n",
      "You must `download()` an article first!\n",
      "1.25%\n"
     ]
    },
    {
     "name": "stderr",
     "output_type": "stream",
     "text": [
      "not a 200 response: 403\n"
     ]
    },
    {
     "name": "stdout",
     "output_type": "stream",
     "text": [
      "Error while processing https://www.wtsp.com/article/news/health/coronavirus/schools-require-covid19-vaccine/67-e83c6599-c421-4ac7-87a5-dc38850d9de4\n",
      "You must `download()` an article first!\n",
      "1.33%\n"
     ]
    },
    {
     "name": "stderr",
     "output_type": "stream",
     "text": [
      "not a 200 response: 416\n"
     ]
    },
    {
     "name": "stdout",
     "output_type": "stream",
     "text": [
      "Error while processing https://theparadise.ng/greek-healthcare-workers-launch-hunger-strike-we-dont-need-a-vaccine-passport-to-be-free/\n",
      "You must `download()` an article first!\n",
      "1.42%\n",
      "1.5%\n"
     ]
    },
    {
     "name": "stderr",
     "output_type": "stream",
     "text": [
      "not a 200 response: 451\n"
     ]
    },
    {
     "name": "stdout",
     "output_type": "stream",
     "text": [
      "Error while processing https://pix11.com/news/coronavirus/nj-covid-latest-monday-april-4-2022/\n",
      "You must `download()` an article first!\n",
      "1.58%\n"
     ]
    },
    {
     "name": "stderr",
     "output_type": "stream",
     "text": [
      "not a 200 response: 451\n"
     ]
    },
    {
     "name": "stdout",
     "output_type": "stream",
     "text": [
      "Error while processing https://pix11.com/news/coronavirus/ny-covid-latest-friday-april-8-2022/\n",
      "You must `download()` an article first!\n"
     ]
    },
    {
     "name": "stderr",
     "output_type": "stream",
     "text": [
      "not a 200 response: 451\n"
     ]
    },
    {
     "name": "stdout",
     "output_type": "stream",
     "text": [
      "Error while processing https://pix11.com/news/coronavirus/ny-covid-latest-sunday-april-17-2022/\n",
      "You must `download()` an article first!\n"
     ]
    },
    {
     "name": "stderr",
     "output_type": "stream",
     "text": [
      "not a 200 response: 451\n"
     ]
    },
    {
     "name": "stdout",
     "output_type": "stream",
     "text": [
      "Error while processing https://pix11.com/news/coronavirus/ny-covid-latest-monday-april-25-2022/\n",
      "You must `download()` an article first!\n",
      "1.67%\n"
     ]
    },
    {
     "name": "stderr",
     "output_type": "stream",
     "text": [
      "not a 200 response: 451\n"
     ]
    },
    {
     "name": "stdout",
     "output_type": "stream",
     "text": [
      "Error while processing https://pix11.com/news/coronavirus/ny-covid-latest-friday-april-22-2022/\n",
      "You must `download()` an article first!\n"
     ]
    },
    {
     "name": "stderr",
     "output_type": "stream",
     "text": [
      "not a 200 response: 451\n"
     ]
    },
    {
     "name": "stdout",
     "output_type": "stream",
     "text": [
      "Error while processing https://pix11.com/news/coronavirus/ny-covid-latest-monday-april-4-2022/\n",
      "You must `download()` an article first!\n"
     ]
    },
    {
     "name": "stderr",
     "output_type": "stream",
     "text": [
      "not a 200 response: 451\n"
     ]
    },
    {
     "name": "stdout",
     "output_type": "stream",
     "text": [
      "Error while processing https://pix11.com/news/coronavirus/ny-covid-latest-saturday-april-30-2022/\n",
      "You must `download()` an article first!\n",
      "1.75%\n",
      "1.83%\n",
      "1.92%\n",
      "2.0%\n"
     ]
    },
    {
     "name": "stderr",
     "output_type": "stream",
     "text": [
      "connection/timeout error: https://city.milwaukee.gov/Health/News/2022-News-Releases/March-2022/City-of-Milwaukee-Weekly-COVID-19-Update---March-18 HTTPSConnectionPool(host='city.milwaukee.gov', port=443): Max retries exceeded with url: /Health/News/2022-News-Releases/March-2022/City-of-Milwaukee-Weekly-COVID-19-Update---March-18 (Caused by ConnectTimeoutError(<urllib3.connection.HTTPSConnection object at 0x7f85388287c0>, 'Connection to city.milwaukee.gov timed out. (connect timeout=5)'))\n"
     ]
    },
    {
     "name": "stdout",
     "output_type": "stream",
     "text": [
      "Error while processing https://city.milwaukee.gov/Health/News/2022-News-Releases/March-2022/City-of-Milwaukee-Weekly-COVID-19-Update---March-18\n",
      "You must `download()` an article first!\n",
      "2.08%\n",
      "2.17%\n"
     ]
    },
    {
     "name": "stderr",
     "output_type": "stream",
     "text": [
      "not a 200 response: 451\n"
     ]
    },
    {
     "name": "stdout",
     "output_type": "stream",
     "text": [
      "Error while processing https://www.myheraldreview.com/news/cochise_county/masks-optional-on-base-mandatory-for-the-unvaccinated/article_c7a643a4-9f1c-11ec-91c9-c71f85236aca.html\n",
      "You must `download()` an article first!\n",
      "2.25%\n",
      "2.33%\n"
     ]
    },
    {
     "name": "stderr",
     "output_type": "stream",
     "text": [
      "not a 200 response: 403\n"
     ]
    },
    {
     "name": "stdout",
     "output_type": "stream",
     "text": [
      "Error while processing https://patientengagementhit.com/news/commonwealth-fund-will-mandates-improve-us-vaccine-access\n",
      "You must `download()` an article first!\n",
      "2.42%\n",
      "2.5%\n"
     ]
    },
    {
     "name": "stderr",
     "output_type": "stream",
     "text": [
      "connection/timeout error: https://www.fresnobee.com/vida-en-el-valle/noticias/article256275732.html HTTPSConnectionPool(host='www.fresnobee.com', port=443): Read timed out. (read timeout=5)\n"
     ]
    },
    {
     "name": "stdout",
     "output_type": "stream",
     "text": [
      "Error while processing https://www.fresnobee.com/vida-en-el-valle/noticias/article256275732.html\n",
      "You must `download()` an article first!\n"
     ]
    },
    {
     "name": "stderr",
     "output_type": "stream",
     "text": [
      "not a 200 response: 503\n"
     ]
    },
    {
     "name": "stdout",
     "output_type": "stream",
     "text": [
      "Error while processing https://sfamjournals.onlinelibrary.wiley.com/doi/10.1111/1751-7915.13997\n",
      "You must `download()` an article first!\n"
     ]
    },
    {
     "name": "stderr",
     "output_type": "stream",
     "text": [
      "not a 200 response: 451\n"
     ]
    },
    {
     "name": "stdout",
     "output_type": "stream",
     "text": [
      "Error while processing https://www.kezi.com/archive/more-oregonians-choosing-to-get-vaccine-but-many-dismiss-risks-of-covid-19-survey-finds/article_bc438e6f-64d9-56bb-8929-b66249eda125.html\n",
      "You must `download()` an article first!\n",
      "2.58%\n",
      "2.67%\n"
     ]
    },
    {
     "name": "stderr",
     "output_type": "stream",
     "text": [
      "connection/timeout error: https://www.seattletimes.com/seattle-news/health/coronavirus-daily-news-updates-december-6-what-to-know-today-about-covid-19-in-the-seattle-area-washington-state-and-the-world-2/ HTTPSConnectionPool(host='www.seattletimes.com', port=443): Read timed out. (read timeout=5)\n"
     ]
    },
    {
     "name": "stdout",
     "output_type": "stream",
     "text": [
      "Error while processing https://www.seattletimes.com/seattle-news/health/coronavirus-daily-news-updates-december-6-what-to-know-today-about-covid-19-in-the-seattle-area-washington-state-and-the-world-2/\n",
      "You must `download()` an article first!\n"
     ]
    },
    {
     "name": "stderr",
     "output_type": "stream",
     "text": [
      "not a 200 response: 503\n"
     ]
    },
    {
     "name": "stdout",
     "output_type": "stream",
     "text": [
      "Error while processing https://obgyn.onlinelibrary.wiley.com/doi/10.1002/uog.24846\n",
      "You must `download()` an article first!\n",
      "2.75%\n"
     ]
    },
    {
     "name": "stderr",
     "output_type": "stream",
     "text": [
      "not a 200 response: 503\n"
     ]
    },
    {
     "name": "stdout",
     "output_type": "stream",
     "text": [
      "Error while processing https://www.thelancet.com/journals/lancet/article/PIIS0140-6736(21)01106-5/fulltext\n",
      "You must `download()` an article first!\n",
      "2.83%\n"
     ]
    },
    {
     "name": "stderr",
     "output_type": "stream",
     "text": [
      "not a 200 response: 403\n"
     ]
    },
    {
     "name": "stdout",
     "output_type": "stream",
     "text": [
      "Error while processing https://www.ipsos.com/en-ca/news-polls/Eight-in-Ten-Canadians-Vaccinated-Remaining-Need-Convinced\n",
      "You must `download()` an article first!\n"
     ]
    },
    {
     "name": "stderr",
     "output_type": "stream",
     "text": [
      "not a 200 response: 503\n"
     ]
    },
    {
     "name": "stdout",
     "output_type": "stream",
     "text": [
      "Error while processing https://www.capradio.org/articles/2021/06/30/california-coronavirus-updates-june-2021/\n",
      "You must `download()` an article first!\n",
      "2.92%\n"
     ]
    },
    {
     "name": "stderr",
     "output_type": "stream",
     "text": [
      "connection/timeout error: https://www.france24.com/en/france/20210710-france-s-top-health-advisory-body-wants-compulsory-vaccinations-for-health-workers HTTPSConnectionPool(host='www.france24.com', port=443): Read timed out. (read timeout=5)\n"
     ]
    },
    {
     "name": "stdout",
     "output_type": "stream",
     "text": [
      "Error while processing https://www.france24.com/en/france/20210710-france-s-top-health-advisory-body-wants-compulsory-vaccinations-for-health-workers\n",
      "You must `download()` an article first!\n",
      "3.0%\n",
      "3.08%\n"
     ]
    },
    {
     "name": "stderr",
     "output_type": "stream",
     "text": [
      "SSL: https://www.nyu.edu/about/news-publications/news/2021/march/vaccine-hesitancy-research.html HTTPSConnectionPool(host='www.nyu.edu', port=443): Max retries exceeded with url: /about/news-publications/news/2021/march/vaccine-hesitancy-research.html (Caused by SSLError(SSLError(1, '[SSL: DH_KEY_TOO_SMALL] dh key too small (_ssl.c:1131)')))\n"
     ]
    },
    {
     "name": "stdout",
     "output_type": "stream",
     "text": [
      "Error while processing https://www.nyu.edu/about/news-publications/news/2021/march/vaccine-hesitancy-research.html\n",
      "You must `download()` an article first!\n"
     ]
    },
    {
     "name": "stderr",
     "output_type": "stream",
     "text": [
      "connection/timeout error: https://www.washingtonpost.com/politics/2021/03/31/complicated-geography-vaccine-hesitancy/ HTTPSConnectionPool(host='www.washingtonpost.com', port=443): Read timed out. (read timeout=5)\n"
     ]
    },
    {
     "name": "stdout",
     "output_type": "stream",
     "text": [
      "Error while processing https://www.washingtonpost.com/politics/2021/03/31/complicated-geography-vaccine-hesitancy/\n",
      "You must `download()` an article first!\n",
      "3.17%\n"
     ]
    },
    {
     "name": "stderr",
     "output_type": "stream",
     "text": [
      "connection/timeout error: https://www.washingtonpost.com/opinions/2021/04/15/healthy-refusing-covid-vaccine-shame-you/ HTTPSConnectionPool(host='www.washingtonpost.com', port=443): Read timed out. (read timeout=5)\n"
     ]
    },
    {
     "name": "stdout",
     "output_type": "stream",
     "text": [
      "Error while processing https://www.washingtonpost.com/opinions/2021/04/15/healthy-refusing-covid-vaccine-shame-you/\n",
      "You must `download()` an article first!\n"
     ]
    },
    {
     "name": "stderr",
     "output_type": "stream",
     "text": [
      "not a 200 response: 503\n"
     ]
    },
    {
     "name": "stdout",
     "output_type": "stream",
     "text": [
      "Error while processing https://onlinelibrary.wiley.com/doi/abs/10.1002/jdd.12632\n",
      "You must `download()` an article first!\n"
     ]
    },
    {
     "name": "stderr",
     "output_type": "stream",
     "text": [
      "connection/timeout error: https://www.washingtonpost.com/magazine/2021/04/26/coronavirus-vaccines-ad-council/ HTTPSConnectionPool(host='www.washingtonpost.com', port=443): Read timed out. (read timeout=5)\n"
     ]
    },
    {
     "name": "stdout",
     "output_type": "stream",
     "text": [
      "Error while processing https://www.washingtonpost.com/magazine/2021/04/26/coronavirus-vaccines-ad-council/\n",
      "You must `download()` an article first!\n"
     ]
    },
    {
     "name": "stderr",
     "output_type": "stream",
     "text": [
      "not a 200 response: 403\n"
     ]
    },
    {
     "name": "stdout",
     "output_type": "stream",
     "text": [
      "Error while processing https://pbswisconsin.org/news-item/how-does-hesitancy-fit-into-wisconsins-covid-19-vaccination-trends/\n",
      "You must `download()` an article first!\n"
     ]
    },
    {
     "name": "stderr",
     "output_type": "stream",
     "text": [
      "connection/timeout error: https://www.washingtonpost.com/world/2021/04/24/coronavirus-vaccine-us-anger-inequality/ HTTPSConnectionPool(host='www.washingtonpost.com', port=443): Read timed out. (read timeout=5)\n"
     ]
    },
    {
     "name": "stdout",
     "output_type": "stream",
     "text": [
      "Error while processing https://www.washingtonpost.com/world/2021/04/24/coronavirus-vaccine-us-anger-inequality/\n",
      "You must `download()` an article first!\n",
      "3.25%\n"
     ]
    },
    {
     "name": "stderr",
     "output_type": "stream",
     "text": [
      "connection/timeout error: https://www.washingtonpost.com/health/interactive/2021/covid-vaccine-messages/ HTTPSConnectionPool(host='www.washingtonpost.com', port=443): Read timed out. (read timeout=5)\n"
     ]
    },
    {
     "name": "stdout",
     "output_type": "stream",
     "text": [
      "Error while processing https://www.washingtonpost.com/health/interactive/2021/covid-vaccine-messages/\n",
      "You must `download()` an article first!\n"
     ]
    },
    {
     "name": "stderr",
     "output_type": "stream",
     "text": [
      "connection/timeout error: https://ebm.bmj.com/content/27/3/159 HTTPSConnectionPool(host='ebm.bmj.com', port=443): Read timed out. (read timeout=5)\n"
     ]
    },
    {
     "name": "stdout",
     "output_type": "stream",
     "text": [
      "Error while processing https://ebm.bmj.com/content/27/3/159\n",
      "You must `download()` an article first!\n",
      "3.33%\n"
     ]
    },
    {
     "name": "stderr",
     "output_type": "stream",
     "text": [
      "connection/timeout error: https://www.washingtonpost.com/politics/2021/04/07/power-up-republican-men-are-hesitant-get-vaccinated-least-four-gop-senators-are-among-them/ HTTPSConnectionPool(host='www.washingtonpost.com', port=443): Read timed out. (read timeout=5)\n"
     ]
    },
    {
     "name": "stdout",
     "output_type": "stream",
     "text": [
      "Error while processing https://www.washingtonpost.com/politics/2021/04/07/power-up-republican-men-are-hesitant-get-vaccinated-least-four-gop-senators-are-among-them/\n",
      "You must `download()` an article first!\n"
     ]
    },
    {
     "name": "stderr",
     "output_type": "stream",
     "text": [
      "connection/timeout error: https://www.newsobserver.com/news/coronavirus/article250535869.html HTTPSConnectionPool(host='www.newsobserver.com', port=443): Read timed out. (read timeout=5)\n"
     ]
    },
    {
     "name": "stdout",
     "output_type": "stream",
     "text": [
      "Error while processing https://www.newsobserver.com/news/coronavirus/article250535869.html\n",
      "You must `download()` an article first!\n"
     ]
    },
    {
     "name": "stderr",
     "output_type": "stream",
     "text": [
      "not a 200 response: 503\n"
     ]
    },
    {
     "name": "stdout",
     "output_type": "stream",
     "text": [
      "Error while processing https://onlinelibrary.wiley.com/doi/full/10.1111/jan.14854\n",
      "You must `download()` an article first!\n"
     ]
    },
    {
     "name": "stderr",
     "output_type": "stream",
     "text": [
      "connection/timeout error: https://www.washingtonpost.com/washington-post-live/2021/04/09/coronavirus-vaccine-hesitancy-with-national-league-cities-ceo-executive-director-clarence-anthony-ymca-president-ceo-kevin-washington/ HTTPSConnectionPool(host='www.washingtonpost.com', port=443): Read timed out. (read timeout=5)\n"
     ]
    },
    {
     "name": "stdout",
     "output_type": "stream",
     "text": [
      "Error while processing https://www.washingtonpost.com/washington-post-live/2021/04/09/coronavirus-vaccine-hesitancy-with-national-league-cities-ceo-executive-director-clarence-anthony-ymca-president-ceo-kevin-washington/\n",
      "You must `download()` an article first!\n"
     ]
    },
    {
     "name": "stderr",
     "output_type": "stream",
     "text": [
      "connection/timeout error: https://www.washingtonpost.com/opinions/2021/04/22/soon-we-need-stop-catering-vaccine-holdouts/ HTTPSConnectionPool(host='www.washingtonpost.com', port=443): Read timed out. (read timeout=5)\n"
     ]
    },
    {
     "name": "stdout",
     "output_type": "stream",
     "text": [
      "Error while processing https://www.washingtonpost.com/opinions/2021/04/22/soon-we-need-stop-catering-vaccine-holdouts/\n",
      "You must `download()` an article first!\n",
      "3.42%\n"
     ]
    },
    {
     "name": "stderr",
     "output_type": "stream",
     "text": [
      "connection/timeout error: https://www.usnews.com/news/best-countries/articles/2021-04-13/why-canadas-indigenous-have-vaccine-worries HTTPSConnectionPool(host='www.usnews.com', port=443): Read timed out. (read timeout=5)\n"
     ]
    },
    {
     "name": "stdout",
     "output_type": "stream",
     "text": [
      "Error while processing https://www.usnews.com/news/best-countries/articles/2021-04-13/why-canadas-indigenous-have-vaccine-worries\n",
      "You must `download()` an article first!\n"
     ]
    },
    {
     "name": "stderr",
     "output_type": "stream",
     "text": [
      "connection/timeout error: https://www.washingtonpost.com/sports/2021/06/09/euro-2020-covid/ HTTPSConnectionPool(host='www.washingtonpost.com', port=443): Read timed out. (read timeout=5)\n"
     ]
    },
    {
     "name": "stdout",
     "output_type": "stream",
     "text": [
      "Error while processing https://www.washingtonpost.com/sports/2021/06/09/euro-2020-covid/\n",
      "You must `download()` an article first!\n",
      "3.5%\n"
     ]
    },
    {
     "name": "stderr",
     "output_type": "stream",
     "text": [
      "connection/timeout error: https://fijisun.com.fj/2021/06/12/opinion-covid-19-vaccination-vs-human-rights/ HTTPSConnectionPool(host='fijisun.com.fj', port=443): Max retries exceeded with url: /2021/06/12/opinion-covid-19-vaccination-vs-human-rights/ (Caused by NewConnectionError('<urllib3.connection.HTTPSConnection object at 0x7f8536f40d90>: Failed to establish a new connection: [Errno 113] No route to host'))\n"
     ]
    },
    {
     "name": "stdout",
     "output_type": "stream",
     "text": [
      "Error while processing https://fijisun.com.fj/2021/06/12/opinion-covid-19-vaccination-vs-human-rights/\n",
      "You must `download()` an article first!\n"
     ]
    },
    {
     "name": "stderr",
     "output_type": "stream",
     "text": [
      "not a 200 response: 503\n"
     ]
    },
    {
     "name": "stdout",
     "output_type": "stream",
     "text": [
      "Error while processing https://www.thelancet.com/journals/eclinm/article/PIIS2589-5370(22)00076-1/fulltext\n",
      "You must `download()` an article first!\n"
     ]
    },
    {
     "name": "stderr",
     "output_type": "stream",
     "text": [
      "not a 200 response: 503\n"
     ]
    },
    {
     "name": "stdout",
     "output_type": "stream",
     "text": [
      "Error while processing https://www.pnas.org/doi/10.1073/pnas.2118721119\n",
      "You must `download()` an article first!\n",
      "3.58%\n"
     ]
    },
    {
     "name": "stderr",
     "output_type": "stream",
     "text": [
      "not a 200 response: 503\n"
     ]
    },
    {
     "name": "stdout",
     "output_type": "stream",
     "text": [
      "Error while processing https://onlinelibrary.wiley.com/doi/full/10.1111/bioe.13015\n",
      "You must `download()` an article first!\n",
      "3.67%\n"
     ]
    },
    {
     "name": "stderr",
     "output_type": "stream",
     "text": [
      "connection/timeout error: https://www.seattletimes.com/seattle-news/health/coronavirus-daily-news-updates-march-9-what-to-know-today-about-covid-19-in-the-seattle-area-washington-state-and-the-world-2/ HTTPSConnectionPool(host='www.seattletimes.com', port=443): Read timed out. (read timeout=5)\n"
     ]
    },
    {
     "name": "stdout",
     "output_type": "stream",
     "text": [
      "Error while processing https://www.seattletimes.com/seattle-news/health/coronavirus-daily-news-updates-march-9-what-to-know-today-about-covid-19-in-the-seattle-area-washington-state-and-the-world-2/\n",
      "You must `download()` an article first!\n"
     ]
    },
    {
     "name": "stderr",
     "output_type": "stream",
     "text": [
      "not a 200 response: 451\n"
     ]
    },
    {
     "name": "stdout",
     "output_type": "stream",
     "text": [
      "Error while processing https://wgntv.com/news/coronavirus/united-center-updates-covid-19-policies-for-events-on-monday/\n",
      "You must `download()` an article first!\n",
      "3.75%\n",
      "3.83%\n",
      "3.92%\n",
      "4.0%\n"
     ]
    },
    {
     "name": "stderr",
     "output_type": "stream",
     "text": [
      "connection/timeout error: https://www.bmj.com/content/375/bmj.n2732 HTTPSConnectionPool(host='www.bmj.com', port=443): Read timed out. (read timeout=5)\n"
     ]
    },
    {
     "name": "stdout",
     "output_type": "stream",
     "text": [
      "Error while processing https://www.bmj.com/content/375/bmj.n2732\n",
      "You must `download()` an article first!\n",
      "4.08%\n"
     ]
    },
    {
     "name": "stderr",
     "output_type": "stream",
     "text": [
      "not a 200 response: 503\n"
     ]
    },
    {
     "name": "stdout",
     "output_type": "stream",
     "text": [
      "Error while processing https://sfamjournals.onlinelibrary.wiley.com/doi/10.1111/1751-7915.13974\n",
      "You must `download()` an article first!\n",
      "4.17%\n"
     ]
    },
    {
     "name": "stderr",
     "output_type": "stream",
     "text": [
      "not a 200 response: 451\n"
     ]
    },
    {
     "name": "stdout",
     "output_type": "stream",
     "text": [
      "Error while processing https://www.frontiersman.com/valley-health/novavax-a-covid-vaccine-for-the-hesitant/article_fdc7c2da-fc12-11eb-8a00-938e15e9a928.html\n",
      "You must `download()` an article first!\n"
     ]
    },
    {
     "name": "stderr",
     "output_type": "stream",
     "text": [
      "not a 200 response: 451\n"
     ]
    },
    {
     "name": "stdout",
     "output_type": "stream",
     "text": [
      "Error while processing https://www.myeasternshoremd.com/dorchester_star/community/news/hospital-workers-protest-covid-vaccine-mandate-at-shore-regional-health/article_76aae106-9fc6-5791-a88d-f1ede986cd29.html\n",
      "You must `download()` an article first!\n"
     ]
    },
    {
     "name": "stderr",
     "output_type": "stream",
     "text": [
      "connection/timeout error: https://www.washingtonpost.com/world/2021/08/10/us-europe-travel-ban/ HTTPSConnectionPool(host='www.washingtonpost.com', port=443): Read timed out. (read timeout=5)\n"
     ]
    },
    {
     "name": "stdout",
     "output_type": "stream",
     "text": [
      "Error while processing https://www.washingtonpost.com/world/2021/08/10/us-europe-travel-ban/\n",
      "You must `download()` an article first!\n"
     ]
    },
    {
     "name": "stderr",
     "output_type": "stream",
     "text": [
      "not a 200 response: 451\n"
     ]
    },
    {
     "name": "stdout",
     "output_type": "stream",
     "text": [
      "Error while processing https://lancasteronline.com/news/health/debunking-claims-about-long-term-side-effects-from-covid-19-vaccines-lancaster-watchdog/article_c5c32830-eb0e-11eb-82f6-770eb366798f.html\n",
      "You must `download()` an article first!\n"
     ]
    },
    {
     "name": "stderr",
     "output_type": "stream",
     "text": [
      "not a 200 response: 451\n"
     ]
    },
    {
     "name": "stdout",
     "output_type": "stream",
     "text": [
      "Error while processing https://www.kxan.com/news/coronavirus/do-face-masks-work-here-are-49-scientific-studies-that-explain-why-they-do/\n",
      "You must `download()` an article first!\n",
      "4.25%\n"
     ]
    },
    {
     "name": "stderr",
     "output_type": "stream",
     "text": [
      "not a 200 response: 403\n"
     ]
    },
    {
     "name": "stdout",
     "output_type": "stream",
     "text": [
      "Error while processing https://www.kare11.com/article/news/health/coronavirus/us-vaccination-rates-slowing-down/89-23be2c78-3c38-47dd-81a7-d7a15e49b16f\n",
      "You must `download()` an article first!\n",
      "4.33%\n"
     ]
    },
    {
     "name": "stderr",
     "output_type": "stream",
     "text": [
      "connection/timeout error: https://www.washingtonpost.com/business/covid-testing-fliers-from-outside-usis-unnecessary/2022/05/18/dcb08bca-d6a2-11ec-be17-286164974c54_story.html HTTPSConnectionPool(host='www.washingtonpost.com', port=443): Read timed out. (read timeout=5)\n"
     ]
    },
    {
     "name": "stdout",
     "output_type": "stream",
     "text": [
      "Error while processing https://www.washingtonpost.com/business/covid-testing-fliers-from-outside-usis-unnecessary/2022/05/18/dcb08bca-d6a2-11ec-be17-286164974c54_story.html\n",
      "You must `download()` an article first!\n",
      "4.42%\n"
     ]
    },
    {
     "name": "stderr",
     "output_type": "stream",
     "text": [
      "not a 200 response: 451\n"
     ]
    },
    {
     "name": "stdout",
     "output_type": "stream",
     "text": [
      "Error while processing https://www.wpri.com/news/denmark-to-destroy-excess-soon-to-expire-covid-19-vaccines/\n",
      "You must `download()` an article first!\n"
     ]
    },
    {
     "name": "stderr",
     "output_type": "stream",
     "text": [
      "not a 200 response: 503\n"
     ]
    },
    {
     "name": "stdout",
     "output_type": "stream",
     "text": [
      "Error while processing https://www.thelancet.com/journals/laninf/article/PIIS1473-3099(22)00228-6/fulltext\n",
      "You must `download()` an article first!\n",
      "4.5%\n"
     ]
    },
    {
     "name": "stderr",
     "output_type": "stream",
     "text": [
      "not a 200 response: 503\n"
     ]
    },
    {
     "name": "stdout",
     "output_type": "stream",
     "text": [
      "Error while processing https://www.science.org/doi/10.1126/scitranslmed.abo5395\n",
      "You must `download()` an article first!\n",
      "4.58%\n"
     ]
    },
    {
     "name": "stderr",
     "output_type": "stream",
     "text": [
      "/home/rba/Projects/cultural-analytics/venv_culturalanalytics/lib/python3.8/site-packages/dateutil/parser/_parser.py:1207: UnknownTimezoneWarning: tzname PST identified but not understood.  Pass `tzinfos` argument in order to correctly return a timezone-aware datetime.  In a future version, this will raise an exception.\n",
      "  warnings.warn(\"tzname {tzname} identified but not understood.  \"\n"
     ]
    },
    {
     "name": "stdout",
     "output_type": "stream",
     "text": [
      "4.67%\n"
     ]
    },
    {
     "name": "stderr",
     "output_type": "stream",
     "text": [
      "not a 200 response: 451\n"
     ]
    },
    {
     "name": "stdout",
     "output_type": "stream",
     "text": [
      "Error while processing https://www.thederrick.com/ap/national/city-of-pompano-beach-and-its-cra-issue-invitation-to-negotiate-to-master-developers-globally/article_19cbfc1a-a962-5e59-8e7e-b276ea495aa1.html\n",
      "You must `download()` an article first!\n"
     ]
    },
    {
     "name": "stderr",
     "output_type": "stream",
     "text": [
      "not a 200 response: 451\n"
     ]
    },
    {
     "name": "stdout",
     "output_type": "stream",
     "text": [
      "Error while processing https://www.thederrick.com/ap/world/migrant-caravan-sets-out-in-southern-mexico/article_4384c527-d635-5cb4-a775-47ebcf0d14e9.html\n",
      "You must `download()` an article first!\n"
     ]
    },
    {
     "name": "stderr",
     "output_type": "stream",
     "text": [
      "not a 200 response: 451\n"
     ]
    },
    {
     "name": "stdout",
     "output_type": "stream",
     "text": [
      "Error while processing https://www.thederrick.com/ap/national/horses-dogs-emus-bees-a-farm-in-ukraine-becomes-a-wartime-sanctuary-for-humans-too/article_4a78b001-aa73-5cdd-bc59-60e9519c602d.html\n",
      "You must `download()` an article first!\n"
     ]
    },
    {
     "name": "stderr",
     "output_type": "stream",
     "text": [
      "not a 200 response: 451\n"
     ]
    },
    {
     "name": "stdout",
     "output_type": "stream",
     "text": [
      "Error while processing https://www.thederrick.com/ap/world/ukraine-cautious-as-turkey-russia-push-black-sea-grain-deal/article_73a4b815-ef71-5d73-bb96-fc5f3ae39c85.html\n",
      "You must `download()` an article first!\n"
     ]
    },
    {
     "name": "stderr",
     "output_type": "stream",
     "text": [
      "not a 200 response: 451\n"
     ]
    },
    {
     "name": "stdout",
     "output_type": "stream",
     "text": [
      "Error while processing https://www.thederrick.com/ap/national/ex-new-orleans-officer-dies-whistleblower-against-brutality/article_888f6bfc-9a4f-51ef-b9c5-23c0764f5a78.html\n",
      "You must `download()` an article first!\n"
     ]
    },
    {
     "name": "stderr",
     "output_type": "stream",
     "text": [
      "not a 200 response: 451\n"
     ]
    },
    {
     "name": "stdout",
     "output_type": "stream",
     "text": [
      "Error while processing https://www.thederrick.com/ap/national/union-ratifies-five-year-agreement-with-ardagh-metal-packaging/article_4c129e99-67aa-5d4d-8b94-b4188e8c3438.html\n",
      "You must `download()` an article first!\n"
     ]
    },
    {
     "name": "stderr",
     "output_type": "stream",
     "text": [
      "not a 200 response: 451\n"
     ]
    },
    {
     "name": "stdout",
     "output_type": "stream",
     "text": [
      "Error while processing https://www.thederrick.com/ap/national/woman-testifies-cosby-forcibly-kissed-her-when-she-was-14/article_e18a3358-659c-57ac-bb8a-e25130a3a2a9.html\n",
      "You must `download()` an article first!\n"
     ]
    },
    {
     "name": "stderr",
     "output_type": "stream",
     "text": [
      "not a 200 response: 451\n"
     ]
    },
    {
     "name": "stdout",
     "output_type": "stream",
     "text": [
      "Error while processing https://www.thederrick.com/ap/national/tulsa-shooting-highlights-threats-doctors-face-over-care/article_be6c90ad-2c0c-534c-a1f4-f09452a4f5ea.html\n",
      "You must `download()` an article first!\n"
     ]
    },
    {
     "name": "stderr",
     "output_type": "stream",
     "text": [
      "not a 200 response: 451\n"
     ]
    },
    {
     "name": "stdout",
     "output_type": "stream",
     "text": [
      "Error while processing https://www.thederrick.com/ap/politics/gop-rep-jacobs-to-retire-after-backing-assault-weapons-ban/article_03f75761-1130-53f6-a7d0-a295536028f0.html\n",
      "You must `download()` an article first!\n",
      "4.75%\n",
      "4.83%\n",
      "4.92%\n"
     ]
    },
    {
     "name": "stderr",
     "output_type": "stream",
     "text": [
      "not a 200 response: 503\n"
     ]
    },
    {
     "name": "stdout",
     "output_type": "stream",
     "text": [
      "Error while processing https://www.thelancet.com/journals/lancet/article/PIIS0140-6736(22)00532-3/fulltext\n",
      "You must `download()` an article first!\n",
      "5.0%\n"
     ]
    },
    {
     "name": "stderr",
     "output_type": "stream",
     "text": [
      "not a 200 response: 503\n"
     ]
    },
    {
     "name": "stdout",
     "output_type": "stream",
     "text": [
      "Error while processing https://www.thelancet.com/journals/lanepe/article/PIIS2666-7762(21)00282-9/fulltext\n",
      "You must `download()` an article first!\n"
     ]
    },
    {
     "name": "stderr",
     "output_type": "stream",
     "text": [
      "connection/timeout error: https://www.washingtonpost.com/world/2021/12/02/scientists-trigger-blood-clots-astrazeneca-vaccine/ HTTPSConnectionPool(host='www.washingtonpost.com', port=443): Read timed out. (read timeout=5)\n"
     ]
    },
    {
     "name": "stdout",
     "output_type": "stream",
     "text": [
      "Error while processing https://www.washingtonpost.com/world/2021/12/02/scientists-trigger-blood-clots-astrazeneca-vaccine/\n",
      "You must `download()` an article first!\n"
     ]
    },
    {
     "name": "stderr",
     "output_type": "stream",
     "text": [
      "not a 200 response: 503\n"
     ]
    },
    {
     "name": "stdout",
     "output_type": "stream",
     "text": [
      "Error while processing https://onlinelibrary.wiley.com/doi/10.1111/jcmm.17137\n",
      "You must `download()` an article first!\n",
      "5.08%\n",
      "5.17%\n",
      "5.25%\n"
     ]
    },
    {
     "name": "stderr",
     "output_type": "stream",
     "text": [
      "not a 200 response: 403\n"
     ]
    },
    {
     "name": "stdout",
     "output_type": "stream",
     "text": [
      "Error while processing https://www.newscentermaine.com/article/news/health/coronavirus/list-of-maine-stores-lifting-covid-19-mask-mandates-for-the-fully-vaccinated/97-b4a58241-e5d8-45d7-8f26-bb61e2009383\n",
      "You must `download()` an article first!\n",
      "5.33%\n"
     ]
    },
    {
     "name": "stderr",
     "output_type": "stream",
     "text": [
      "not a 200 response: 451\n"
     ]
    },
    {
     "name": "stdout",
     "output_type": "stream",
     "text": [
      "Error while processing https://www.wvnews.com/morgantownnews/news/west-virginia-university-faculty-vote-in-favor-of-mandatory-covid-19-vaccine-mandate/article_65bee3d4-0cc4-11ec-b5fe-fbf40b555ba7.html\n",
      "You must `download()` an article first!\n",
      "5.42%\n",
      "5.5%\n"
     ]
    },
    {
     "name": "stderr",
     "output_type": "stream",
     "text": [
      "not a 200 response: 451\n"
     ]
    },
    {
     "name": "stdout",
     "output_type": "stream",
     "text": [
      "Error while processing https://www.kezi.com/news/local/local-governments-urge-but-don-t-require-vaccine-for-employees/article_68711e9a-ecc6-5919-8f5e-62a21f32a739.html\n",
      "You must `download()` an article first!\n"
     ]
    },
    {
     "name": "stderr",
     "output_type": "stream",
     "text": [
      "not a 200 response: 403\n"
     ]
    },
    {
     "name": "stdout",
     "output_type": "stream",
     "text": [
      "Error while processing https://lloydslist.maritimeintelligence.informa.com/LL1138186/Industry-mulls-compulsory-seafarer-vaccination\n",
      "You must `download()` an article first!\n",
      "5.58%\n"
     ]
    },
    {
     "name": "stderr",
     "output_type": "stream",
     "text": [
      "not a 200 response: 451\n"
     ]
    },
    {
     "name": "stdout",
     "output_type": "stream",
     "text": [
      "Error while processing https://www.daily-journal.com/news/local/hundreds-gather-for-talk-opposing-vaccine-mandates/article_fd91eee8-0a05-11ec-a913-8b91d166fa5f.html\n",
      "You must `download()` an article first!\n"
     ]
    },
    {
     "name": "stderr",
     "output_type": "stream",
     "text": [
      "not a 200 response: 451\n"
     ]
    },
    {
     "name": "stdout",
     "output_type": "stream",
     "text": [
      "Error while processing https://www.centralillinoisproud.com/news/local-news/minier-nurse-organizes-springfield-protest-wednesday-saying-getting-vaccinated-should-be-everyones-choice/\n",
      "You must `download()` an article first!\n",
      "5.67%\n"
     ]
    },
    {
     "name": "stderr",
     "output_type": "stream",
     "text": [
      "not a 200 response: 451\n"
     ]
    },
    {
     "name": "stdout",
     "output_type": "stream",
     "text": [
      "Error while processing https://www.heraldandnews.com/news/local_news/vaccine-mandate-a-step-too-far-for-some/article_07d7852a-022d-50c8-aeaa-5d9ce54ce132.html\n",
      "You must `download()` an article first!\n"
     ]
    },
    {
     "name": "stderr",
     "output_type": "stream",
     "text": [
      "not a 200 response: 451\n"
     ]
    },
    {
     "name": "stdout",
     "output_type": "stream",
     "text": [
      "Error while processing https://www.daily-journal.com/news/local/riverside-denies-religious-exemptions-for-covid-vaccinations/article_388feeb0-19a0-11ec-84ac-23aaa5bcad69.html\n",
      "You must `download()` an article first!\n"
     ]
    },
    {
     "name": "stderr",
     "output_type": "stream",
     "text": [
      "not a 200 response: 451\n"
     ]
    },
    {
     "name": "stdout",
     "output_type": "stream",
     "text": [
      "Error while processing https://www.gwinnettdailypost.com/local/gwinnett-county-public-schools-offering-500-incentive-to-staff-members-who-are-vaccinated/article_a9ae7e62-0c2c-11ec-8b23-ab6c11538b98.html\n",
      "You must `download()` an article first!\n"
     ]
    },
    {
     "name": "stderr",
     "output_type": "stream",
     "text": [
      "not a 200 response: 451\n"
     ]
    },
    {
     "name": "stdout",
     "output_type": "stream",
     "text": [
      "Error while processing https://www.kitv.com/archive/illinois-woman-charged-for-using-fake-covid-19-vaccine-card-to-bypass-states-mandatory-quarantine/article_92621e29-abc9-5b9e-be22-7734f17a6c2b.html\n",
      "You must `download()` an article first!\n"
     ]
    },
    {
     "name": "stderr",
     "output_type": "stream",
     "text": [
      "error getting summary: \n",
      "Traceback (most recent call last):\n",
      "  File \"/home/rba/Projects/cultural-analytics/venv_culturalanalytics/lib/python3.8/site-packages/readability/readability.py\", line 213, in summary\n",
      "    self._html(True)\n",
      "  File \"/home/rba/Projects/cultural-analytics/venv_culturalanalytics/lib/python3.8/site-packages/readability/readability.py\", line 148, in _html\n",
      "    self.html = self._parse(self.input)\n",
      "  File \"/home/rba/Projects/cultural-analytics/venv_culturalanalytics/lib/python3.8/site-packages/readability/readability.py\", line 157, in _parse\n",
      "    doc, self.encoding = build_doc(input)\n",
      "  File \"/home/rba/Projects/cultural-analytics/venv_culturalanalytics/lib/python3.8/site-packages/readability/htmls.py\", line 21, in build_doc\n",
      "    doc = lxml.html.document_fromstring(\n",
      "  File \"/home/rba/Projects/cultural-analytics/venv_culturalanalytics/lib/python3.8/site-packages/lxml/html/__init__.py\", line 761, in document_fromstring\n",
      "    raise etree.ParserError(\n",
      "lxml.etree.ParserError: Document is empty\n"
     ]
    },
    {
     "name": "stdout",
     "output_type": "stream",
     "text": [
      "Error while processing https://www.haaretz.com/israel-news/2021-08-03/ty-article/israel-adds-18-countries-to-arrivals-quarantine-list/0000017f-e0e6-d75c-a7ff-fcef45f60000\n",
      "Document is empty\n",
      "5.75%\n"
     ]
    },
    {
     "name": "stderr",
     "output_type": "stream",
     "text": [
      "not a 200 response: 451\n"
     ]
    },
    {
     "name": "stdout",
     "output_type": "stream",
     "text": [
      "Error while processing https://www.daily-journal.com/news/coronavirus/coronavirus-local/amita-health-requiring-employees-to-be-covid-19-vaccinated/article_1ed8b318-050e-11ec-a786-0bc7860b5cbc.html\n",
      "You must `download()` an article first!\n"
     ]
    },
    {
     "name": "stderr",
     "output_type": "stream",
     "text": [
      "not a 200 response: 403\n"
     ]
    },
    {
     "name": "stdout",
     "output_type": "stream",
     "text": [
      "Error while processing https://www.devex.com/news/africans-view-covid-19-vaccines-as-less-safe-than-other-vaccines-99451\n",
      "You must `download()` an article first!\n",
      "5.83%\n"
     ]
    },
    {
     "name": "stderr",
     "output_type": "stream",
     "text": [
      "connection/timeout error: https://www.seattletimes.com/seattle-news/health/coronavirus-daily-news-updates-january-6-what-to-know-today-about-covid-19-in-the-seattle-area-washington-state-and-the-world-2/ HTTPSConnectionPool(host='www.seattletimes.com', port=443): Read timed out. (read timeout=5)\n"
     ]
    },
    {
     "name": "stdout",
     "output_type": "stream",
     "text": [
      "Error while processing https://www.seattletimes.com/seattle-news/health/coronavirus-daily-news-updates-january-6-what-to-know-today-about-covid-19-in-the-seattle-area-washington-state-and-the-world-2/\n",
      "You must `download()` an article first!\n",
      "5.92%\n",
      "6.0%\n"
     ]
    },
    {
     "name": "stderr",
     "output_type": "stream",
     "text": [
      "not a 200 response: 451\n"
     ]
    },
    {
     "name": "stdout",
     "output_type": "stream",
     "text": [
      "Error while processing https://www.sentinelsource.com/news/local/nh-bill-to-ban-vaccination-requirements-on-hold-for-now/article_02c9e91b-8c81-5b19-a2be-2b6bd3d9a64e.html\n",
      "You must `download()` an article first!\n"
     ]
    },
    {
     "name": "stderr",
     "output_type": "stream",
     "text": [
      "not a 200 response: 451\n"
     ]
    },
    {
     "name": "stdout",
     "output_type": "stream",
     "text": [
      "Error while processing https://www.hometownsource.com/elk_river_star_news/isd-728-passes-vaccine-policy/article_22fe3510-77cf-11ec-912f-abae2d962856.html\n",
      "You must `download()` an article first!\n",
      "6.08%\n"
     ]
    },
    {
     "name": "stderr",
     "output_type": "stream",
     "text": [
      "not a 200 response: 451\n"
     ]
    },
    {
     "name": "stdout",
     "output_type": "stream",
     "text": [
      "Error while processing https://www.kitv.com/news/coronavirus/potential-booster-shot-requirement-for-hawaiis-safe-travels-program-receives-mixed-reactions/article_104a93fc-7804-11ec-b119-c305d8d803c1.html\n",
      "You must `download()` an article first!\n",
      "6.17%\n",
      "6.25%\n"
     ]
    },
    {
     "name": "stderr",
     "output_type": "stream",
     "text": [
      "not a 200 response: 403\n"
     ]
    },
    {
     "name": "stdout",
     "output_type": "stream",
     "text": [
      "Error while processing https://www.ipsos.com/en/covid-19-expectations-vaccination-february-2022\n",
      "You must `download()` an article first!\n",
      "6.33%\n",
      "6.42%\n",
      "6.5%\n"
     ]
    },
    {
     "name": "stderr",
     "output_type": "stream",
     "text": [
      "not a 200 response: 403\n"
     ]
    },
    {
     "name": "stdout",
     "output_type": "stream",
     "text": [
      "Error while processing https://mb.com.ph/2022/04/25/with-borders-wide-open/\n",
      "You must `download()` an article first!\n",
      "6.58%\n"
     ]
    },
    {
     "name": "stderr",
     "output_type": "stream",
     "text": [
      "not a 200 response: 451\n"
     ]
    },
    {
     "name": "stdout",
     "output_type": "stream",
     "text": [
      "Error while processing https://www.paysonroundup.com/covid-19/new-laws-bar-future-mask-vaccine-mandates/article_67ad1b45-d5e1-5c10-a182-a2af7df8a158.html\n",
      "You must `download()` an article first!\n",
      "6.67%\n"
     ]
    },
    {
     "name": "stderr",
     "output_type": "stream",
     "text": [
      "not a 200 response: 451\n"
     ]
    },
    {
     "name": "stdout",
     "output_type": "stream",
     "text": [
      "Error while processing https://www.theeastsiderla.com/news/coronavirus_news/l-a-county-drops-proof-of-vaccination-at-large-indoor-events/article_318a6560-b215-11ec-9fd2-ebae3880ba95.html\n",
      "You must `download()` an article first!\n",
      "6.75%\n"
     ]
    },
    {
     "name": "stderr",
     "output_type": "stream",
     "text": [
      "not a 200 response: 503\n"
     ]
    },
    {
     "name": "stdout",
     "output_type": "stream",
     "text": [
      "Error while processing https://www.science.org/doi/10.1126/scitranslmed.abn3253\n",
      "You must `download()` an article first!\n",
      "6.83%\n",
      "6.92%\n"
     ]
    },
    {
     "name": "stderr",
     "output_type": "stream",
     "text": [
      "not a 200 response: 451\n"
     ]
    },
    {
     "name": "stdout",
     "output_type": "stream",
     "text": [
      "Error while processing https://www.idahopress.com/news/local/reality-is-complicated-how-misinformation-is-aiding-vaccine-hesitancy-online/article_20d9fce9-f3f1-590d-bd92-119433244896.html\n",
      "You must `download()` an article first!\n"
     ]
    },
    {
     "name": "stderr",
     "output_type": "stream",
     "text": [
      "not a 200 response: 503\n"
     ]
    },
    {
     "name": "stdout",
     "output_type": "stream",
     "text": [
      "Error while processing https://onlinelibrary.wiley.com/doi/10.1111/ene.15368\n",
      "You must `download()` an article first!\n",
      "7.0%\n"
     ]
    },
    {
     "name": "stderr",
     "output_type": "stream",
     "text": [
      "not a 200 response: 503\n"
     ]
    },
    {
     "name": "stdout",
     "output_type": "stream",
     "text": [
      "Error while processing https://www.thelancet.com/journals/eclinm/article/PIIS2589-5370(22)00105-5/fulltext\n",
      "You must `download()` an article first!\n",
      "7.08%\n",
      "7.17%\n",
      "7.25%\n",
      "7.33%\n",
      "7.42%\n",
      "7.5%\n",
      "7.58%\n",
      "7.67%\n",
      "7.75%\n",
      "7.83%\n",
      "7.92%\n"
     ]
    },
    {
     "name": "stderr",
     "output_type": "stream",
     "text": [
      "not a 200 response: 451\n"
     ]
    },
    {
     "name": "stdout",
     "output_type": "stream",
     "text": [
      "Error while processing https://www.myeasternshoremd.com/kent_county_news/news/regional/um-shore-regional-health-staff-refusing-mandatory-covid-vaccines-face-unpaid-leave-potential-resignation/article_2e6f5f49-7c01-5d61-afbf-3ea8d3279baa.html\n",
      "You must `download()` an article first!\n"
     ]
    },
    {
     "name": "stderr",
     "output_type": "stream",
     "text": [
      "not a 200 response: 451\n"
     ]
    },
    {
     "name": "stdout",
     "output_type": "stream",
     "text": [
      "Error while processing https://www.dcmilitary.com/tester/news/local/timeline-discharge-details-for-service-members-refusing-covid-19-vaccine/article_2093b1c5-747d-5b49-9a6c-366617f735f2.html\n",
      "You must `download()` an article first!\n"
     ]
    },
    {
     "name": "stderr",
     "output_type": "stream",
     "text": [
      "connection/timeout error: https://www.seattletimes.com/seattle-news/health/coronavirus-daily-news-updates-october-20-what-to-know-today-about-covid-19-in-the-seattle-area-washington-state-and-the-world-2/ HTTPSConnectionPool(host='www.seattletimes.com', port=443): Read timed out. (read timeout=5)\n"
     ]
    },
    {
     "name": "stdout",
     "output_type": "stream",
     "text": [
      "Error while processing https://www.seattletimes.com/seattle-news/health/coronavirus-daily-news-updates-october-20-what-to-know-today-about-covid-19-in-the-seattle-area-washington-state-and-the-world-2/\n",
      "You must `download()` an article first!\n",
      "8.0%\n"
     ]
    },
    {
     "name": "stderr",
     "output_type": "stream",
     "text": [
      "not a 200 response: 451\n"
     ]
    },
    {
     "name": "stdout",
     "output_type": "stream",
     "text": [
      "Error while processing https://www.newarkpostonline.com/news/university-of-delaware-announces-vaccine-mandate-for-employees/article_1097206e-0f1a-5645-8159-78add068bc98.html\n",
      "You must `download()` an article first!\n",
      "8.08%\n",
      "8.17%\n"
     ]
    },
    {
     "name": "stderr",
     "output_type": "stream",
     "text": [
      "not a 200 response: 451\n"
     ]
    },
    {
     "name": "stdout",
     "output_type": "stream",
     "text": [
      "Error while processing https://www.kitv.com/news/coronavirus/fda-puts-strict-limits-on-johnson-johnson-covid-19-vaccine/article_48cfe7ba-29c8-5202-b8c1-3422e18e5917.html\n",
      "You must `download()` an article first!\n"
     ]
    },
    {
     "name": "stderr",
     "output_type": "stream",
     "text": [
      "not a 200 response: 451\n"
     ]
    },
    {
     "name": "stdout",
     "output_type": "stream",
     "text": [
      "Error while processing https://www.kitv.com/news/business/fda-officials-say-annual-covid-19-shots-may-be-needed-in-the-future/article_334a8691-9cac-5e9c-b3d7-4ff0898f63f6.html\n",
      "You must `download()` an article first!\n"
     ]
    },
    {
     "name": "stderr",
     "output_type": "stream",
     "text": [
      "not a 200 response: 451\n"
     ]
    },
    {
     "name": "stdout",
     "output_type": "stream",
     "text": [
      "Error while processing https://www.idahopress.com/news/local/report-idaho-doctor-who-falsely-links-covid-19-vaccine-to-cancer-has-misdiagnosed-two-patients/article_02bc5311-d5b1-5e23-9f9e-7771b9774028.html\n",
      "You must `download()` an article first!\n",
      "8.25%\n",
      "8.33%\n"
     ]
    },
    {
     "name": "stderr",
     "output_type": "stream",
     "text": [
      "connection/timeout error: https://www.dhs.wisconsin.gov/news/releases/022322a.htm HTTPSConnectionPool(host='www.dhs.wisconsin.gov', port=443): Max retries exceeded with url: /news/releases/022322a.htm (Caused by NewConnectionError('<urllib3.connection.HTTPSConnection object at 0x7f8532ec7520>: Failed to establish a new connection: [Errno -3] Temporary failure in name resolution'))\n"
     ]
    },
    {
     "name": "stdout",
     "output_type": "stream",
     "text": [
      "Error while processing https://www.dhs.wisconsin.gov/news/releases/022322a.htm\n",
      "You must `download()` an article first!\n"
     ]
    },
    {
     "name": "stderr",
     "output_type": "stream",
     "text": [
      "not a 200 response: 503\n"
     ]
    },
    {
     "name": "stdout",
     "output_type": "stream",
     "text": [
      "Error while processing https://onlinelibrary.wiley.com/doi/10.1002/hsr2.516\n",
      "You must `download()` an article first!\n",
      "8.42%\n"
     ]
    },
    {
     "name": "stderr",
     "output_type": "stream",
     "text": [
      "not a 200 response: 503\n"
     ]
    },
    {
     "name": "stdout",
     "output_type": "stream",
     "text": [
      "Error while processing https://onlinelibrary.wiley.com/doi/10.1002/adts.202100521\n",
      "You must `download()` an article first!\n",
      "8.5%\n",
      "8.58%\n"
     ]
    },
    {
     "name": "stderr",
     "output_type": "stream",
     "text": [
      "not a 200 response: 403\n"
     ]
    },
    {
     "name": "stdout",
     "output_type": "stream",
     "text": [
      "Error while processing https://www.wthr.com/article/news/health/coronavirus/indiana-coronavirus-updates-thursday-june-2-2022/531-782c324e-e353-417a-b3c0-31d7330dd6b1\n",
      "You must `download()` an article first!\n",
      "8.67%\n"
     ]
    },
    {
     "name": "stderr",
     "output_type": "stream",
     "text": [
      "not a 200 response: 416\n"
     ]
    },
    {
     "name": "stdout",
     "output_type": "stream",
     "text": [
      "Error while processing https://theparadise.ng/will-monkeypox-be-the-next-great-democrat-scam/\n",
      "You must `download()` an article first!\n"
     ]
    },
    {
     "name": "stderr",
     "output_type": "stream",
     "text": [
      "not a 200 response: 451\n"
     ]
    },
    {
     "name": "stdout",
     "output_type": "stream",
     "text": [
      "Error while processing https://www.news-journal.com/herpes-zoster-therapeutics-market-size-to-grow-by-usd-4-51-billion-abbott-laboratories-and/article_035d0e82-4a57-5839-af5d-a5d54f8f3176.html\n",
      "You must `download()` an article first!\n",
      "8.75%\n"
     ]
    },
    {
     "name": "stderr",
     "output_type": "stream",
     "text": [
      "not a 200 response: 503\n"
     ]
    },
    {
     "name": "stdout",
     "output_type": "stream",
     "text": [
      "Error while processing https://www.thelancet.com/journals/lancet/article/PIIS0140-6736(21)02125-5/fulltext\n",
      "You must `download()` an article first!\n",
      "8.83%\n"
     ]
    },
    {
     "name": "stderr",
     "output_type": "stream",
     "text": [
      "not a 200 response: 451\n"
     ]
    },
    {
     "name": "stdout",
     "output_type": "stream",
     "text": [
      "Error while processing https://www.idahopress.com/news/local/what-really-counts-as-a-religious-exemption-to-the-covid-19-vaccine-employers-are-trying/article_1c5835a2-38ac-5b09-9ec4-3696ed0e06f0.html\n",
      "You must `download()` an article first!\n",
      "8.92%\n",
      "9.0%\n",
      "9.08%\n",
      "9.17%\n",
      "9.25%\n",
      "9.33%\n",
      "9.42%\n"
     ]
    },
    {
     "name": "stderr",
     "output_type": "stream",
     "text": [
      "not a 200 response: 451\n"
     ]
    },
    {
     "name": "stdout",
     "output_type": "stream",
     "text": [
      "Error while processing https://www.sentinelsource.com/news/local/legislation-seeks-mandatory-covid-19-vaccines-for-nh-schools/article_5f2780ff-a8be-5cb6-9828-ab353d6e7a3a.html\n",
      "You must `download()` an article first!\n"
     ]
    },
    {
     "name": "stderr",
     "output_type": "stream",
     "text": [
      "not a 200 response: 451\n"
     ]
    },
    {
     "name": "stdout",
     "output_type": "stream",
     "text": [
      "Error while processing https://www.hometownstations.com/news/st-ritas-employees-not-required-to-get-covid-19-vaccine/article_0ecff880-5a1f-11ec-8eda-63dddcbd4b3f.html\n",
      "You must `download()` an article first!\n",
      "9.5%\n",
      "9.58%\n"
     ]
    },
    {
     "name": "stderr",
     "output_type": "stream",
     "text": [
      "not a 200 response: 451\n"
     ]
    },
    {
     "name": "stdout",
     "output_type": "stream",
     "text": [
      "Error while processing https://www.lakecountyexam.com/oha-presents-update-on-digital-vaccine-project/article_eb3942f1-ddcd-5aac-9416-60085ba8a64a.html\n",
      "You must `download()` an article first!\n",
      "9.67%\n",
      "9.75%\n",
      "9.83%\n"
     ]
    },
    {
     "name": "stderr",
     "output_type": "stream",
     "text": [
      "connection/timeout error: https://www.usnews.com/news/best-countries/articles/2022-01-04/vaccine-apartheid-risks-rising-global-shortages-in-2022 HTTPSConnectionPool(host='www.usnews.com', port=443): Read timed out. (read timeout=5)\n"
     ]
    },
    {
     "name": "stdout",
     "output_type": "stream",
     "text": [
      "Error while processing https://www.usnews.com/news/best-countries/articles/2022-01-04/vaccine-apartheid-risks-rising-global-shortages-in-2022\n",
      "You must `download()` an article first!\n"
     ]
    },
    {
     "name": "stderr",
     "output_type": "stream",
     "text": [
      "not a 200 response: 503\n"
     ]
    },
    {
     "name": "stdout",
     "output_type": "stream",
     "text": [
      "Error while processing https://www.capradio.org/articles/2022/01/31/california-coronavirus-updates-january-2022/\n",
      "You must `download()` an article first!\n"
     ]
    },
    {
     "name": "stderr",
     "output_type": "stream",
     "text": [
      "not a 200 response: 403\n"
     ]
    },
    {
     "name": "stdout",
     "output_type": "stream",
     "text": [
      "Error while processing https://ohiocapitaljournal.com/2022/01/21/ohios-pandemic-politics-cast-long-shadow-over-omicron-surge/\n",
      "You must `download()` an article first!\n",
      "9.92%\n"
     ]
    },
    {
     "name": "stderr",
     "output_type": "stream",
     "text": [
      "not a 200 response: 503\n"
     ]
    },
    {
     "name": "stdout",
     "output_type": "stream",
     "text": [
      "Error while processing https://www.thelancet.com/journals/lancet/article/PIIS0140-6736(21)02004-3/fulltext\n",
      "You must `download()` an article first!\n"
     ]
    },
    {
     "name": "stderr",
     "output_type": "stream",
     "text": [
      "not a 200 response: 503\n"
     ]
    },
    {
     "name": "stdout",
     "output_type": "stream",
     "text": [
      "Error while processing https://spssi.onlinelibrary.wiley.com/doi/10.1111/asap.12300\n",
      "You must `download()` an article first!\n",
      "10.0%\n"
     ]
    },
    {
     "name": "stderr",
     "output_type": "stream",
     "text": [
      "not a 200 response: 503\n"
     ]
    },
    {
     "name": "stdout",
     "output_type": "stream",
     "text": [
      "Error while processing https://www.thelancet.com/journals/lancet/article/PIIS0140-6736(22)00160-X/fulltext\n",
      "You must `download()` an article first!\n",
      "10.08%\n"
     ]
    },
    {
     "name": "stderr",
     "output_type": "stream",
     "text": [
      "connection/timeout error: https://www.washingtonpost.com/nation/2022/01/19/covid-omicron-variant-live-updates/ HTTPSConnectionPool(host='www.washingtonpost.com', port=443): Read timed out. (read timeout=5)\n"
     ]
    },
    {
     "name": "stdout",
     "output_type": "stream",
     "text": [
      "Error while processing https://www.washingtonpost.com/nation/2022/01/19/covid-omicron-variant-live-updates/\n",
      "You must `download()` an article first!\n"
     ]
    },
    {
     "name": "stderr",
     "output_type": "stream",
     "text": [
      "not a 200 response: 451\n"
     ]
    },
    {
     "name": "stdout",
     "output_type": "stream",
     "text": [
      "Error while processing https://www.khon2.com/coronavirus/experts-say-boosters-required-to-be-considered-fully-vaccinated/\n",
      "You must `download()` an article first!\n",
      "10.17%\n"
     ]
    },
    {
     "name": "stderr",
     "output_type": "stream",
     "text": [
      "connection/timeout error: https://www.seattletimes.com/seattle-news/health/coronavirus-daily-news-updates-january-14-what-to-know-today-about-covid-19-in-the-seattle-area-washington-state-and-the-world-2/ HTTPSConnectionPool(host='www.seattletimes.com', port=443): Read timed out. (read timeout=5)\n"
     ]
    },
    {
     "name": "stdout",
     "output_type": "stream",
     "text": [
      "Error while processing https://www.seattletimes.com/seattle-news/health/coronavirus-daily-news-updates-january-14-what-to-know-today-about-covid-19-in-the-seattle-area-washington-state-and-the-world-2/\n",
      "You must `download()` an article first!\n",
      "10.25%\n",
      "10.33%\n",
      "10.42%\n"
     ]
    },
    {
     "name": "stderr",
     "output_type": "stream",
     "text": [
      "connection/timeout error: https://www.dhs.wisconsin.gov/news/releases/120921.htm HTTPSConnectionPool(host='www.dhs.wisconsin.gov', port=443): Max retries exceeded with url: /news/releases/120921.htm (Caused by NewConnectionError('<urllib3.connection.HTTPSConnection object at 0x7f85365984c0>: Failed to establish a new connection: [Errno -3] Temporary failure in name resolution'))\n"
     ]
    },
    {
     "name": "stdout",
     "output_type": "stream",
     "text": [
      "Error while processing https://www.dhs.wisconsin.gov/news/releases/120921.htm\n",
      "You must `download()` an article first!\n"
     ]
    },
    {
     "name": "stderr",
     "output_type": "stream",
     "text": [
      "not a 200 response: 403\n"
     ]
    },
    {
     "name": "stdout",
     "output_type": "stream",
     "text": [
      "Error while processing https://www.devex.com/news/devex-newswire-omicron-variant-refuels-vaccine-inequity-debates-102215\n",
      "You must `download()` an article first!\n",
      "10.5%\n"
     ]
    },
    {
     "name": "stderr",
     "output_type": "stream",
     "text": [
      "connection/timeout error: https://www.seattletimes.com/nation-world/winter-storms-covid-how-to-make-last-minute-flight-changes/ HTTPSConnectionPool(host='www.seattletimes.com', port=443): Read timed out. (read timeout=5)\n"
     ]
    },
    {
     "name": "stdout",
     "output_type": "stream",
     "text": [
      "Error while processing https://www.seattletimes.com/nation-world/winter-storms-covid-how-to-make-last-minute-flight-changes/\n",
      "You must `download()` an article first!\n",
      "10.58%\n",
      "10.67%\n"
     ]
    },
    {
     "name": "stderr",
     "output_type": "stream",
     "text": [
      "not a 200 response: 503\n"
     ]
    },
    {
     "name": "stdout",
     "output_type": "stream",
     "text": [
      "Error while processing https://www.thelancet.com/lancet/article/s0140-6736(20)31527-0\n",
      "You must `download()` an article first!\n"
     ]
    },
    {
     "name": "stderr",
     "output_type": "stream",
     "text": [
      "not a 200 response: 403\n"
     ]
    },
    {
     "name": "stdout",
     "output_type": "stream",
     "text": [
      "Error while processing https://www.wtol.com/article/news/health/coronavirus/difference-between-a-law-an-order-and-a-mandate/512-0edaafe6-6ba3-40b9-83cb-749e028d00d2\n",
      "You must `download()` an article first!\n",
      "10.75%\n",
      "10.83%\n"
     ]
    },
    {
     "name": "stderr",
     "output_type": "stream",
     "text": [
      "not a 200 response: 451\n"
     ]
    },
    {
     "name": "stdout",
     "output_type": "stream",
     "text": [
      "Error while processing https://www.wvnews.com/news/wvnews/west-virginia-gov-jim-justice-pushes-back-on-bidens-vaccine-initiative/article_13595e40-1254-11ec-93ef-ef992da71006.html\n",
      "You must `download()` an article first!\n",
      "10.92%\n"
     ]
    },
    {
     "name": "stderr",
     "output_type": "stream",
     "text": [
      "not a 200 response: 451\n"
     ]
    },
    {
     "name": "stdout",
     "output_type": "stream",
     "text": [
      "Error while processing https://www.thelcn.com/news/publicservicenews/covid-19-vaccines-mandate-opponents-see-shadow-of-nazi-regime-not-so-fast-expert-says/article_4aed5c5e-aa3c-5887-be5a-d8d2c2881a8b.html\n",
      "You must `download()` an article first!\n",
      "11.0%\n"
     ]
    },
    {
     "name": "stderr",
     "output_type": "stream",
     "text": [
      "not a 200 response: 503\n"
     ]
    },
    {
     "name": "stdout",
     "output_type": "stream",
     "text": [
      "Error while processing https://www.thelancet.com/journals/langlo/article/PIIS2214-109X(21)00512-X/fulltext\n",
      "You must `download()` an article first!\n",
      "11.08%\n"
     ]
    },
    {
     "name": "stderr",
     "output_type": "stream",
     "text": [
      "not a 200 response: 403\n"
     ]
    },
    {
     "name": "stdout",
     "output_type": "stream",
     "text": [
      "Error while processing https://www.wusa9.com/article/news/verify/did-nations-with-vaccines-withhold-them-from-south-africa/65-32e4e183-afed-4643-92f4-94dd8ddf049f\n",
      "You must `download()` an article first!\n"
     ]
    },
    {
     "name": "stderr",
     "output_type": "stream",
     "text": [
      "connection/timeout error: https://www.seattletimes.com/seattle-news/health/coronavirus-daily-news-updates-december-4-what-to-know-today-about-covid-19-in-the-seattle-area-washington-state-and-the-world-2/ HTTPSConnectionPool(host='www.seattletimes.com', port=443): Read timed out. (read timeout=5)\n"
     ]
    },
    {
     "name": "stdout",
     "output_type": "stream",
     "text": [
      "Error while processing https://www.seattletimes.com/seattle-news/health/coronavirus-daily-news-updates-december-4-what-to-know-today-about-covid-19-in-the-seattle-area-washington-state-and-the-world-2/\n",
      "You must `download()` an article first!\n",
      "11.17%\n"
     ]
    },
    {
     "name": "stderr",
     "output_type": "stream",
     "text": [
      "not a 200 response: 416\n"
     ]
    },
    {
     "name": "stdout",
     "output_type": "stream",
     "text": [
      "Error while processing https://theparadise.ng/italian-court-rules-mandatory-vaccination-unconstitutional-fatal-side-effects-too-risky-video/\n",
      "You must `download()` an article first!\n",
      "11.25%\n"
     ]
    },
    {
     "name": "stderr",
     "output_type": "stream",
     "text": [
      "connection/timeout error: https://www.washingtonpost.com/travel/tips/tsa-mask-mandate-airlines/ HTTPSConnectionPool(host='www.washingtonpost.com', port=443): Read timed out. (read timeout=5)\n"
     ]
    },
    {
     "name": "stdout",
     "output_type": "stream",
     "text": [
      "Error while processing https://www.washingtonpost.com/travel/tips/tsa-mask-mandate-airlines/\n",
      "You must `download()` an article first!\n"
     ]
    },
    {
     "name": "stderr",
     "output_type": "stream",
     "text": [
      "not a 200 response: 503\n"
     ]
    },
    {
     "name": "stdout",
     "output_type": "stream",
     "text": [
      "Error while processing https://agupubs.onlinelibrary.wiley.com/doi/10.1029/2021GH000568\n",
      "You must `download()` an article first!\n",
      "11.33%\n",
      "11.42%\n"
     ]
    },
    {
     "name": "stderr",
     "output_type": "stream",
     "text": [
      "not a 200 response: 503\n"
     ]
    },
    {
     "name": "stdout",
     "output_type": "stream",
     "text": [
      "Error while processing https://onlinelibrary.wiley.com/doi/full/10.1111/1467-923X.13131\n",
      "You must `download()` an article first!\n"
     ]
    },
    {
     "name": "stderr",
     "output_type": "stream",
     "text": [
      "not a 200 response: 403\n"
     ]
    },
    {
     "name": "stdout",
     "output_type": "stream",
     "text": [
      "Error while processing https://mb.com.ph/2022/04/07/incentives-restrictions-recommended-instead-of-mandatory-vaccination-against-covid-19/\n",
      "You must `download()` an article first!\n",
      "11.5%\n",
      "11.58%\n",
      "11.67%\n",
      "11.75%\n",
      "11.83%\n"
     ]
    },
    {
     "name": "stderr",
     "output_type": "stream",
     "text": [
      "not a 200 response: 503\n"
     ]
    },
    {
     "name": "stdout",
     "output_type": "stream",
     "text": [
      "Error while processing https://www.thelancet.com/journals/lancet/article/PIIS0140-6736(21)00779-0/fulltext\n",
      "You must `download()` an article first!\n"
     ]
    },
    {
     "name": "stderr",
     "output_type": "stream",
     "text": [
      "not a 200 response: 503\n"
     ]
    },
    {
     "name": "stdout",
     "output_type": "stream",
     "text": [
      "Error while processing https://bpspubs.onlinelibrary.wiley.com/doi/10.1111/bcp.14875\n",
      "You must `download()` an article first!\n",
      "11.92%\n"
     ]
    },
    {
     "name": "stderr",
     "output_type": "stream",
     "text": [
      "not a 200 response: 503\n"
     ]
    },
    {
     "name": "stdout",
     "output_type": "stream",
     "text": [
      "Error while processing https://bpspsychub.onlinelibrary.wiley.com/doi/10.1111/bjhp.12520\n",
      "You must `download()` an article first!\n",
      "12.0%\n"
     ]
    },
    {
     "name": "stderr",
     "output_type": "stream",
     "text": [
      "not a 200 response: 503\n"
     ]
    },
    {
     "name": "stdout",
     "output_type": "stream",
     "text": [
      "Error while processing https://www.thelancet.com/journals/lanepe/article/PIIS2666-7762(22)00108-9/fulltext\n",
      "You must `download()` an article first!\n"
     ]
    },
    {
     "name": "stderr",
     "output_type": "stream",
     "text": [
      "not a 200 response: 503\n"
     ]
    },
    {
     "name": "stdout",
     "output_type": "stream",
     "text": [
      "Error while processing https://www.thelancet.com/journals/eclinm/article/PIIS2589-5370(22)00184-5/fulltext\n",
      "You must `download()` an article first!\n"
     ]
    },
    {
     "name": "stderr",
     "output_type": "stream",
     "text": [
      "not a 200 response: 503\n"
     ]
    },
    {
     "name": "stdout",
     "output_type": "stream",
     "text": [
      "Error while processing https://onlinelibrary.wiley.com/doi/10.1002/hpja.610\n",
      "You must `download()` an article first!\n",
      "12.08%\n",
      "12.17%\n"
     ]
    },
    {
     "name": "stderr",
     "output_type": "stream",
     "text": [
      "connection/timeout error: https://www.philasd.org/blog/2021/08/25/mandatoryvax/ HTTPSConnectionPool(host='www.philasd.org', port=443): Max retries exceeded with url: /blog/2021/08/25/mandatoryvax/ (Caused by ConnectTimeoutError(<urllib3.connection.HTTPSConnection object at 0x7f8533146d90>, 'Connection to www.philasd.org timed out. (connect timeout=5)'))\n"
     ]
    },
    {
     "name": "stdout",
     "output_type": "stream",
     "text": [
      "Error while processing https://www.philasd.org/blog/2021/08/25/mandatoryvax/\n",
      "You must `download()` an article first!\n",
      "12.25%\n"
     ]
    },
    {
     "name": "stderr",
     "output_type": "stream",
     "text": [
      "error getting summary: \n",
      "Traceback (most recent call last):\n",
      "  File \"/home/rba/Projects/cultural-analytics/venv_culturalanalytics/lib/python3.8/site-packages/readability/readability.py\", line 213, in summary\n",
      "    self._html(True)\n",
      "  File \"/home/rba/Projects/cultural-analytics/venv_culturalanalytics/lib/python3.8/site-packages/readability/readability.py\", line 148, in _html\n",
      "    self.html = self._parse(self.input)\n",
      "  File \"/home/rba/Projects/cultural-analytics/venv_culturalanalytics/lib/python3.8/site-packages/readability/readability.py\", line 157, in _parse\n",
      "    doc, self.encoding = build_doc(input)\n",
      "  File \"/home/rba/Projects/cultural-analytics/venv_culturalanalytics/lib/python3.8/site-packages/readability/htmls.py\", line 21, in build_doc\n",
      "    doc = lxml.html.document_fromstring(\n",
      "  File \"/home/rba/Projects/cultural-analytics/venv_culturalanalytics/lib/python3.8/site-packages/lxml/html/__init__.py\", line 761, in document_fromstring\n",
      "    raise etree.ParserError(\n",
      "lxml.etree.ParserError: Document is empty\n"
     ]
    },
    {
     "name": "stdout",
     "output_type": "stream",
     "text": [
      "Error while processing https://www.haaretz.com/israel-news/2021-08-16/ty-article/israel-tightens-covid-restrictions-starting-next-week-as-cases-mount/0000017f-e322-df7c-a5ff-e37ac36d0000\n",
      "Document is empty\n"
     ]
    },
    {
     "name": "stderr",
     "output_type": "stream",
     "text": [
      "connection/timeout error: https://www.seattletimes.com/seattle-news/health/coronavirus-daily-news-updates-aug-26-what-to-know-today-about-covid-19-in-the-seattle-area-washington-state-and-the-world/ HTTPSConnectionPool(host='www.seattletimes.com', port=443): Read timed out. (read timeout=5)\n"
     ]
    },
    {
     "name": "stdout",
     "output_type": "stream",
     "text": [
      "Error while processing https://www.seattletimes.com/seattle-news/health/coronavirus-daily-news-updates-aug-26-what-to-know-today-about-covid-19-in-the-seattle-area-washington-state-and-the-world/\n",
      "You must `download()` an article first!\n",
      "12.33%\n"
     ]
    },
    {
     "name": "stderr",
     "output_type": "stream",
     "text": [
      "connection/timeout error: https://www1.nyc.gov/office-of-the-mayor/news/075-000/executive-order-75 HTTPSConnectionPool(host='www1.nyc.gov', port=443): Read timed out. (read timeout=5)\n"
     ]
    },
    {
     "name": "stdout",
     "output_type": "stream",
     "text": [
      "Error while processing https://www1.nyc.gov/office-of-the-mayor/news/075-000/executive-order-75\n",
      "You must `download()` an article first!\n",
      "12.42%\n"
     ]
    },
    {
     "name": "stderr",
     "output_type": "stream",
     "text": [
      "connection/timeout error: https://www.watervlietcityschools.org/important-information-for-student-athletes-participating-in-high-risk-sports/ HTTPSConnectionPool(host='www.watervlietcityschools.org', port=443): Read timed out. (read timeout=5)\n"
     ]
    },
    {
     "name": "stdout",
     "output_type": "stream",
     "text": [
      "Error while processing https://www.watervlietcityschools.org/important-information-for-student-athletes-participating-in-high-risk-sports/\n",
      "You must `download()` an article first!\n",
      "12.5%\n"
     ]
    },
    {
     "name": "stderr",
     "output_type": "stream",
     "text": [
      "not a 200 response: 451\n"
     ]
    },
    {
     "name": "stdout",
     "output_type": "stream",
     "text": [
      "Error while processing https://www.myeasternshoremd.com/emergency_notice/vaccine-mandates-perdue-farms-leaving-decisions-to-employees-hogan-presses-nursing-homes-on-covid-shots/article_c0ac38b7-02ec-532e-9b6f-e2ea70a83434.html\n",
      "You must `download()` an article first!\n"
     ]
    },
    {
     "name": "stderr",
     "output_type": "stream",
     "text": [
      "not a 200 response: 451\n"
     ]
    },
    {
     "name": "stdout",
     "output_type": "stream",
     "text": [
      "Error while processing https://www.idahopress.com/news/local/eastern-idaho-hospitals-not-requiring-covid-vaccines-for-employees-yet/article_8f439b51-0db0-5359-9202-59e7a0bbc6c9.html\n",
      "You must `download()` an article first!\n",
      "12.58%\n"
     ]
    },
    {
     "name": "stderr",
     "output_type": "stream",
     "text": [
      "not a 200 response: 403\n"
     ]
    },
    {
     "name": "stdout",
     "output_type": "stream",
     "text": [
      "Error while processing https://www.wusa9.com/article/news/verify/covid-vaccine-mandates-does-your-employer-have-to-make-you-take-the-vaccine-fact-check/65-f46ecbf0-fdb4-4250-aa65-f0ae36817878\n",
      "You must `download()` an article first!\n"
     ]
    },
    {
     "name": "stderr",
     "output_type": "stream",
     "text": [
      "not a 200 response: 403\n"
     ]
    },
    {
     "name": "stdout",
     "output_type": "stream",
     "text": [
      "Error while processing https://www.wcnc.com/article/news/health/coronavirus/south-carolina-lawmakers-propose-bill-ban-mandatory-vaccinations/275-212ea79e-d358-49bb-a1a6-41e2f0e4a2c6\n",
      "You must `download()` an article first!\n",
      "12.67%\n"
     ]
    },
    {
     "name": "stderr",
     "output_type": "stream",
     "text": [
      "not a 200 response: 403\n"
     ]
    },
    {
     "name": "stdout",
     "output_type": "stream",
     "text": [
      "Error while processing https://www.wusa9.com/article/news/verify/verify-children-vaccine-consent-law-is-local/507-4355f66b-2128-4d37-9d37-12181765c66b\n",
      "You must `download()` an article first!\n",
      "12.75%\n",
      "12.83%\n",
      "12.92%\n",
      "13.0%\n",
      "13.08%\n",
      "13.17%\n",
      "13.25%\n"
     ]
    },
    {
     "name": "stderr",
     "output_type": "stream",
     "text": [
      "not a 200 response: 403\n"
     ]
    },
    {
     "name": "stdout",
     "output_type": "stream",
     "text": [
      "Error while processing https://www.devex.com/news/the-looming-covid-19-treatment-equity-gap-102816\n",
      "You must `download()` an article first!\n"
     ]
    },
    {
     "name": "stderr",
     "output_type": "stream",
     "text": [
      "connection/timeout error: https://www.nasdaq.com/articles/why-novavax-stock-is-already-down-30-this-year HTTPSConnectionPool(host='www.nasdaq.com', port=443): Read timed out. (read timeout=5)\n"
     ]
    },
    {
     "name": "stdout",
     "output_type": "stream",
     "text": [
      "Error while processing https://www.nasdaq.com/articles/why-novavax-stock-is-already-down-30-this-year\n",
      "You must `download()` an article first!\n"
     ]
    },
    {
     "name": "stderr",
     "output_type": "stream",
     "text": [
      "connection/timeout error: https://www.seattletimes.com/seattle-news/health/at-some-seattle-area-mass-vaccination-sites-covid-19-vaccine-supply-has-started-to-exceed-demand/ HTTPSConnectionPool(host='www.seattletimes.com', port=443): Read timed out. (read timeout=5)\n"
     ]
    },
    {
     "name": "stdout",
     "output_type": "stream",
     "text": [
      "Error while processing https://www.seattletimes.com/seattle-news/health/at-some-seattle-area-mass-vaccination-sites-covid-19-vaccine-supply-has-started-to-exceed-demand/\n",
      "You must `download()` an article first!\n",
      "13.33%\n"
     ]
    },
    {
     "name": "stderr",
     "output_type": "stream",
     "text": [
      "connection/timeout error: https://www.washingtonpost.com/history/2021/04/01/vaccine-supreme-court-smallpox-covid/ HTTPSConnectionPool(host='www.washingtonpost.com', port=443): Read timed out. (read timeout=5)\n"
     ]
    },
    {
     "name": "stdout",
     "output_type": "stream",
     "text": [
      "Error while processing https://www.washingtonpost.com/history/2021/04/01/vaccine-supreme-court-smallpox-covid/\n",
      "You must `download()` an article first!\n"
     ]
    },
    {
     "name": "stderr",
     "output_type": "stream",
     "text": [
      "connection/timeout error: https://www.washingtonpost.com/health/poll-johnson-johnson-vaccine/2021/04/26/a1085b26-a3ad-11eb-a774-7b47ceb36ee8_story.html HTTPSConnectionPool(host='www.washingtonpost.com', port=443): Read timed out. (read timeout=5)\n"
     ]
    },
    {
     "name": "stdout",
     "output_type": "stream",
     "text": [
      "Error while processing https://www.washingtonpost.com/health/poll-johnson-johnson-vaccine/2021/04/26/a1085b26-a3ad-11eb-a774-7b47ceb36ee8_story.html\n",
      "You must `download()` an article first!\n"
     ]
    },
    {
     "name": "stderr",
     "output_type": "stream",
     "text": [
      "connection/timeout error: https://www.washingtonpost.com/world/europe/italy-vaccination-mandate-workers/2021/10/15/d1b045e2-2d99-11ec-b17d-985c186de338_story.html HTTPSConnectionPool(host='www.washingtonpost.com', port=443): Read timed out. (read timeout=5)\n"
     ]
    },
    {
     "name": "stdout",
     "output_type": "stream",
     "text": [
      "Error while processing https://www.washingtonpost.com/world/europe/italy-vaccination-mandate-workers/2021/10/15/d1b045e2-2d99-11ec-b17d-985c186de338_story.html\n",
      "You must `download()` an article first!\n"
     ]
    },
    {
     "name": "stderr",
     "output_type": "stream",
     "text": [
      "connection/timeout error: https://www.washingtonpost.com/world/2021/10/20/british-government-plan-b-covid/ HTTPSConnectionPool(host='www.washingtonpost.com', port=443): Read timed out. (read timeout=5)\n"
     ]
    },
    {
     "name": "stdout",
     "output_type": "stream",
     "text": [
      "Error while processing https://www.washingtonpost.com/world/2021/10/20/british-government-plan-b-covid/\n",
      "You must `download()` an article first!\n",
      "13.42%\n"
     ]
    },
    {
     "name": "stderr",
     "output_type": "stream",
     "text": [
      "not a 200 response: 403\n"
     ]
    },
    {
     "name": "stdout",
     "output_type": "stream",
     "text": [
      "Error while processing https://www.ntnews.com.au/news/opinion/safeguarding-nt-with-vaccines-is-vital-says-chamber-of-commerce-ceo-greg-ireland/news-story/080b0e270e29a6dcc7a6d7f28b395e0a\n",
      "You must `download()` an article first!\n",
      "13.5%\n"
     ]
    },
    {
     "name": "stderr",
     "output_type": "stream",
     "text": [
      "connection/timeout error: https://www.nova.ie/professor-calls-for-mandatory-vaccine-certs-to-make-it-socially-unacceptable-to-be-unvaccinated-212212/ HTTPSConnectionPool(host='www.nova.ie', port=443): Read timed out. (read timeout=5)\n"
     ]
    },
    {
     "name": "stdout",
     "output_type": "stream",
     "text": [
      "Error while processing https://www.nova.ie/professor-calls-for-mandatory-vaccine-certs-to-make-it-socially-unacceptable-to-be-unvaccinated-212212/\n",
      "You must `download()` an article first!\n"
     ]
    },
    {
     "name": "stderr",
     "output_type": "stream",
     "text": [
      "connection/timeout error: https://www.pulsetoday.co.uk/news/breaking-news/gps-will-be-asked-to-clinically-review-covid-pass-exemption-applications/ HTTPSConnectionPool(host='www.pulsetoday.co.uk', port=443): Read timed out. (read timeout=5)\n"
     ]
    },
    {
     "name": "stdout",
     "output_type": "stream",
     "text": [
      "Error while processing https://www.pulsetoday.co.uk/news/breaking-news/gps-will-be-asked-to-clinically-review-covid-pass-exemption-applications/\n",
      "You must `download()` an article first!\n"
     ]
    },
    {
     "name": "stderr",
     "output_type": "stream",
     "text": [
      "not a 200 response: 451\n"
     ]
    },
    {
     "name": "stdout",
     "output_type": "stream",
     "text": [
      "Error while processing https://pix11.com/news/coronavirus/nj-covid-latest-monday-april-25-2022/\n",
      "You must `download()` an article first!\n"
     ]
    },
    {
     "name": "stderr",
     "output_type": "stream",
     "text": [
      "connection/timeout error: https://www.precisionvaccinations.com/hepatitis-adenovirus-outbreak-169-children-becomes-severe HTTPSConnectionPool(host='www.precisionvaccinations.com', port=443): Read timed out. (read timeout=5)\n"
     ]
    },
    {
     "name": "stdout",
     "output_type": "stream",
     "text": [
      "Error while processing https://www.precisionvaccinations.com/hepatitis-adenovirus-outbreak-169-children-becomes-severe\n",
      "You must `download()` an article first!\n",
      "13.58%\n"
     ]
    },
    {
     "name": "stderr",
     "output_type": "stream",
     "text": [
      "not a 200 response: 451\n"
     ]
    },
    {
     "name": "stdout",
     "output_type": "stream",
     "text": [
      "Error while processing https://pix11.com/news/coronavirus/nj-covid-latest-wednesday-april-27-2022/\n",
      "You must `download()` an article first!\n"
     ]
    },
    {
     "name": "stderr",
     "output_type": "stream",
     "text": [
      "not a 200 response: 451\n"
     ]
    },
    {
     "name": "stdout",
     "output_type": "stream",
     "text": [
      "Error while processing https://pix11.com/news/coronavirus/nj-covid-latest-thursday-march-31-2022/\n",
      "You must `download()` an article first!\n"
     ]
    },
    {
     "name": "stderr",
     "output_type": "stream",
     "text": [
      "not a 200 response: 451\n"
     ]
    },
    {
     "name": "stdout",
     "output_type": "stream",
     "text": [
      "Error while processing https://pix11.com/news/coronavirus/ny-covid-latest-saturday-april-9-2022/\n",
      "You must `download()` an article first!\n",
      "13.67%\n"
     ]
    },
    {
     "name": "stderr",
     "output_type": "stream",
     "text": [
      "not a 200 response: 451\n"
     ]
    },
    {
     "name": "stdout",
     "output_type": "stream",
     "text": [
      "Error while processing https://pix11.com/news/coronavirus/ny-covid-latest-thursday-april-28-2022/\n",
      "You must `download()` an article first!\n"
     ]
    },
    {
     "name": "stderr",
     "output_type": "stream",
     "text": [
      "not a 200 response: 451\n"
     ]
    },
    {
     "name": "stdout",
     "output_type": "stream",
     "text": [
      "Error while processing https://pix11.com/news/coronavirus/ny-covid-latest-friday-april-1-2022/\n",
      "You must `download()` an article first!\n"
     ]
    },
    {
     "name": "stderr",
     "output_type": "stream",
     "text": [
      "not a 200 response: 451\n"
     ]
    },
    {
     "name": "stdout",
     "output_type": "stream",
     "text": [
      "Error while processing https://www.eastoregonian.com/coronavirus/oregon-launches-digital-vaccine-card-unclear-how-many-people-will-use-it/article_ed7a898b-0a14-58d2-aa01-bd7ae6dbb5da.html\n",
      "You must `download()` an article first!\n"
     ]
    },
    {
     "name": "stderr",
     "output_type": "stream",
     "text": [
      "connection/timeout error: https://www.washingtonpost.com/politics/2021/08/25/us-coronavirus-infighting/ HTTPSConnectionPool(host='www.washingtonpost.com', port=443): Read timed out. (read timeout=5)\n"
     ]
    },
    {
     "name": "stdout",
     "output_type": "stream",
     "text": [
      "Error while processing https://www.washingtonpost.com/politics/2021/08/25/us-coronavirus-infighting/\n",
      "You must `download()` an article first!\n",
      "13.75%\n"
     ]
    },
    {
     "name": "stderr",
     "output_type": "stream",
     "text": [
      "connection/timeout error: https://www.washingtonpost.com/world/asia_pacific/north-korea-vaccine-delay/2021/08/24/fdf1b054-031a-11ec-825d-01701f9ded64_story.html HTTPSConnectionPool(host='www.washingtonpost.com', port=443): Read timed out. (read timeout=5)\n"
     ]
    },
    {
     "name": "stdout",
     "output_type": "stream",
     "text": [
      "Error while processing https://www.washingtonpost.com/world/asia_pacific/north-korea-vaccine-delay/2021/08/24/fdf1b054-031a-11ec-825d-01701f9ded64_story.html\n",
      "You must `download()` an article first!\n",
      "13.83%\n"
     ]
    },
    {
     "name": "stderr",
     "output_type": "stream",
     "text": [
      "not a 200 response: 500\n"
     ]
    },
    {
     "name": "stdout",
     "output_type": "stream",
     "text": [
      "Error while processing https://www.nytimes.com/live/2021/08/24/world/covid-delta-variant-vaccine\n",
      "You must `download()` an article first!\n",
      "13.92%\n"
     ]
    },
    {
     "name": "stderr",
     "output_type": "stream",
     "text": [
      "connection/timeout error: https://www.mcclatchydc.com/news/politics-government/article258523883.html HTTPSConnectionPool(host='www.mcclatchydc.com', port=443): Read timed out. (read timeout=5)\n"
     ]
    },
    {
     "name": "stdout",
     "output_type": "stream",
     "text": [
      "Error while processing https://www.mcclatchydc.com/news/politics-government/article258523883.html\n",
      "You must `download()` an article first!\n",
      "14.0%\n"
     ]
    },
    {
     "name": "stderr",
     "output_type": "stream",
     "text": [
      "connection/timeout error: https://centreforaviation.com/analysis/reports/flughafen-wien-projects-return-to-profitability-in-2022-anchored-on-previous-big-cost-savings-598490 HTTPSConnectionPool(host='centreforaviation.com', port=443): Read timed out. (read timeout=5)\n"
     ]
    },
    {
     "name": "stdout",
     "output_type": "stream",
     "text": [
      "Error while processing https://centreforaviation.com/analysis/reports/flughafen-wien-projects-return-to-profitability-in-2022-anchored-on-previous-big-cost-savings-598490\n",
      "You must `download()` an article first!\n",
      "14.08%\n"
     ]
    },
    {
     "name": "stderr",
     "output_type": "stream",
     "text": [
      "connection/timeout error: https://www.traveller.com.au/travelling-in-europe-during-the-pandemic-everything-you-need-to-know-h21fxu HTTPSConnectionPool(host='www.traveller.com.au', port=443): Read timed out. (read timeout=5)\n"
     ]
    },
    {
     "name": "stdout",
     "output_type": "stream",
     "text": [
      "Error while processing https://www.traveller.com.au/travelling-in-europe-during-the-pandemic-everything-you-need-to-know-h21fxu\n",
      "You must `download()` an article first!\n",
      "14.17%\n"
     ]
    },
    {
     "name": "stderr",
     "output_type": "stream",
     "text": [
      "not a 200 response: 503\n"
     ]
    },
    {
     "name": "stdout",
     "output_type": "stream",
     "text": [
      "Error while processing https://www.capradio.org/articles/2022/05/31/california-coronavirus-updates-may-2022/\n",
      "You must `download()` an article first!\n",
      "14.25%\n"
     ]
    },
    {
     "name": "stderr",
     "output_type": "stream",
     "text": [
      "not a 200 response: 503\n"
     ]
    },
    {
     "name": "stdout",
     "output_type": "stream",
     "text": [
      "Error while processing https://www.capradio.org/articles/2022/05/19/california-coronavirus-updates-may-2022/\n",
      "You must `download()` an article first!\n"
     ]
    },
    {
     "name": "stderr",
     "output_type": "stream",
     "text": [
      "not a 200 response: 503\n"
     ]
    },
    {
     "name": "stdout",
     "output_type": "stream",
     "text": [
      "Error while processing https://www.capradio.org/articles/2022/05/20/california-coronavirus-updates-may-2022\n",
      "You must `download()` an article first!\n"
     ]
    },
    {
     "name": "stderr",
     "output_type": "stream",
     "text": [
      "not a 200 response: 503\n"
     ]
    },
    {
     "name": "stdout",
     "output_type": "stream",
     "text": [
      "Error while processing https://www.thelancet.com/journals/lanepe/article/PIIS2666-7762(22)00106-5/fulltext\n",
      "You must `download()` an article first!\n",
      "14.33%\n"
     ]
    },
    {
     "name": "stderr",
     "output_type": "stream",
     "text": [
      "not a 200 response: 403\n"
     ]
    },
    {
     "name": "stdout",
     "output_type": "stream",
     "text": [
      "Error while processing https://www.devex.com/news/can-a-watered-down-trips-waiver-still-matter-103334\n",
      "You must `download()` an article first!\n"
     ]
    },
    {
     "name": "stderr",
     "output_type": "stream",
     "text": [
      "connection/timeout error: https://www.washingtonpost.com/world/2022/05/20/australia-election-faq/ HTTPSConnectionPool(host='www.washingtonpost.com', port=443): Read timed out. (read timeout=5)\n"
     ]
    },
    {
     "name": "stdout",
     "output_type": "stream",
     "text": [
      "Error while processing https://www.washingtonpost.com/world/2022/05/20/australia-election-faq/\n",
      "You must `download()` an article first!\n",
      "14.42%\n"
     ]
    },
    {
     "name": "stderr",
     "output_type": "stream",
     "text": [
      "connection/timeout error: https://highlandcountypress.com/Content/Opinions/Opinion/Article/A-threat-to-global-innovation-at-the-WTO/4/22/79180 HTTPSConnectionPool(host='highlandcountypress.com', port=443): Max retries exceeded with url: /Content/Opinions/Opinion/Article/A-threat-to-global-innovation-at-the-WTO/4/22/79180 (Caused by ConnectTimeoutError(<urllib3.connection.HTTPSConnection object at 0x7f8533fb0640>, 'Connection to highlandcountypress.com timed out. (connect timeout=5)'))\n"
     ]
    },
    {
     "name": "stdout",
     "output_type": "stream",
     "text": [
      "Error while processing https://highlandcountypress.com/Content/Opinions/Opinion/Article/A-threat-to-global-innovation-at-the-WTO/4/22/79180\n",
      "You must `download()` an article first!\n"
     ]
    },
    {
     "name": "stderr",
     "output_type": "stream",
     "text": [
      "connection/timeout error: https://www.pattayamail.com/thailandnews/foreign-arrivals-will-still-have-to-register-with-thailand-pass-system-400005 HTTPSConnectionPool(host='www.pattayamail.com', port=443): Read timed out. (read timeout=5)\n"
     ]
    },
    {
     "name": "stdout",
     "output_type": "stream",
     "text": [
      "Error while processing https://www.pattayamail.com/thailandnews/foreign-arrivals-will-still-have-to-register-with-thailand-pass-system-400005\n",
      "You must `download()` an article first!\n"
     ]
    },
    {
     "name": "stderr",
     "output_type": "stream",
     "text": [
      "not a 200 response: 416\n"
     ]
    },
    {
     "name": "stdout",
     "output_type": "stream",
     "text": [
      "Error while processing https://theparadise.ng/as-questions-swirl-around-monkeypox-origins-risk-big-pharma-set-sights-on-profits/\n",
      "You must `download()` an article first!\n",
      "14.5%\n"
     ]
    },
    {
     "name": "stderr",
     "output_type": "stream",
     "text": [
      "not a 200 response: 503\n"
     ]
    },
    {
     "name": "stdout",
     "output_type": "stream",
     "text": [
      "Error while processing https://www.pnas.org/doi/10.1073/pnas.2122664119\n",
      "You must `download()` an article first!\n"
     ]
    },
    {
     "name": "stderr",
     "output_type": "stream",
     "text": [
      "not a 200 response: 451\n"
     ]
    },
    {
     "name": "stdout",
     "output_type": "stream",
     "text": [
      "Error while processing https://www.thederrick.com/ap/sports/miami-native-deandre-johnson-looks-to-take-advantage-of-consecutive-opportunities-with-um-dolphins/article_5c34939f-8256-509b-8e05-0654e7e54360.html\n",
      "You must `download()` an article first!\n"
     ]
    },
    {
     "name": "stderr",
     "output_type": "stream",
     "text": [
      "not a 200 response: 451\n"
     ]
    },
    {
     "name": "stdout",
     "output_type": "stream",
     "text": [
      "Error while processing https://www.thederrick.com/ap/sports/swiatek-on-streak-entering-french-open-with-ukraine-on-mind/article_b8ec9cb5-e52d-5a0e-9f25-523b117e3595.html\n",
      "You must `download()` an article first!\n",
      "14.58%\n"
     ]
    },
    {
     "name": "stderr",
     "output_type": "stream",
     "text": [
      "not a 200 response: 503\n"
     ]
    },
    {
     "name": "stdout",
     "output_type": "stream",
     "text": [
      "Error while processing https://onlinelibrary.wiley.com/doi/10.1111/pops.12835\n",
      "You must `download()` an article first!\n",
      "14.67%\n"
     ]
    },
    {
     "name": "stderr",
     "output_type": "stream",
     "text": [
      "connection/timeout error: https://www.washingtonpost.com/nation/2021/10/12/covid-delta-variant-live-updates/ HTTPSConnectionPool(host='www.washingtonpost.com', port=443): Read timed out. (read timeout=5)\n"
     ]
    },
    {
     "name": "stdout",
     "output_type": "stream",
     "text": [
      "Error while processing https://www.washingtonpost.com/nation/2021/10/12/covid-delta-variant-live-updates/\n",
      "You must `download()` an article first!\n"
     ]
    },
    {
     "name": "stderr",
     "output_type": "stream",
     "text": [
      "connection/timeout error: https://www.washingtonpost.com/nation/2021/10/15/covid-delta-variant-live-updates/ HTTPSConnectionPool(host='www.washingtonpost.com', port=443): Read timed out. (read timeout=5)\n"
     ]
    },
    {
     "name": "stdout",
     "output_type": "stream",
     "text": [
      "Error while processing https://www.washingtonpost.com/nation/2021/10/15/covid-delta-variant-live-updates/\n",
      "You must `download()` an article first!\n",
      "14.75%\n"
     ]
    },
    {
     "name": "stderr",
     "output_type": "stream",
     "text": [
      "connection/timeout error: https://www.cbc.ca/news/world/coronavirus-canada-world-canada-oct29-2021-1.6231437 HTTPSConnectionPool(host='www.cbc.ca', port=443): Read timed out. (read timeout=5)\n"
     ]
    },
    {
     "name": "stdout",
     "output_type": "stream",
     "text": [
      "Error while processing https://www.cbc.ca/news/world/coronavirus-canada-world-canada-oct29-2021-1.6231437\n",
      "You must `download()` an article first!\n"
     ]
    },
    {
     "name": "stderr",
     "output_type": "stream",
     "text": [
      "connection/timeout error: https://www.washingtonpost.com/world/europe/mario-draghi-g20-italy/2021/10/28/458420e0-37f1-11ec-9662-399cfa75efee_story.html HTTPSConnectionPool(host='www.washingtonpost.com', port=443): Read timed out. (read timeout=5)\n"
     ]
    },
    {
     "name": "stdout",
     "output_type": "stream",
     "text": [
      "Error while processing https://www.washingtonpost.com/world/europe/mario-draghi-g20-italy/2021/10/28/458420e0-37f1-11ec-9662-399cfa75efee_story.html\n",
      "You must `download()` an article first!\n",
      "14.83%\n",
      "14.92%\n",
      "15.0%\n"
     ]
    },
    {
     "name": "stderr",
     "output_type": "stream",
     "text": [
      "connection/timeout error: https://www.independent.ie/news/nursing-students-who-refuse-covid-19-vaccine-banned-from-taking-up-clinical-placements-with-hse-40262779.html HTTPSConnectionPool(host='www.independent.ie', port=443): Read timed out. (read timeout=5)\n"
     ]
    },
    {
     "name": "stdout",
     "output_type": "stream",
     "text": [
      "Error while processing https://www.independent.ie/news/nursing-students-who-refuse-covid-19-vaccine-banned-from-taking-up-clinical-placements-with-hse-40262779.html\n",
      "You must `download()` an article first!\n",
      "15.08%\n",
      "15.17%\n"
     ]
    },
    {
     "name": "stderr",
     "output_type": "stream",
     "text": [
      "connection/timeout error: https://www.seattletimes.com/seattle-news/health/swedish-virginia-mason-franciscan-health-announce-new-covid-vaccination-requirements-for-health-care-workers/ HTTPSConnectionPool(host='www.seattletimes.com', port=443): Read timed out. (read timeout=5)\n"
     ]
    },
    {
     "name": "stdout",
     "output_type": "stream",
     "text": [
      "Error while processing https://www.seattletimes.com/seattle-news/health/swedish-virginia-mason-franciscan-health-announce-new-covid-vaccination-requirements-for-health-care-workers/\n",
      "You must `download()` an article first!\n"
     ]
    },
    {
     "name": "stderr",
     "output_type": "stream",
     "text": [
      "connection/timeout error: https://www.seattletimes.com/seattle-news/gov-jay-inslee-expected-to-announce-covid-19-vaccine-mandate-for-washington-state-employees/ HTTPSConnectionPool(host='www.seattletimes.com', port=443): Read timed out. (read timeout=5)\n"
     ]
    },
    {
     "name": "stdout",
     "output_type": "stream",
     "text": [
      "Error while processing https://www.seattletimes.com/seattle-news/gov-jay-inslee-expected-to-announce-covid-19-vaccine-mandate-for-washington-state-employees/\n",
      "You must `download()` an article first!\n",
      "15.25%\n",
      "15.33%\n"
     ]
    },
    {
     "name": "stderr",
     "output_type": "stream",
     "text": [
      "not a 200 response: 503\n"
     ]
    },
    {
     "name": "stdout",
     "output_type": "stream",
     "text": [
      "Error while processing https://onlinelibrary.wiley.com/doi/10.1111/jan.15222\n",
      "You must `download()` an article first!\n"
     ]
    },
    {
     "name": "stderr",
     "output_type": "stream",
     "text": [
      "not a 200 response: 503\n"
     ]
    },
    {
     "name": "stdout",
     "output_type": "stream",
     "text": [
      "Error while processing https://www.thelancet.com/article/S0140-6736(22)00008-3/fulltext\n",
      "You must `download()` an article first!\n",
      "15.42%\n"
     ]
    },
    {
     "name": "stderr",
     "output_type": "stream",
     "text": [
      "not a 200 response: 503\n",
      "not a 200 response: 503\n"
     ]
    },
    {
     "name": "stdout",
     "output_type": "stream",
     "text": [
      "Error while processing https://www.science.org/doi/10.1126/scitranslmed.abn4342\n",
      "You must `download()` an article first!\n",
      "Error while processing https://onlinelibrary.wiley.com/doi/10.1002/ana.26339\n",
      "You must `download()` an article first!\n"
     ]
    },
    {
     "name": "stderr",
     "output_type": "stream",
     "text": [
      "not a 200 response: 503\n"
     ]
    },
    {
     "name": "stdout",
     "output_type": "stream",
     "text": [
      "Error while processing https://onlinelibrary.wiley.com/doi/10.1002/iid3.606\n",
      "You must `download()` an article first!\n"
     ]
    },
    {
     "name": "stderr",
     "output_type": "stream",
     "text": [
      "not a 200 response: 503\n"
     ]
    },
    {
     "name": "stdout",
     "output_type": "stream",
     "text": [
      "Error while processing https://onlinelibrary.wiley.com/doi/10.1111/nuf.12715\n",
      "You must `download()` an article first!\n",
      "15.5%\n",
      "15.58%\n",
      "15.67%\n"
     ]
    },
    {
     "name": "stderr",
     "output_type": "stream",
     "text": [
      "connection/timeout error: https://www.seattletimes.com/seattle-news/health/coronavirus-daily-news-updates-september-2-what-to-know-today-about-covid-19-in-the-seattle-area-washington-state-and-the-world-2/ HTTPSConnectionPool(host='www.seattletimes.com', port=443): Read timed out. (read timeout=5)\n"
     ]
    },
    {
     "name": "stdout",
     "output_type": "stream",
     "text": [
      "Error while processing https://www.seattletimes.com/seattle-news/health/coronavirus-daily-news-updates-september-2-what-to-know-today-about-covid-19-in-the-seattle-area-washington-state-and-the-world-2/\n",
      "You must `download()` an article first!\n"
     ]
    },
    {
     "name": "stderr",
     "output_type": "stream",
     "text": [
      "not a 200 response: 503\n"
     ]
    },
    {
     "name": "stdout",
     "output_type": "stream",
     "text": [
      "Error while processing https://onlinelibrary.wiley.com/doi/10.1111/cbdd.14035\n",
      "You must `download()` an article first!\n",
      "15.75%\n",
      "15.83%\n"
     ]
    },
    {
     "name": "stderr",
     "output_type": "stream",
     "text": [
      "not a 200 response: 503\n"
     ]
    },
    {
     "name": "stdout",
     "output_type": "stream",
     "text": [
      "Error while processing https://onlinelibrary.wiley.com/doi/10.1002/jmv.27588\n",
      "You must `download()` an article first!\n",
      "15.92%\n"
     ]
    },
    {
     "name": "stderr",
     "output_type": "stream",
     "text": [
      "not a 200 response: 503\n"
     ]
    },
    {
     "name": "stdout",
     "output_type": "stream",
     "text": [
      "Error while processing https://www.capradio.org/articles/2022/02/28/california-coronavirus-updates-february-2022/\n",
      "You must `download()` an article first!\n",
      "16.0%\n"
     ]
    },
    {
     "name": "stderr",
     "output_type": "stream",
     "text": [
      "connection/timeout error: https://www.usnews.com/news/business/articles/2022-02-01/denmark-ends-most-covid-19-restrictions HTTPSConnectionPool(host='www.usnews.com', port=443): Read timed out. (read timeout=5)\n"
     ]
    },
    {
     "name": "stdout",
     "output_type": "stream",
     "text": [
      "Error while processing https://www.usnews.com/news/business/articles/2022-02-01/denmark-ends-most-covid-19-restrictions\n",
      "You must `download()` an article first!\n",
      "16.08%\n"
     ]
    },
    {
     "name": "stderr",
     "output_type": "stream",
     "text": [
      "connection/timeout error: https://www.usnews.com/news/best-states/nevada/articles/2022-02-10/nevada-governor-expected-to-revise-states-pandemic-plan HTTPSConnectionPool(host='www.usnews.com', port=443): Read timed out. (read timeout=5)\n"
     ]
    },
    {
     "name": "stdout",
     "output_type": "stream",
     "text": [
      "Error while processing https://www.usnews.com/news/best-states/nevada/articles/2022-02-10/nevada-governor-expected-to-revise-states-pandemic-plan\n",
      "You must `download()` an article first!\n"
     ]
    },
    {
     "name": "stderr",
     "output_type": "stream",
     "text": [
      "not a 200 response: 451\n"
     ]
    },
    {
     "name": "stdout",
     "output_type": "stream",
     "text": [
      "Error while processing https://www.thefoothillsfocus.com/news/city-s-suspended-vaccine-mandate-gets-new-rebuff/article_d3ac5644-83d2-11ec-bfee-cb7e44014bab.html\n",
      "You must `download()` an article first!\n",
      "16.17%\n"
     ]
    },
    {
     "name": "stderr",
     "output_type": "stream",
     "text": [
      "connection/timeout error: https://www.lexology.com/library/detail.aspx?g=e4559c61-3bed-4f5b-b163-6db17ee30df5 HTTPSConnectionPool(host='www.lexology.com', port=443): Read timed out. (read timeout=5)\n"
     ]
    },
    {
     "name": "stdout",
     "output_type": "stream",
     "text": [
      "Error while processing https://www.lexology.com/library/detail.aspx?g=e4559c61-3bed-4f5b-b163-6db17ee30df5\n",
      "You must `download()` an article first!\n"
     ]
    },
    {
     "name": "stderr",
     "output_type": "stream",
     "text": [
      "not a 200 response: 451\n"
     ]
    },
    {
     "name": "stdout",
     "output_type": "stream",
     "text": [
      "Error while processing https://www.kansan.com/opinion/its-deja-vu-all-over-again-how-the-spanish-flu-and-covid-19-relate/article_c7953004-3109-11ec-ab25-431d9ebaaa9b.html\n",
      "You must `download()` an article first!\n"
     ]
    },
    {
     "name": "stderr",
     "output_type": "stream",
     "text": [
      "not a 200 response: 503\n"
     ]
    },
    {
     "name": "stdout",
     "output_type": "stream",
     "text": [
      "Error while processing https://onlinelibrary.wiley.com/doi/full/10.1002/hec.4437\n",
      "You must `download()` an article first!\n",
      "16.25%\n"
     ]
    },
    {
     "name": "stderr",
     "output_type": "stream",
     "text": [
      "connection/timeout error: https://www.washingtonpost.com/nation/2021/10/06/covid-delta-variant-live-updates/ HTTPSConnectionPool(host='www.washingtonpost.com', port=443): Read timed out. (read timeout=5)\n"
     ]
    },
    {
     "name": "stdout",
     "output_type": "stream",
     "text": [
      "Error while processing https://www.washingtonpost.com/nation/2021/10/06/covid-delta-variant-live-updates/\n",
      "You must `download()` an article first!\n"
     ]
    },
    {
     "name": "stderr",
     "output_type": "stream",
     "text": [
      "connection/timeout error: https://www1.nyc.gov/office-of-the-mayor/news/698-21/mayor-de-blasio-vaccine-mandate-new-york-city-workforce HTTPSConnectionPool(host='www1.nyc.gov', port=443): Read timed out. (read timeout=5)\n"
     ]
    },
    {
     "name": "stdout",
     "output_type": "stream",
     "text": [
      "Error while processing https://www1.nyc.gov/office-of-the-mayor/news/698-21/mayor-de-blasio-vaccine-mandate-new-york-city-workforce\n",
      "You must `download()` an article first!\n"
     ]
    },
    {
     "name": "stderr",
     "output_type": "stream",
     "text": [
      "connection/timeout error: https://www.washingtonpost.com/nation/2021/10/04/covid-delta-variant-live-updates/ HTTPSConnectionPool(host='www.washingtonpost.com', port=443): Read timed out. (read timeout=5)\n"
     ]
    },
    {
     "name": "stdout",
     "output_type": "stream",
     "text": [
      "Error while processing https://www.washingtonpost.com/nation/2021/10/04/covid-delta-variant-live-updates/\n",
      "You must `download()` an article first!\n",
      "16.33%\n",
      "16.42%\n",
      "16.5%\n"
     ]
    },
    {
     "name": "stderr",
     "output_type": "stream",
     "text": [
      "connection/timeout error: https://www.washingtonpost.com/nation/2022/01/20/covid-omicron-variant-live-updates/ HTTPSConnectionPool(host='www.washingtonpost.com', port=443): Read timed out. (read timeout=5)\n"
     ]
    },
    {
     "name": "stdout",
     "output_type": "stream",
     "text": [
      "Error while processing https://www.washingtonpost.com/nation/2022/01/20/covid-omicron-variant-live-updates/\n",
      "You must `download()` an article first!\n",
      "16.58%\n",
      "16.67%\n"
     ]
    },
    {
     "name": "stderr",
     "output_type": "stream",
     "text": [
      "not a 200 response: 451\n"
     ]
    },
    {
     "name": "stdout",
     "output_type": "stream",
     "text": [
      "Error while processing http://www.valpotorch.com/opinion/article_0d9f03fe-7fe8-11ec-8c95-8789b98cc0ef.html\n",
      "You must `download()` an article first!\n",
      "16.75%\n",
      "16.83%\n"
     ]
    },
    {
     "name": "stderr",
     "output_type": "stream",
     "text": [
      "not a 200 response: 503\n"
     ]
    },
    {
     "name": "stdout",
     "output_type": "stream",
     "text": [
      "Error while processing https://www.freemalaysiatoday.com/category/leisure/entertainment/2022/06/08/metoo-film-movement-shifts-from-rhetoric-to-action/\n",
      "You must `download()` an article first!\n",
      "16.92%\n",
      "17.0%\n",
      "17.08%\n"
     ]
    },
    {
     "name": "stderr",
     "output_type": "stream",
     "text": [
      "not a 200 response: 503\n"
     ]
    },
    {
     "name": "stdout",
     "output_type": "stream",
     "text": [
      "Error while processing https://onlinelibrary.wiley.com/doi/full/10.1111/1758-5899.13081\n",
      "You must `download()` an article first!\n",
      "17.17%\n",
      "17.25%\n"
     ]
    },
    {
     "name": "stderr",
     "output_type": "stream",
     "text": [
      "not a 200 response: 503\n"
     ]
    },
    {
     "name": "stdout",
     "output_type": "stream",
     "text": [
      "Error while processing https://www.thelancet.com/journals/lanwpc/article/PIIS2666-6065(22)00036-0/fulltext\n",
      "You must `download()` an article first!\n"
     ]
    },
    {
     "name": "stderr",
     "output_type": "stream",
     "text": [
      "not a 200 response: 451\n"
     ]
    },
    {
     "name": "stdout",
     "output_type": "stream",
     "text": [
      "Error while processing https://pix11.com/news/coronavirus/ny-covid-latest-monday-february-7-2022/\n",
      "You must `download()` an article first!\n"
     ]
    },
    {
     "name": "stderr",
     "output_type": "stream",
     "text": [
      "not a 200 response: 403\n"
     ]
    },
    {
     "name": "stdout",
     "output_type": "stream",
     "text": [
      "Error while processing https://www.devex.com/news/devex-newswire-usaid-s-global-vaccine-uptake-plan-102599\n",
      "You must `download()` an article first!\n"
     ]
    },
    {
     "name": "stderr",
     "output_type": "stream",
     "text": [
      "not a 200 response: 451\n"
     ]
    },
    {
     "name": "stdout",
     "output_type": "stream",
     "text": [
      "Error while processing https://pix11.com/news/coronavirus/ny-covid-latest-friday-february-11-2022/\n",
      "You must `download()` an article first!\n",
      "17.33%\n",
      "17.42%\n"
     ]
    },
    {
     "name": "stderr",
     "output_type": "stream",
     "text": [
      "not a 200 response: 403\n"
     ]
    },
    {
     "name": "stdout",
     "output_type": "stream",
     "text": [
      "Error while processing https://www.devex.com/news/devex-newswire-battling-covid-19-rumors-and-access-challenges-in-kenya-101896\n",
      "You must `download()` an article first!\n",
      "17.5%\n",
      "17.58%\n"
     ]
    },
    {
     "name": "stderr",
     "output_type": "stream",
     "text": [
      "not a 200 response: 451\n"
     ]
    },
    {
     "name": "stdout",
     "output_type": "stream",
     "text": [
      "Error while processing https://fox2now.com/news/national/covid-19-vaccine-exemptions-where-do-different-religions-stand-on-vaccinations/\n",
      "You must `download()` an article first!\n",
      "17.67%\n",
      "17.75%\n"
     ]
    },
    {
     "name": "stderr",
     "output_type": "stream",
     "text": [
      "connection/timeout error: https://www.seattletimes.com/seattle-news/health/coronavirus-daily-news-updates-september-28-what-to-know-today-about-covid-19-in-the-seattle-area-washington-state-and-the-world-2/ HTTPSConnectionPool(host='www.seattletimes.com', port=443): Read timed out. (read timeout=5)\n"
     ]
    },
    {
     "name": "stdout",
     "output_type": "stream",
     "text": [
      "Error while processing https://www.seattletimes.com/seattle-news/health/coronavirus-daily-news-updates-september-28-what-to-know-today-about-covid-19-in-the-seattle-area-washington-state-and-the-world-2/\n",
      "You must `download()` an article first!\n",
      "17.83%\n",
      "17.92%\n",
      "18.0%\n"
     ]
    },
    {
     "name": "stderr",
     "output_type": "stream",
     "text": [
      "not a 200 response: 503\n"
     ]
    },
    {
     "name": "stdout",
     "output_type": "stream",
     "text": [
      "Error while processing https://www.thelancet.com/journals/lancet/article/PIIS0140-6736(21)00443-8/fulltext\n",
      "You must `download()` an article first!\n",
      "18.08%\n"
     ]
    },
    {
     "name": "stderr",
     "output_type": "stream",
     "text": [
      "not a 200 response: 403\n"
     ]
    },
    {
     "name": "stdout",
     "output_type": "stream",
     "text": [
      "Error while processing https://lloydslist.maritimeintelligence.informa.com/LL1136213/Seafarers-cannot-be-forced-to-accept-vaccination-ICS-warns\n",
      "You must `download()` an article first!\n",
      "18.17%\n"
     ]
    },
    {
     "name": "stderr",
     "output_type": "stream",
     "text": [
      "connection/timeout error: https://www.dailymail.co.uk/news/article-9316713/Now-54-year-old-David-Cameron-gets-Covid-jab-amid-postcode-lottery-fears.html HTTPSConnectionPool(host='www.dailymail.co.uk', port=443): Read timed out. (read timeout=5)\n"
     ]
    },
    {
     "name": "stdout",
     "output_type": "stream",
     "text": [
      "Error while processing https://www.dailymail.co.uk/news/article-9316713/Now-54-year-old-David-Cameron-gets-Covid-jab-amid-postcode-lottery-fears.html\n",
      "You must `download()` an article first!\n"
     ]
    },
    {
     "name": "stderr",
     "output_type": "stream",
     "text": [
      "not a 200 response: 503\n"
     ]
    },
    {
     "name": "stdout",
     "output_type": "stream",
     "text": [
      "Error while processing https://www.science.org/doi/10.1126/sciadv.abm2510\n",
      "You must `download()` an article first!\n",
      "18.25%\n"
     ]
    },
    {
     "name": "stderr",
     "output_type": "stream",
     "text": [
      "connection/timeout error: https://www.thisdaylive.com/index.php/2022/06/06/who-raises-the-alarm-over-dangers-of-environmental-impact-of-tobacco-industry/ HTTPSConnectionPool(host='www.thisdaylive.com', port=443): Read timed out. (read timeout=5)\n"
     ]
    },
    {
     "name": "stdout",
     "output_type": "stream",
     "text": [
      "Error while processing https://www.thisdaylive.com/index.php/2022/06/06/who-raises-the-alarm-over-dangers-of-environmental-impact-of-tobacco-industry/\n",
      "You must `download()` an article first!\n",
      "18.33%\n"
     ]
    },
    {
     "name": "stderr",
     "output_type": "stream",
     "text": [
      "not a 200 response: 403\n"
     ]
    },
    {
     "name": "stdout",
     "output_type": "stream",
     "text": [
      "Error while processing https://www.ipsos.com/en/covid-and-the-workplace-dec-2021\n",
      "You must `download()` an article first!\n"
     ]
    },
    {
     "name": "stderr",
     "output_type": "stream",
     "text": [
      "connection/timeout error: https://www.washingtonpost.com/politics/2021/12/10/massive-gap-between-republicans-democrats-vaccinating-kids/ HTTPSConnectionPool(host='www.washingtonpost.com', port=443): Read timed out. (read timeout=5)\n"
     ]
    },
    {
     "name": "stdout",
     "output_type": "stream",
     "text": [
      "Error while processing https://www.washingtonpost.com/politics/2021/12/10/massive-gap-between-republicans-democrats-vaccinating-kids/\n",
      "You must `download()` an article first!\n",
      "18.42%\n"
     ]
    },
    {
     "name": "stderr",
     "output_type": "stream",
     "text": [
      "connection/timeout error: https://www.washingtonpost.com/nation/2022/01/11/covid-omicron-variant-live-updates/ HTTPSConnectionPool(host='www.washingtonpost.com', port=443): Read timed out. (read timeout=5)\n"
     ]
    },
    {
     "name": "stdout",
     "output_type": "stream",
     "text": [
      "Error while processing https://www.washingtonpost.com/nation/2022/01/11/covid-omicron-variant-live-updates/\n",
      "You must `download()` an article first!\n"
     ]
    },
    {
     "name": "stderr",
     "output_type": "stream",
     "text": [
      "not a 200 response: 451\n"
     ]
    },
    {
     "name": "stdout",
     "output_type": "stream",
     "text": [
      "Error while processing https://pix11.com/news/coronavirus/ny-covid-latest-saturday-january-22-2022/\n",
      "You must `download()` an article first!\n"
     ]
    },
    {
     "name": "stderr",
     "output_type": "stream",
     "text": [
      "connection/timeout error: https://www.iol.co.za/pretoria-news/news/health-department-concerned-with-comments-on-menstrual-irregularities-associated-with-covid-19-vaccines-1ff5528b-8561-485e-b1d4-4ab1b7963af3 HTTPSConnectionPool(host='www.iol.co.za', port=443): Read timed out. (read timeout=5)\n"
     ]
    },
    {
     "name": "stdout",
     "output_type": "stream",
     "text": [
      "Error while processing https://www.iol.co.za/pretoria-news/news/health-department-concerned-with-comments-on-menstrual-irregularities-associated-with-covid-19-vaccines-1ff5528b-8561-485e-b1d4-4ab1b7963af3\n",
      "You must `download()` an article first!\n",
      "18.5%\n"
     ]
    },
    {
     "name": "stderr",
     "output_type": "stream",
     "text": [
      "connection/timeout error: https://www.washingtonpost.com/world/2021/08/02/clamor-against-vaccine-grows/ HTTPSConnectionPool(host='www.washingtonpost.com', port=443): Read timed out. (read timeout=5)\n"
     ]
    },
    {
     "name": "stdout",
     "output_type": "stream",
     "text": [
      "Error while processing https://www.washingtonpost.com/world/2021/08/02/clamor-against-vaccine-grows/\n",
      "You must `download()` an article first!\n"
     ]
    },
    {
     "name": "stderr",
     "output_type": "stream",
     "text": [
      "connection/timeout error: https://www.washingtonpost.com/politics/2022/05/23/biden-monkeypox-quarantine/ HTTPSConnectionPool(host='www.washingtonpost.com', port=443): Read timed out. (read timeout=5)\n"
     ]
    },
    {
     "name": "stdout",
     "output_type": "stream",
     "text": [
      "Error while processing https://www.washingtonpost.com/politics/2022/05/23/biden-monkeypox-quarantine/\n",
      "You must `download()` an article first!\n",
      "18.58%\n"
     ]
    },
    {
     "name": "stderr",
     "output_type": "stream",
     "text": [
      "not a 200 response: 451\n"
     ]
    },
    {
     "name": "stdout",
     "output_type": "stream",
     "text": [
      "Error while processing https://www.rexburgstandardjournal.com/postregister/news/nation/workers-grapple-with-new-stresses-as-they-return-to-office/article_816d10b6-7898-5f89-b217-69adabe1345c.html\n",
      "You must `download()` an article first!\n"
     ]
    },
    {
     "name": "stderr",
     "output_type": "stream",
     "text": [
      "not a 200 response: 451\n"
     ]
    },
    {
     "name": "stdout",
     "output_type": "stream",
     "text": [
      "Error while processing https://pix11.com/news/coronavirus/nj-covid-latest-saturday-april-30-2022/\n",
      "You must `download()` an article first!\n"
     ]
    },
    {
     "name": "stderr",
     "output_type": "stream",
     "text": [
      "not a 200 response: 503\n"
     ]
    },
    {
     "name": "stdout",
     "output_type": "stream",
     "text": [
      "Error while processing https://onlinelibrary.wiley.com/doi/10.1002/epa2.1151\n",
      "You must `download()` an article first!\n",
      "18.67%\n"
     ]
    },
    {
     "name": "stderr",
     "output_type": "stream",
     "text": [
      "not a 200 response: 403\n"
     ]
    },
    {
     "name": "stdout",
     "output_type": "stream",
     "text": [
      "Error while processing https://ukranews.com/en/news/853322-eu-calls-on-member-states-to-remain-vigilant-while-entering-new-phase-of-covid-19-pandemic\n",
      "You must `download()` an article first!\n",
      "18.75%\n"
     ]
    },
    {
     "name": "stderr",
     "output_type": "stream",
     "text": [
      "connection/timeout error: https://www.imf.org/en/Publications/fandd/issues/2021/12/Countries-lessons-life-well-lived-Bala-Behsudi-Jaquiery HTTPSConnectionPool(host='www.imf.org', port=443): Read timed out. (read timeout=5)\n"
     ]
    },
    {
     "name": "stdout",
     "output_type": "stream",
     "text": [
      "Error while processing https://www.imf.org/en/Publications/fandd/issues/2021/12/Countries-lessons-life-well-lived-Bala-Behsudi-Jaquiery\n",
      "You must `download()` an article first!\n",
      "18.83%\n",
      "18.92%\n"
     ]
    },
    {
     "name": "stderr",
     "output_type": "stream",
     "text": [
      "not a 200 response: 403\n"
     ]
    },
    {
     "name": "stdout",
     "output_type": "stream",
     "text": [
      "Error while processing https://www.parliament.uk/business/news/2021/july/lords-considers-new-regulations/\n",
      "You must `download()` an article first!\n",
      "19.0%\n",
      "19.08%\n"
     ]
    },
    {
     "name": "stderr",
     "output_type": "stream",
     "text": [
      "not a 200 response: 503\n"
     ]
    },
    {
     "name": "stdout",
     "output_type": "stream",
     "text": [
      "Error while processing https://www.thelancet.com/journals/lanepe/article/PIIS2666-7762(21)00157-5/fulltext\n",
      "You must `download()` an article first!\n",
      "19.17%\n",
      "19.25%\n",
      "19.33%\n"
     ]
    },
    {
     "name": "stderr",
     "output_type": "stream",
     "text": [
      "not a 200 response: 403\n"
     ]
    },
    {
     "name": "stdout",
     "output_type": "stream",
     "text": [
      "Error while processing https://www.ipsos.com/en/global-attitudes-covid-19-vaccine-january-2021\n",
      "You must `download()` an article first!\n"
     ]
    },
    {
     "name": "stderr",
     "output_type": "stream",
     "text": [
      "connection/timeout error: https://www.ips-journal.eu/topics/democracy-and-society/the-global-south-moves-towards-vaccine-sovereignty-5692/ HTTPSConnectionPool(host='www.ips-journal.eu', port=443): Read timed out. (read timeout=5)\n"
     ]
    },
    {
     "name": "stdout",
     "output_type": "stream",
     "text": [
      "Error while processing https://www.ips-journal.eu/topics/democracy-and-society/the-global-south-moves-towards-vaccine-sovereignty-5692/\n",
      "You must `download()` an article first!\n",
      "19.42%\n"
     ]
    },
    {
     "name": "stderr",
     "output_type": "stream",
     "text": [
      "connection/timeout error: https://www.washingtonpost.com/nation/2021/08/25/covid-delta-variant-live-updates/ HTTPSConnectionPool(host='www.washingtonpost.com', port=443): Read timed out. (read timeout=5)\n"
     ]
    },
    {
     "name": "stdout",
     "output_type": "stream",
     "text": [
      "Error while processing https://www.washingtonpost.com/nation/2021/08/25/covid-delta-variant-live-updates/\n",
      "You must `download()` an article first!\n"
     ]
    },
    {
     "name": "stderr",
     "output_type": "stream",
     "text": [
      "connection/timeout error: https://www.washingtonpost.com/transportation/2021/08/25/delta-employee-vaccines-covid/ HTTPSConnectionPool(host='www.washingtonpost.com', port=443): Read timed out. (read timeout=5)\n"
     ]
    },
    {
     "name": "stdout",
     "output_type": "stream",
     "text": [
      "Error while processing https://www.washingtonpost.com/transportation/2021/08/25/delta-employee-vaccines-covid/\n",
      "You must `download()` an article first!\n",
      "19.5%\n",
      "19.58%\n"
     ]
    },
    {
     "name": "stderr",
     "output_type": "stream",
     "text": [
      "connection/timeout error: https://qz.com/2046323/how-national-and-local-vaccine-passports-work/ HTTPSConnectionPool(host='qz.com', port=443): Read timed out. (read timeout=5)\n"
     ]
    },
    {
     "name": "stdout",
     "output_type": "stream",
     "text": [
      "Error while processing https://qz.com/2046323/how-national-and-local-vaccine-passports-work/\n",
      "You must `download()` an article first!\n",
      "19.67%\n",
      "19.75%\n"
     ]
    },
    {
     "name": "stderr",
     "output_type": "stream",
     "text": [
      "not a 200 response: 451\n"
     ]
    },
    {
     "name": "stdout",
     "output_type": "stream",
     "text": [
      "Error while processing https://www.idahopress.com/news/local/idaho-house-backs-bill-to-make-employer-vaccine-requirements-a-crime/article_23872c58-2a1a-5baa-a0fb-2289e20a5419.html\n",
      "You must `download()` an article first!\n"
     ]
    },
    {
     "name": "stderr",
     "output_type": "stream",
     "text": [
      "not a 200 response: 451\n"
     ]
    },
    {
     "name": "stdout",
     "output_type": "stream",
     "text": [
      "Error while processing https://www.conwaydailysun.com/opinion/letters/peter-hill-stats-shown-illness-up-in-the-military-after-covid-vaccine/article_5deb38ca-7f9b-11ec-b8b1-dbb350998fd9.html\n",
      "You must `download()` an article first!\n",
      "19.83%\n",
      "19.92%\n"
     ]
    },
    {
     "name": "stderr",
     "output_type": "stream",
     "text": [
      "connection/timeout error: https://www.nasdaq.com/articles/novavaxs-covid-vaccine-rollout-in-eu-off-to-a-slow-start-data-0 HTTPSConnectionPool(host='www.nasdaq.com', port=443): Read timed out. (read timeout=5)\n"
     ]
    },
    {
     "name": "stdout",
     "output_type": "stream",
     "text": [
      "Error while processing https://www.nasdaq.com/articles/novavaxs-covid-vaccine-rollout-in-eu-off-to-a-slow-start-data-0\n",
      "You must `download()` an article first!\n",
      "20.0%\n",
      "20.08%\n"
     ]
    },
    {
     "name": "stderr",
     "output_type": "stream",
     "text": [
      "not a 200 response: 403\n"
     ]
    },
    {
     "name": "stdout",
     "output_type": "stream",
     "text": [
      "Error while processing https://www.ipsos.com/en/global-attitudes-covid-19-vaccine-october-2020\n",
      "You must `download()` an article first!\n",
      "20.17%\n"
     ]
    },
    {
     "name": "stderr",
     "output_type": "stream",
     "text": [
      "connection/timeout error: https://www.usnews.com/news/health-news/articles/2022-02-11/denmark-officials-see-no-reason-to-give-more-covid-vaccines HTTPSConnectionPool(host='www.usnews.com', port=443): Read timed out. (read timeout=5)\n"
     ]
    },
    {
     "name": "stdout",
     "output_type": "stream",
     "text": [
      "Error while processing https://www.usnews.com/news/health-news/articles/2022-02-11/denmark-officials-see-no-reason-to-give-more-covid-vaccines\n",
      "You must `download()` an article first!\n"
     ]
    },
    {
     "name": "stderr",
     "output_type": "stream",
     "text": [
      "connection/timeout error: https://www.washingtonpost.com/nation/2022/02/02/covid-omicron-variant-live-updates/ HTTPSConnectionPool(host='www.washingtonpost.com', port=443): Read timed out. (read timeout=5)\n"
     ]
    },
    {
     "name": "stdout",
     "output_type": "stream",
     "text": [
      "Error while processing https://www.washingtonpost.com/nation/2022/02/02/covid-omicron-variant-live-updates/\n",
      "You must `download()` an article first!\n"
     ]
    },
    {
     "name": "stderr",
     "output_type": "stream",
     "text": [
      "not a 200 response: 503\n"
     ]
    },
    {
     "name": "stdout",
     "output_type": "stream",
     "text": [
      "Error while processing https://associationofanaesthetists-publications.onlinelibrary.wiley.com/doi/full/10.1111/anae.15699\n",
      "You must `download()` an article first!\n",
      "20.25%\n"
     ]
    },
    {
     "name": "stderr",
     "output_type": "stream",
     "text": [
      "not a 200 response: 503\n"
     ]
    },
    {
     "name": "stdout",
     "output_type": "stream",
     "text": [
      "Error while processing https://soyacincau.com/2022/02/02/pickids-covid-19-vaccine-children-malaysia-how-to-book-appointment-vaccine-slot/\n",
      "You must `download()` an article first!\n",
      "20.33%\n"
     ]
    },
    {
     "name": "stderr",
     "output_type": "stream",
     "text": [
      "not a 200 response: 503\n"
     ]
    },
    {
     "name": "stdout",
     "output_type": "stream",
     "text": [
      "Error while processing https://onlinelibrary.wiley.com/doi/10.1111/jcms.13259\n",
      "You must `download()` an article first!\n"
     ]
    },
    {
     "name": "stderr",
     "output_type": "stream",
     "text": [
      "not a 200 response: 403\n",
      "not a 200 response: 403\n"
     ]
    },
    {
     "name": "stdout",
     "output_type": "stream",
     "text": [
      "Error while processing https://www.ipsos.com/en-ca/news-polls/Two-Three-Canadians-Believe-Fully-Vaccinated-Population-Not-Enough-Stop-Omicron\n",
      "You must `download()` an article first!\n",
      "Error while processing https://www.ipsos.com/en-ca/news-polls/One-in-Five-Canadians-Never-Comfortable-Without-Masks-Vaccine-Mandates\n",
      "You must `download()` an article first!\n",
      "20.42%\n"
     ]
    },
    {
     "name": "stderr",
     "output_type": "stream",
     "text": [
      "not a 200 response: 451\n"
     ]
    },
    {
     "name": "stdout",
     "output_type": "stream",
     "text": [
      "Error while processing https://www.thederrick.com/ap/business/novavax-hopes-its-covid-shot-wins-over-fda-vaccine-holdouts/article_5399a296-75da-533c-a119-2149812663f8.html\n",
      "You must `download()` an article first!\n"
     ]
    },
    {
     "name": "stderr",
     "output_type": "stream",
     "text": [
      "not a 200 response: 503\n"
     ]
    },
    {
     "name": "stdout",
     "output_type": "stream",
     "text": [
      "Error while processing https://www.pnas.org/doi/10.1073/pnas.2119266119\n",
      "You must `download()` an article first!\n",
      "20.5%\n",
      "20.58%\n",
      "20.67%\n"
     ]
    },
    {
     "name": "stderr",
     "output_type": "stream",
     "text": [
      "not a 200 response: 503\n"
     ]
    },
    {
     "name": "stdout",
     "output_type": "stream",
     "text": [
      "Error while processing https://www.thelancet.com/journals/lancet/article/PIIS0140-6736(21)00267-1/fulltext\n",
      "You must `download()` an article first!\n",
      "20.75%\n"
     ]
    },
    {
     "name": "stderr",
     "output_type": "stream",
     "text": [
      "not a 200 response: 403\n"
     ]
    },
    {
     "name": "stdout",
     "output_type": "stream",
     "text": [
      "Error while processing https://local12.com/news/nation-world/satire-fuels-false-claims-of-quarantine-camps-for-unvaccinated-in-us-president-joe-biden-vaccinated-idaho-school-covid-hospitalizations-canada-does-not-ban-vaccinated-pilots-from-flying-thunberg-sticker-on-car-french-flag-photo-world-cup-celebration\n",
      "You must `download()` an article first!\n",
      "20.83%\n",
      "20.92%\n",
      "21.0%\n"
     ]
    },
    {
     "name": "stderr",
     "output_type": "stream",
     "text": [
      "not a 200 response: 451\n"
     ]
    },
    {
     "name": "stdout",
     "output_type": "stream",
     "text": [
      "Error while processing https://www.idahopress.com/news/local/idaho-governor-defends-not-issuing-a-vaccine-mandate-as-covid-19-cases-surge-people-have/article_e75cf9f9-0d2d-5ca0-8abc-0aaaa2e792c8.html\n",
      "You must `download()` an article first!\n"
     ]
    },
    {
     "name": "stderr",
     "output_type": "stream",
     "text": [
      "not a 200 response: 451\n"
     ]
    },
    {
     "name": "stdout",
     "output_type": "stream",
     "text": [
      "Error while processing https://www.gwinnettdailypost.com/multimedia/slideshows/history-of-vaccine-mandates-in-the-us/collection_9b3a8578-938d-5d18-ab25-a5416e8f0d84.html\n",
      "You must `download()` an article first!\n"
     ]
    },
    {
     "name": "stderr",
     "output_type": "stream",
     "text": [
      "not a 200 response: 451\n"
     ]
    },
    {
     "name": "stdout",
     "output_type": "stream",
     "text": [
      "Error while processing https://www.sentinelsource.com/news/local/milliporesigma-requires-employees-to-be-vaccinated-ahead-of-federal-mandate/article_c1a5d9f1-d7a7-5542-a951-481571b22489.html\n",
      "You must `download()` an article first!\n",
      "21.08%\n",
      "21.17%\n"
     ]
    },
    {
     "name": "stderr",
     "output_type": "stream",
     "text": [
      "not a 200 response: 403\n"
     ]
    },
    {
     "name": "stdout",
     "output_type": "stream",
     "text": [
      "Error while processing https://www.king5.com/article/news/health/coronavirus/jay-inslee-washington-covid-mask-update/281-ccbd653b-ac64-4330-854c-44a632b31142\n",
      "You must `download()` an article first!\n",
      "21.25%\n"
     ]
    },
    {
     "name": "stderr",
     "output_type": "stream",
     "text": [
      "not a 200 response: 503\n"
     ]
    },
    {
     "name": "stdout",
     "output_type": "stream",
     "text": [
      "Error while processing https://onlinelibrary.wiley.com/doi/10.1111/tid.13803\n",
      "You must `download()` an article first!\n",
      "21.33%\n",
      "21.42%\n",
      "21.5%\n",
      "21.58%\n",
      "21.67%\n",
      "21.75%\n"
     ]
    },
    {
     "name": "stderr",
     "output_type": "stream",
     "text": [
      "not a 200 response: 451\n"
     ]
    },
    {
     "name": "stdout",
     "output_type": "stream",
     "text": [
      "Error while processing https://www.hngnews.com/cambridge_deerfield/article_9cf2ae56-98c1-11ec-b810-c323bdc0b917.html\n",
      "You must `download()` an article first!\n",
      "21.83%\n"
     ]
    },
    {
     "name": "stderr",
     "output_type": "stream",
     "text": [
      "not a 200 response: 451\n"
     ]
    },
    {
     "name": "stdout",
     "output_type": "stream",
     "text": [
      "Error while processing https://www.idahopress.com/news/local/crowd-gathers-in-boise-to-protest-covid-19-mandates-support-truckers/article_635a2d23-f548-5955-b896-d35e66402044.html\n",
      "You must `download()` an article first!\n",
      "21.92%\n",
      "22.0%\n"
     ]
    },
    {
     "name": "stderr",
     "output_type": "stream",
     "text": [
      "not a 200 response: 451\n"
     ]
    },
    {
     "name": "stdout",
     "output_type": "stream",
     "text": [
      "Error while processing https://www.thederrick.com/ap/world/new-floods-in-eastern-south-africa-displace-more-than-300/article_9f0ba69c-73aa-5bf4-94b5-fe1521e2780a.html\n",
      "You must `download()` an article first!\n"
     ]
    },
    {
     "name": "stderr",
     "output_type": "stream",
     "text": [
      "not a 200 response: 451\n"
     ]
    },
    {
     "name": "stdout",
     "output_type": "stream",
     "text": [
      "Error while processing https://www.thederrick.com/ap/national/new-timeline-of-texas-school-shooting-includes-student-911-calls-as-officers-wait-outside/article_e02e8a4a-ed50-5982-bb98-f2f889bfca8f.html\n",
      "You must `download()` an article first!\n",
      "22.08%\n"
     ]
    },
    {
     "name": "stderr",
     "output_type": "stream",
     "text": [
      "not a 200 response: 451\n"
     ]
    },
    {
     "name": "stdout",
     "output_type": "stream",
     "text": [
      "Error while processing https://www.thederrick.com/ap/business/woman-gets-15-months-in-prison-for-punching-flight-attendant/article_5abdb313-bff5-5b73-9956-ef61082de902.html\n",
      "You must `download()` an article first!\n"
     ]
    },
    {
     "name": "stderr",
     "output_type": "stream",
     "text": [
      "not a 200 response: 451\n"
     ]
    },
    {
     "name": "stdout",
     "output_type": "stream",
     "text": [
      "Error while processing https://www.thederrick.com/ap/national/video-released-of-shooting-of-louisville-man-by-us-marshal/article_59736f8b-79b8-50ad-b3ca-de5931deebca.html\n",
      "You must `download()` an article first!\n"
     ]
    },
    {
     "name": "stderr",
     "output_type": "stream",
     "text": [
      "not a 200 response: 451\n"
     ]
    },
    {
     "name": "stdout",
     "output_type": "stream",
     "text": [
      "Error while processing https://www.thederrick.com/ap/world/relentless-russia-squeezes-ukrainian-strongholds-in-east/article_d17cb40f-4a20-5954-b4df-5ae3ace46a1f.html\n",
      "You must `download()` an article first!\n"
     ]
    },
    {
     "name": "stderr",
     "output_type": "stream",
     "text": [
      "not a 200 response: 451\n"
     ]
    },
    {
     "name": "stdout",
     "output_type": "stream",
     "text": [
      "Error while processing https://www.thederrick.com/ap/business/california-new-zealand-announce-climate-change-partnership/article_546b5a7c-9cb3-5cab-a4ae-480c76f70764.html\n",
      "You must `download()` an article first!\n"
     ]
    },
    {
     "name": "stderr",
     "output_type": "stream",
     "text": [
      "not a 200 response: 451\n"
     ]
    },
    {
     "name": "stdout",
     "output_type": "stream",
     "text": [
      "Error while processing https://www.thederrick.com/ap/national/feds-interview-georgia-republicans-who-refused-to-serve-as-fake-electors/article_0174efcc-2cdf-5c57-98bd-86c7663dd107.html\n",
      "You must `download()` an article first!\n"
     ]
    },
    {
     "name": "stderr",
     "output_type": "stream",
     "text": [
      "not a 200 response: 451\n"
     ]
    },
    {
     "name": "stdout",
     "output_type": "stream",
     "text": [
      "Error while processing https://www.chronicleonline.com/lifestyle/entertainment/good-times-whitney-houston-tribute-more/article_443b0872-857a-5d46-9b08-66e3653cd76d.html\n",
      "You must `download()` an article first!\n"
     ]
    },
    {
     "name": "stderr",
     "output_type": "stream",
     "text": [
      "not a 200 response: 451\n"
     ]
    },
    {
     "name": "stdout",
     "output_type": "stream",
     "text": [
      "Error while processing https://www.ozarksfirst.com/local-news/national-news/100-years-of-military-history/\n",
      "You must `download()` an article first!\n",
      "22.17%\n"
     ]
    },
    {
     "name": "stderr",
     "output_type": "stream",
     "text": [
      "error getting summary: \n",
      "Traceback (most recent call last):\n",
      "  File \"/home/rba/Projects/cultural-analytics/venv_culturalanalytics/lib/python3.8/site-packages/readability/readability.py\", line 213, in summary\n",
      "    self._html(True)\n",
      "  File \"/home/rba/Projects/cultural-analytics/venv_culturalanalytics/lib/python3.8/site-packages/readability/readability.py\", line 148, in _html\n",
      "    self.html = self._parse(self.input)\n",
      "  File \"/home/rba/Projects/cultural-analytics/venv_culturalanalytics/lib/python3.8/site-packages/readability/readability.py\", line 157, in _parse\n",
      "    doc, self.encoding = build_doc(input)\n",
      "  File \"/home/rba/Projects/cultural-analytics/venv_culturalanalytics/lib/python3.8/site-packages/readability/htmls.py\", line 21, in build_doc\n",
      "    doc = lxml.html.document_fromstring(\n",
      "  File \"/home/rba/Projects/cultural-analytics/venv_culturalanalytics/lib/python3.8/site-packages/lxml/html/__init__.py\", line 761, in document_fromstring\n",
      "    raise etree.ParserError(\n",
      "lxml.etree.ParserError: Document is empty\n"
     ]
    },
    {
     "name": "stdout",
     "output_type": "stream",
     "text": [
      "Error while processing https://www.haaretz.com/israel-news/2021-08-29/ty-article/israel-expands-booster-pfizer-vaccine-campaign-all-no-quarantine-delta/0000017f-f3f8-d497-a1ff-f3f81a150000\n",
      "Document is empty\n",
      "22.25%\n",
      "22.33%\n"
     ]
    },
    {
     "name": "stderr",
     "output_type": "stream",
     "text": [
      "not a 200 response: 451\n"
     ]
    },
    {
     "name": "stdout",
     "output_type": "stream",
     "text": [
      "Error while processing https://www.thedaonline.com/opinion/opinion-wvu-should-mandate-the-vaccine-in-dorms/article_715e04ac-1653-11ec-b027-d3795590ae90.html\n",
      "You must `download()` an article first!\n"
     ]
    },
    {
     "name": "stderr",
     "output_type": "stream",
     "text": [
      "not a 200 response: 503\n"
     ]
    },
    {
     "name": "stdout",
     "output_type": "stream",
     "text": [
      "Error while processing https://www.thelancet.com/journals/lanepe/article/PIIS2666-7762(22)00052-7/fulltext\n",
      "You must `download()` an article first!\n",
      "22.42%\n"
     ]
    },
    {
     "name": "stderr",
     "output_type": "stream",
     "text": [
      "not a 200 response: 503\n",
      "not a 200 response: 503\n"
     ]
    },
    {
     "name": "stdout",
     "output_type": "stream",
     "text": [
      "Error while processing https://onlinelibrary.wiley.com/doi/full/10.5694/mja2.51500\n",
      "You must `download()` an article first!\n",
      "Error while processing https://onlinelibrary.wiley.com/doi/10.1111/jwip.12223\n",
      "You must `download()` an article first!\n",
      "22.5%\n"
     ]
    },
    {
     "name": "stderr",
     "output_type": "stream",
     "text": [
      "not a 200 response: 503\n"
     ]
    },
    {
     "name": "stdout",
     "output_type": "stream",
     "text": [
      "Error while processing https://www.freemalaysiatoday.com/category/nation/2022/04/18/second-booster-not-compulsory-for-seniors-says-kj/\n",
      "You must `download()` an article first!\n",
      "22.58%\n",
      "22.67%\n"
     ]
    },
    {
     "name": "stderr",
     "output_type": "stream",
     "text": [
      "not a 200 response: 503\n"
     ]
    },
    {
     "name": "stdout",
     "output_type": "stream",
     "text": [
      "Error while processing https://www.capradio.org/articles/2022/04/29/california-coronavirus-updates-april-2022/\n",
      "You must `download()` an article first!\n"
     ]
    },
    {
     "name": "stderr",
     "output_type": "stream",
     "text": [
      "not a 200 response: 403\n"
     ]
    },
    {
     "name": "stdout",
     "output_type": "stream",
     "text": [
      "Error while processing https://www.nst.com.my/news/nation/2022/04/788860/4th-covid-19-vaccine-shot-do-you-need-one\n",
      "You must `download()` an article first!\n",
      "22.75%\n"
     ]
    },
    {
     "name": "stderr",
     "output_type": "stream",
     "text": [
      "not a 200 response: 451\n"
     ]
    },
    {
     "name": "stdout",
     "output_type": "stream",
     "text": [
      "Error while processing https://www.wkrg.com/mobile-county/pediatric-covid-19-vaccine-available-at-some-alabama-gulf-coast-locations/\n",
      "You must `download()` an article first!\n",
      "22.83%\n"
     ]
    },
    {
     "name": "stderr",
     "output_type": "stream",
     "text": [
      "not a 200 response: 451\n"
     ]
    },
    {
     "name": "stdout",
     "output_type": "stream",
     "text": [
      "Error while processing https://www.hjnews.com/news/covid19/nurses-dozens-of-others-protest-covid-19-vaccine-mandates-in-logan/article_c66c1647-b748-5561-9338-2ac13d359e4c.html\n",
      "You must `download()` an article first!\n"
     ]
    },
    {
     "name": "stderr",
     "output_type": "stream",
     "text": [
      "not a 200 response: 451\n"
     ]
    },
    {
     "name": "stdout",
     "output_type": "stream",
     "text": [
      "Error while processing https://www.kezi.com/news/health/sesame-streets-rosita-gets-her-first-covid-19-vaccine-dose/article_b48c839c-c57a-524a-ab95-b8502a402f98.html\n",
      "You must `download()` an article first!\n",
      "22.92%\n",
      "23.0%\n"
     ]
    },
    {
     "name": "stderr",
     "output_type": "stream",
     "text": [
      "not a 200 response: 416\n"
     ]
    },
    {
     "name": "stdout",
     "output_type": "stream",
     "text": [
      "Error while processing https://theparadise.ng/is-frances-high-authority-of-health-starting-to-panic-over-vaccine-side-effects/\n",
      "You must `download()` an article first!\n",
      "23.08%\n",
      "23.17%\n"
     ]
    },
    {
     "name": "stderr",
     "output_type": "stream",
     "text": [
      "connection/timeout error: https://www.seattletimes.com/seattle-news/health/coronavirus-daily-news-updates-october-7-what-to-know-today-about-covid-19-in-the-seattle-area-washington-state-and-the-world-2/ HTTPSConnectionPool(host='www.seattletimes.com', port=443): Read timed out. (read timeout=5)\n"
     ]
    },
    {
     "name": "stdout",
     "output_type": "stream",
     "text": [
      "Error while processing https://www.seattletimes.com/seattle-news/health/coronavirus-daily-news-updates-october-7-what-to-know-today-about-covid-19-in-the-seattle-area-washington-state-and-the-world-2/\n",
      "You must `download()` an article first!\n"
     ]
    },
    {
     "name": "stderr",
     "output_type": "stream",
     "text": [
      "connection/timeout error: https://www.usnews.com/news/best-states/new-york/articles/2021-10-16/during-wwii-getting-the-flu-vaccine-was-patriotic HTTPSConnectionPool(host='www.usnews.com', port=443): Read timed out. (read timeout=5)\n"
     ]
    },
    {
     "name": "stdout",
     "output_type": "stream",
     "text": [
      "Error while processing https://www.usnews.com/news/best-states/new-york/articles/2021-10-16/during-wwii-getting-the-flu-vaccine-was-patriotic\n",
      "You must `download()` an article first!\n",
      "23.25%\n"
     ]
    },
    {
     "name": "stderr",
     "output_type": "stream",
     "text": [
      "connection/timeout error: https://www.washingtonpost.com/nation/2022/01/14/covid-omicron-variant-live-updates/ HTTPSConnectionPool(host='www.washingtonpost.com', port=443): Read timed out. (read timeout=5)\n",
      "not a 200 response: 503\n"
     ]
    },
    {
     "name": "stdout",
     "output_type": "stream",
     "text": [
      "Error while processing https://www.washingtonpost.com/nation/2022/01/14/covid-omicron-variant-live-updates/\n",
      "You must `download()` an article first!\n",
      "Error while processing https://onlinelibrary.wiley.com/doi/10.1002/oby.23378\n",
      "You must `download()` an article first!\n"
     ]
    },
    {
     "name": "stderr",
     "output_type": "stream",
     "text": [
      "connection/timeout error: https://www.washingtonpost.com/nation/2022/01/04/covid-omicron-variant-live-updates/ HTTPSConnectionPool(host='www.washingtonpost.com', port=443): Read timed out. (read timeout=5)\n"
     ]
    },
    {
     "name": "stdout",
     "output_type": "stream",
     "text": [
      "Error while processing https://www.washingtonpost.com/nation/2022/01/04/covid-omicron-variant-live-updates/\n",
      "You must `download()` an article first!\n",
      "23.33%\n"
     ]
    },
    {
     "name": "stderr",
     "output_type": "stream",
     "text": [
      "connection/timeout error: https://www.washingtonpost.com/health/2022/01/15/living-with-the-virus/ HTTPSConnectionPool(host='www.washingtonpost.com', port=443): Read timed out. (read timeout=5)\n"
     ]
    },
    {
     "name": "stdout",
     "output_type": "stream",
     "text": [
      "Error while processing https://www.washingtonpost.com/health/2022/01/15/living-with-the-virus/\n",
      "You must `download()` an article first!\n",
      "23.42%\n"
     ]
    },
    {
     "name": "stderr",
     "output_type": "stream",
     "text": [
      "not a 200 response: 403\n"
     ]
    },
    {
     "name": "stdout",
     "output_type": "stream",
     "text": [
      "Error while processing https://www.ipsos.com/en-ca/news-polls/majority-of-canadians-support-vaccination-mandates\n",
      "You must `download()` an article first!\n",
      "23.5%\n",
      "23.58%\n",
      "23.67%\n"
     ]
    },
    {
     "name": "stderr",
     "output_type": "stream",
     "text": [
      "connection/timeout error: https://www.washingtonpost.com/nation/2021/09/16/covid-delta-variant-live-updates/ HTTPSConnectionPool(host='www.washingtonpost.com', port=443): Read timed out. (read timeout=5)\n"
     ]
    },
    {
     "name": "stdout",
     "output_type": "stream",
     "text": [
      "Error while processing https://www.washingtonpost.com/nation/2021/09/16/covid-delta-variant-live-updates/\n",
      "You must `download()` an article first!\n"
     ]
    },
    {
     "name": "stderr",
     "output_type": "stream",
     "text": [
      "connection/timeout error: https://www.washingtonpost.com/sports/2021/09/28/bradley-beal-covid-vaccine/ HTTPSConnectionPool(host='www.washingtonpost.com', port=443): Read timed out. (read timeout=5)\n"
     ]
    },
    {
     "name": "stdout",
     "output_type": "stream",
     "text": [
      "Error while processing https://www.washingtonpost.com/sports/2021/09/28/bradley-beal-covid-vaccine/\n",
      "You must `download()` an article first!\n",
      "23.75%\n"
     ]
    },
    {
     "name": "stderr",
     "output_type": "stream",
     "text": [
      "not a 200 response: 503\n"
     ]
    },
    {
     "name": "stdout",
     "output_type": "stream",
     "text": [
      "Error while processing https://www.thelancet.com/journals/lanwpc/article/PIIS2666-6065(22)00056-6/fulltext\n",
      "You must `download()` an article first!\n"
     ]
    },
    {
     "name": "stderr",
     "output_type": "stream",
     "text": [
      "not a 200 response: 403\n"
     ]
    },
    {
     "name": "stdout",
     "output_type": "stream",
     "text": [
      "Error while processing https://www.devex.com/news/how-to-increase-vaccine-uptake-don-t-demonize-vaccine-hesitancy-102722\n",
      "You must `download()` an article first!\n",
      "23.83%\n"
     ]
    },
    {
     "name": "stderr",
     "output_type": "stream",
     "text": [
      "not a 200 response: 503\n"
     ]
    },
    {
     "name": "stdout",
     "output_type": "stream",
     "text": [
      "Error while processing https://www.thelancet.com/journals/lancet/article/PIIS0140-6736(22)00008-3/fulltext\n",
      "You must `download()` an article first!\n"
     ]
    },
    {
     "name": "stderr",
     "output_type": "stream",
     "text": [
      "connection/timeout error: https://www.washingtonpost.com/world/2022/03/22/covax-problems-coronavirus-vaccines-next-pandemic/ HTTPSConnectionPool(host='www.washingtonpost.com', port=443): Read timed out. (read timeout=5)\n"
     ]
    },
    {
     "name": "stdout",
     "output_type": "stream",
     "text": [
      "Error while processing https://www.washingtonpost.com/world/2022/03/22/covax-problems-coronavirus-vaccines-next-pandemic/\n",
      "You must `download()` an article first!\n"
     ]
    },
    {
     "name": "stderr",
     "output_type": "stream",
     "text": [
      "not a 200 response: 403\n"
     ]
    },
    {
     "name": "stdout",
     "output_type": "stream",
     "text": [
      "Error while processing https://www.devex.com/news/devex-checkup-at-last-a-trips-waiver-compromise-but-who-s-happy-102844\n",
      "You must `download()` an article first!\n",
      "23.92%\n"
     ]
    },
    {
     "name": "stderr",
     "output_type": "stream",
     "text": [
      "not a 200 response: 451\n"
     ]
    },
    {
     "name": "stdout",
     "output_type": "stream",
     "text": [
      "Error while processing https://wgntv.com/news/coronavirus/man-in-germany-gets-90-covid-19-shots-to-sell-forged-passes/\n",
      "You must `download()` an article first!\n"
     ]
    },
    {
     "name": "stderr",
     "output_type": "stream",
     "text": [
      "not a 200 response: 503\n"
     ]
    },
    {
     "name": "stdout",
     "output_type": "stream",
     "text": [
      "Error while processing https://onlinelibrary.wiley.com/doi/full/10.1111/irel.12310\n",
      "You must `download()` an article first!\n"
     ]
    },
    {
     "name": "stderr",
     "output_type": "stream",
     "text": [
      "connection/timeout error: https://www.washingtonpost.com/world/2022/01/07/novak-djokovic-covid-vaccine-serbia-australia/ HTTPSConnectionPool(host='www.washingtonpost.com', port=443): Read timed out. (read timeout=5)\n"
     ]
    },
    {
     "name": "stdout",
     "output_type": "stream",
     "text": [
      "Error while processing https://www.washingtonpost.com/world/2022/01/07/novak-djokovic-covid-vaccine-serbia-australia/\n",
      "You must `download()` an article first!\n"
     ]
    },
    {
     "name": "stderr",
     "output_type": "stream",
     "text": [
      "not a 200 response: 503\n"
     ]
    },
    {
     "name": "stdout",
     "output_type": "stream",
     "text": [
      "Error while processing https://www.thelancet.com/journals/lancet/article/PIIS0140-6736(21)02805-1/fulltext\n",
      "You must `download()` an article first!\n"
     ]
    },
    {
     "name": "stderr",
     "output_type": "stream",
     "text": [
      "not a 200 response: 503\n"
     ]
    },
    {
     "name": "stdout",
     "output_type": "stream",
     "text": [
      "Error while processing https://onlinelibrary.wiley.com/doi/10.1111/joim.13453\n",
      "You must `download()` an article first!\n"
     ]
    },
    {
     "name": "stderr",
     "output_type": "stream",
     "text": [
      "connection/timeout error: https://www.washingtonpost.com/travel/2022/01/26/2022-flight-trends-airlines/ HTTPSConnectionPool(host='www.washingtonpost.com', port=443): Read timed out. (read timeout=5)\n"
     ]
    },
    {
     "name": "stdout",
     "output_type": "stream",
     "text": [
      "Error while processing https://www.washingtonpost.com/travel/2022/01/26/2022-flight-trends-airlines/\n",
      "You must `download()` an article first!\n",
      "24.0%\n"
     ]
    },
    {
     "name": "stderr",
     "output_type": "stream",
     "text": [
      "connection/timeout error: https://www.washingtonpost.com/technology/2021/09/12/wellness-influencers-vaccine-misinformation/ HTTPSConnectionPool(host='www.washingtonpost.com', port=443): Read timed out. (read timeout=5)\n"
     ]
    },
    {
     "name": "stdout",
     "output_type": "stream",
     "text": [
      "Error while processing https://www.washingtonpost.com/technology/2021/09/12/wellness-influencers-vaccine-misinformation/\n",
      "You must `download()` an article first!\n"
     ]
    },
    {
     "name": "stderr",
     "output_type": "stream",
     "text": [
      "connection/timeout error: https://www.washingtonpost.com/nation/2021/08/31/covid-delta-variant-live-updates/ HTTPSConnectionPool(host='www.washingtonpost.com', port=443): Read timed out. (read timeout=5)\n"
     ]
    },
    {
     "name": "stdout",
     "output_type": "stream",
     "text": [
      "Error while processing https://www.washingtonpost.com/nation/2021/08/31/covid-delta-variant-live-updates/\n",
      "You must `download()` an article first!\n",
      "24.08%\n"
     ]
    },
    {
     "name": "stderr",
     "output_type": "stream",
     "text": [
      "/home/rba/Projects/cultural-analytics/venv_culturalanalytics/lib/python3.8/site-packages/dateutil/parser/_parser.py:1207: UnknownTimezoneWarning: tzname EET identified but not understood.  Pass `tzinfos` argument in order to correctly return a timezone-aware datetime.  In a future version, this will raise an exception.\n",
      "  warnings.warn(\"tzname {tzname} identified but not understood.  \"\n",
      "connection/timeout error: https://www.washingtonpost.com/world/2021/11/12/coronavirus-italy-vaccine-mandate/ HTTPSConnectionPool(host='www.washingtonpost.com', port=443): Read timed out. (read timeout=5)\n"
     ]
    },
    {
     "name": "stdout",
     "output_type": "stream",
     "text": [
      "Error while processing https://www.washingtonpost.com/world/2021/11/12/coronavirus-italy-vaccine-mandate/\n",
      "You must `download()` an article first!\n",
      "24.17%\n"
     ]
    },
    {
     "name": "stderr",
     "output_type": "stream",
     "text": [
      "not a 200 response: 451\n"
     ]
    },
    {
     "name": "stdout",
     "output_type": "stream",
     "text": [
      "Error while processing https://www.wvnews.com/statejournal/news/wvu-medicine-mon-health-extend-covid-19-vaccine-mandate-deadlines-into-january/article_9f2b3f84-3800-11ec-8247-9f2d56be52f0.html\n",
      "You must `download()` an article first!\n"
     ]
    },
    {
     "name": "stderr",
     "output_type": "stream",
     "text": [
      "not a 200 response: 451\n"
     ]
    },
    {
     "name": "stdout",
     "output_type": "stream",
     "text": [
      "Error while processing https://www.kitv.com/video/hawaii-counties-with-vaccination-requirements-can-open-again-to-full-capacity-some-push-back/article_56e10172-38af-5991-8f00-11c80ae10f10.html\n",
      "You must `download()` an article first!\n",
      "24.25%\n"
     ]
    },
    {
     "name": "stderr",
     "output_type": "stream",
     "text": [
      "connection/timeout error: https://www.seattletimes.com/nation-world/pandemic-is-amplifying-the-u-s-anti-vaccine-movement-and-globalizing-it/ HTTPSConnectionPool(host='www.seattletimes.com', port=443): Read timed out. (read timeout=5)\n"
     ]
    },
    {
     "name": "stdout",
     "output_type": "stream",
     "text": [
      "Error while processing https://www.seattletimes.com/nation-world/pandemic-is-amplifying-the-u-s-anti-vaccine-movement-and-globalizing-it/\n",
      "You must `download()` an article first!\n",
      "24.33%\n",
      "24.42%\n"
     ]
    },
    {
     "name": "stderr",
     "output_type": "stream",
     "text": [
      "not a 200 response: 403\n"
     ]
    },
    {
     "name": "stdout",
     "output_type": "stream",
     "text": [
      "Error while processing https://www.devex.com/news/some-lics-make-covid-19-vaccination-progress-but-far-from-70-target-102280\n",
      "You must `download()` an article first!\n"
     ]
    },
    {
     "name": "stderr",
     "output_type": "stream",
     "text": [
      "not a 200 response: 404\n"
     ]
    },
    {
     "name": "stdout",
     "output_type": "stream",
     "text": [
      "Error while processing https://www.tctmd.com/news/covid-19-tctmds-dispatch-june-2\n",
      "You must `download()` an article first!\n"
     ]
    },
    {
     "name": "stderr",
     "output_type": "stream",
     "text": [
      "connection/timeout error: https://www.washingtonpost.com/politics/powerpost/the-health-202/democrats-are-searching-for-a-health-care-win-this-month/2022/06/06/edaf84ad-25a3-4a34-abca-c0daedbd3dab_story.html HTTPSConnectionPool(host='www.washingtonpost.com', port=443): Read timed out. (read timeout=5)\n"
     ]
    },
    {
     "name": "stdout",
     "output_type": "stream",
     "text": [
      "Error while processing https://www.washingtonpost.com/politics/powerpost/the-health-202/democrats-are-searching-for-a-health-care-win-this-month/2022/06/06/edaf84ad-25a3-4a34-abca-c0daedbd3dab_story.html\n",
      "You must `download()` an article first!\n",
      "24.5%\n"
     ]
    },
    {
     "name": "stderr",
     "output_type": "stream",
     "text": [
      "connection/timeout error: https://www.usnews.com/news/world/articles/2022-06-02/africas-covid-deaths-to-fall-by-94-in-2022-who-analysis-shows HTTPSConnectionPool(host='www.usnews.com', port=443): Read timed out. (read timeout=5)\n"
     ]
    },
    {
     "name": "stdout",
     "output_type": "stream",
     "text": [
      "Error while processing https://www.usnews.com/news/world/articles/2022-06-02/africas-covid-deaths-to-fall-by-94-in-2022-who-analysis-shows\n",
      "You must `download()` an article first!\n"
     ]
    },
    {
     "name": "stderr",
     "output_type": "stream",
     "text": [
      "connection/timeout error: https://www.nasdaq.com/articles/how-to-invest-with-%245k-or-less-right-now HTTPSConnectionPool(host='www.nasdaq.com', port=443): Read timed out. (read timeout=5)\n"
     ]
    },
    {
     "name": "stdout",
     "output_type": "stream",
     "text": [
      "Error while processing https://www.nasdaq.com/articles/how-to-invest-with-%245k-or-less-right-now\n",
      "You must `download()` an article first!\n",
      "24.58%\n"
     ]
    },
    {
     "name": "stderr",
     "output_type": "stream",
     "text": [
      "not a 200 response: 451\n"
     ]
    },
    {
     "name": "stdout",
     "output_type": "stream",
     "text": [
      "Error while processing https://www.leadertelegram.com/features/travel/travel-briefs-6-1-22/article_61829d42-7613-5893-bdd6-0b40f060bafe.html\n",
      "You must `download()` an article first!\n"
     ]
    },
    {
     "name": "stderr",
     "output_type": "stream",
     "text": [
      "connection/timeout error: https://www.washingtonpost.com/local/covid-vaccine-mandate-hospitals-virginia/2021/10/01/b7976d16-21ff-11ec-8200-5e3fd4c49f5e_story.html HTTPSConnectionPool(host='www.washingtonpost.com', port=443): Read timed out. (read timeout=5)\n"
     ]
    },
    {
     "name": "stdout",
     "output_type": "stream",
     "text": [
      "Error while processing https://www.washingtonpost.com/local/covid-vaccine-mandate-hospitals-virginia/2021/10/01/b7976d16-21ff-11ec-8200-5e3fd4c49f5e_story.html\n",
      "You must `download()` an article first!\n",
      "24.67%\n"
     ]
    },
    {
     "name": "stderr",
     "output_type": "stream",
     "text": [
      "SSL: https://mountainx.com/opinion/letter-covid-19-vaccine-resistance-explained/ HTTPSConnectionPool(host='mountainx.com', port=443): Max retries exceeded with url: /opinion/letter-covid-19-vaccine-resistance-explained/ (Caused by SSLError(SSLError(1, '[SSL: WRONG_SIGNATURE_TYPE] wrong signature type (_ssl.c:1131)')))\n"
     ]
    },
    {
     "name": "stdout",
     "output_type": "stream",
     "text": [
      "Error while processing https://mountainx.com/opinion/letter-covid-19-vaccine-resistance-explained/\n",
      "You must `download()` an article first!\n"
     ]
    },
    {
     "name": "stderr",
     "output_type": "stream",
     "text": [
      "connection/timeout error: https://www.seattletimes.com/seattle-news/health/coronavirus-daily-news-updates-october-21-what-to-know-today-about-covid-19-in-the-seattle-area-washington-state-and-the-world-2/ HTTPSConnectionPool(host='www.seattletimes.com', port=443): Read timed out. (read timeout=5)\n"
     ]
    },
    {
     "name": "stdout",
     "output_type": "stream",
     "text": [
      "Error while processing https://www.seattletimes.com/seattle-news/health/coronavirus-daily-news-updates-october-21-what-to-know-today-about-covid-19-in-the-seattle-area-washington-state-and-the-world-2/\n",
      "You must `download()` an article first!\n",
      "24.75%\n",
      "24.83%\n",
      "24.92%\n",
      "25.0%\n",
      "25.08%\n",
      "25.17%\n"
     ]
    },
    {
     "name": "stderr",
     "output_type": "stream",
     "text": [
      "not a 200 response: 451\n"
     ]
    },
    {
     "name": "stdout",
     "output_type": "stream",
     "text": [
      "Error while processing https://www.idahopress.com/eyeonboise/idaho-joins-18-other-states-suing-biden-over-vaccine-mandates/article_6cbcc3ff-2014-57b8-be52-5bc97544ee90.html\n",
      "You must `download()` an article first!\n"
     ]
    },
    {
     "name": "stderr",
     "output_type": "stream",
     "text": [
      "connection/timeout error: https://www.seattletimes.com/seattle-news/health/coronavirus-daily-news-updates-november-17-what-to-know-today-about-covid-19-in-the-seattle-area-washington-state-and-the-world-2/ HTTPSConnectionPool(host='www.seattletimes.com', port=443): Read timed out. (read timeout=5)\n"
     ]
    },
    {
     "name": "stdout",
     "output_type": "stream",
     "text": [
      "Error while processing https://www.seattletimes.com/seattle-news/health/coronavirus-daily-news-updates-november-17-what-to-know-today-about-covid-19-in-the-seattle-area-washington-state-and-the-world-2/\n",
      "You must `download()` an article first!\n"
     ]
    },
    {
     "name": "stderr",
     "output_type": "stream",
     "text": [
      "connection/timeout error: https://www.miamiherald.com/news/local/education/article255697751.html HTTPSConnectionPool(host='www.miamiherald.com', port=443): Read timed out. (read timeout=5)\n"
     ]
    },
    {
     "name": "stdout",
     "output_type": "stream",
     "text": [
      "Error while processing https://www.miamiherald.com/news/local/education/article255697751.html\n",
      "You must `download()` an article first!\n",
      "25.25%\n"
     ]
    },
    {
     "name": "stderr",
     "output_type": "stream",
     "text": [
      "not a 200 response: 451\n"
     ]
    },
    {
     "name": "stdout",
     "output_type": "stream",
     "text": [
      "Error while processing https://www.idahopress.com/eyeonboise/hr-chief-for-micron-idahos-largest-private-employer-to-senate-panel-we-have-not-terminated/article_d505c830-9879-5a0a-bcd7-44f571902e86.html\n",
      "You must `download()` an article first!\n"
     ]
    },
    {
     "name": "stderr",
     "output_type": "stream",
     "text": [
      "not a 200 response: 451\n"
     ]
    },
    {
     "name": "stdout",
     "output_type": "stream",
     "text": [
      "Error while processing https://www.kitv.com/video/oahu-planner-says-vaccination-requirement-for-wedding-attendees-is-giving-some-couples-cold-feet/article_2eace345-1615-5133-a255-90fdca96e4d0.html\n",
      "You must `download()` an article first!\n",
      "25.33%\n",
      "25.42%\n",
      "25.5%\n"
     ]
    },
    {
     "name": "stderr",
     "output_type": "stream",
     "text": [
      "connection/timeout error: https://www.usnews.com/news/health-news/articles/2021-12-21/spain-faces-new-restrictions-despite-high-vaccine-rates HTTPSConnectionPool(host='www.usnews.com', port=443): Read timed out. (read timeout=5)\n"
     ]
    },
    {
     "name": "stdout",
     "output_type": "stream",
     "text": [
      "Error while processing https://www.usnews.com/news/health-news/articles/2021-12-21/spain-faces-new-restrictions-despite-high-vaccine-rates\n",
      "You must `download()` an article first!\n",
      "25.58%\n",
      "25.67%\n"
     ]
    },
    {
     "name": "stderr",
     "output_type": "stream",
     "text": [
      "not a 200 response: 403\n"
     ]
    },
    {
     "name": "stdout",
     "output_type": "stream",
     "text": [
      "Error while processing https://www.illinoisrestaurants.org/news/591012/Cook-County-Vaccine-Mandate-Minimum-Wage-Reminder.htm\n",
      "You must `download()` an article first!\n",
      "25.75%\n"
     ]
    },
    {
     "name": "stderr",
     "output_type": "stream",
     "text": [
      "not a 200 response: 503\n"
     ]
    },
    {
     "name": "stdout",
     "output_type": "stream",
     "text": [
      "Error while processing https://covid19.sccgov.org/news-releases/pr-12-28-2021-health-order-requires-up-to-date-vaccination-for-workers-in-specific-higher-risk-settings\n",
      "You must `download()` an article first!\n"
     ]
    },
    {
     "name": "stderr",
     "output_type": "stream",
     "text": [
      "not a 200 response: 451\n"
     ]
    },
    {
     "name": "stdout",
     "output_type": "stream",
     "text": [
      "Error while processing https://pix11.com/news/coronavirus/ny-covid-latest-sunday-january-30-2022/\n",
      "You must `download()` an article first!\n",
      "25.83%\n"
     ]
    },
    {
     "name": "stderr",
     "output_type": "stream",
     "text": [
      "not a 200 response: 451\n"
     ]
    },
    {
     "name": "stdout",
     "output_type": "stream",
     "text": [
      "Error while processing https://pix11.com/news/coronavirus/ny-covid-latest-wednesday-january-5-2022/\n",
      "You must `download()` an article first!\n"
     ]
    },
    {
     "name": "stderr",
     "output_type": "stream",
     "text": [
      "not a 200 response: 451\n"
     ]
    },
    {
     "name": "stdout",
     "output_type": "stream",
     "text": [
      "Error while processing https://pix11.com/news/coronavirus/ny-covid-latest-tuesday-january-18-2022/\n",
      "You must `download()` an article first!\n",
      "25.92%\n",
      "26.0%\n",
      "26.08%\n"
     ]
    },
    {
     "name": "stderr",
     "output_type": "stream",
     "text": [
      "not a 200 response: 403\n"
     ]
    },
    {
     "name": "stdout",
     "output_type": "stream",
     "text": [
      "Error while processing https://www.cbs8.com/article/news/health/coronavirus/vaccine/california-school-leaders-and-legislators-new-bill-requiring-covid-vax-for-school-children/509-fc46da84-bf28-45f8-9704-e39abd56de42\n",
      "You must `download()` an article first!\n",
      "26.17%\n"
     ]
    },
    {
     "name": "stderr",
     "output_type": "stream",
     "text": [
      "not a 200 response: 403\n"
     ]
    },
    {
     "name": "stdout",
     "output_type": "stream",
     "text": [
      "Error while processing https://www.13newsnow.com/article/news/national/military-news/military-leaders-booster-shot-covid-19-vaccine/291-fef58a96-6815-4709-a93f-580fa02f89d8\n",
      "You must `download()` an article first!\n"
     ]
    },
    {
     "name": "stderr",
     "output_type": "stream",
     "text": [
      "connection/timeout error: https://www.usnews.com/news/business/articles/2022-01-19/uk-lifts-covid-restrictions-says-omicron-wave-has-peaked HTTPSConnectionPool(host='www.usnews.com', port=443): Read timed out. (read timeout=5)\n"
     ]
    },
    {
     "name": "stdout",
     "output_type": "stream",
     "text": [
      "Error while processing https://www.usnews.com/news/business/articles/2022-01-19/uk-lifts-covid-restrictions-says-omicron-wave-has-peaked\n",
      "You must `download()` an article first!\n"
     ]
    },
    {
     "name": "stderr",
     "output_type": "stream",
     "text": [
      "not a 200 response: 403\n"
     ]
    },
    {
     "name": "stdout",
     "output_type": "stream",
     "text": [
      "Error while processing https://www.devex.com/news/are-covid-19-vaccine-mandates-the-next-step-for-african-countries-102408\n",
      "You must `download()` an article first!\n"
     ]
    },
    {
     "name": "stderr",
     "output_type": "stream",
     "text": [
      "not a 200 response: 451\n"
     ]
    },
    {
     "name": "stdout",
     "output_type": "stream",
     "text": [
      "Error while processing https://www.nbcrightnow.com/news/washington-board-of-health-says-they-will-not-enact-mandatory-covid-19-quarantine-during-wednesday/article_7fdeebca-727b-11ec-a1ad-8760e3f062f5.html\n",
      "You must `download()` an article first!\n"
     ]
    },
    {
     "name": "stderr",
     "output_type": "stream",
     "text": [
      "connection/timeout error: https://www.washingtonpost.com/travel/2022/01/13/cdc-cruise-rules-expire-omicron/ HTTPSConnectionPool(host='www.washingtonpost.com', port=443): Read timed out. (read timeout=5)\n"
     ]
    },
    {
     "name": "stdout",
     "output_type": "stream",
     "text": [
      "Error while processing https://www.washingtonpost.com/travel/2022/01/13/cdc-cruise-rules-expire-omicron/\n",
      "You must `download()` an article first!\n",
      "26.25%\n"
     ]
    },
    {
     "name": "stderr",
     "output_type": "stream",
     "text": [
      "connection/timeout error: https://www.washingtonpost.com/world/2022/01/14/merck-pfizer-pills-supply/ HTTPSConnectionPool(host='www.washingtonpost.com', port=443): Read timed out. (read timeout=5)\n"
     ]
    },
    {
     "name": "stdout",
     "output_type": "stream",
     "text": [
      "Error while processing https://www.washingtonpost.com/world/2022/01/14/merck-pfizer-pills-supply/\n",
      "You must `download()` an article first!\n"
     ]
    },
    {
     "name": "stderr",
     "output_type": "stream",
     "text": [
      "/home/rba/Projects/cultural-analytics/venv_culturalanalytics/lib/python3.8/site-packages/dateutil/parser/_parser.py:1207: UnknownTimezoneWarning: tzname EST identified but not understood.  Pass `tzinfos` argument in order to correctly return a timezone-aware datetime.  In a future version, this will raise an exception.\n",
      "  warnings.warn(\"tzname {tzname} identified but not understood.  \"\n"
     ]
    },
    {
     "name": "stdout",
     "output_type": "stream",
     "text": [
      "26.33%\n"
     ]
    },
    {
     "name": "stderr",
     "output_type": "stream",
     "text": [
      "connection/timeout error: https://www.washingtonpost.com/health/2020/11/20/mask-danish-study/ HTTPSConnectionPool(host='www.washingtonpost.com', port=443): Read timed out. (read timeout=5)\n"
     ]
    },
    {
     "name": "stdout",
     "output_type": "stream",
     "text": [
      "Error while processing https://www.washingtonpost.com/health/2020/11/20/mask-danish-study/\n",
      "You must `download()` an article first!\n"
     ]
    },
    {
     "name": "stderr",
     "output_type": "stream",
     "text": [
      "connection/timeout error: https://www.washingtonpost.com/nation/2021/11/30/covid-omicron-variant-live-updates/ HTTPSConnectionPool(host='www.washingtonpost.com', port=443): Read timed out. (read timeout=5)\n"
     ]
    },
    {
     "name": "stdout",
     "output_type": "stream",
     "text": [
      "Error while processing https://www.washingtonpost.com/nation/2021/11/30/covid-omicron-variant-live-updates/\n",
      "You must `download()` an article first!\n",
      "26.42%\n"
     ]
    },
    {
     "name": "stderr",
     "output_type": "stream",
     "text": [
      "not a 200 response: 503\n"
     ]
    },
    {
     "name": "stdout",
     "output_type": "stream",
     "text": [
      "Error while processing https://iaap-journals.onlinelibrary.wiley.com/doi/10.1111/aphw.12285\n",
      "You must `download()` an article first!\n",
      "26.5%\n"
     ]
    },
    {
     "name": "stderr",
     "output_type": "stream",
     "text": [
      "connection/timeout error: https://www.usnews.com/news/world/articles/2021-07-13/factbox-countries-make-covid-19-vaccines-mandatory HTTPSConnectionPool(host='www.usnews.com', port=443): Read timed out. (read timeout=5)\n"
     ]
    },
    {
     "name": "stdout",
     "output_type": "stream",
     "text": [
      "Error while processing https://www.usnews.com/news/world/articles/2021-07-13/factbox-countries-make-covid-19-vaccines-mandatory\n",
      "You must `download()` an article first!\n"
     ]
    },
    {
     "name": "stderr",
     "output_type": "stream",
     "text": [
      "not a 200 response: 403\n"
     ]
    },
    {
     "name": "stdout",
     "output_type": "stream",
     "text": [
      "Error while processing https://www.newscentermaine.com/article/news/health/two-of-maines-largest-hospital-systems-wont-require-employees-to-be-vaccinated-against-covid19/97-26a849f5-db12-4f0a-959f-53bf4391f590\n",
      "You must `download()` an article first!\n"
     ]
    },
    {
     "name": "stderr",
     "output_type": "stream",
     "text": [
      "connection/timeout error: https://www.dhs.wisconsin.gov/news/releases/072821.htm HTTPSConnectionPool(host='www.dhs.wisconsin.gov', port=443): Max retries exceeded with url: /news/releases/072821.htm (Caused by NewConnectionError('<urllib3.connection.HTTPSConnection object at 0x7f85334da640>: Failed to establish a new connection: [Errno -3] Temporary failure in name resolution'))\n"
     ]
    },
    {
     "name": "stdout",
     "output_type": "stream",
     "text": [
      "Error while processing https://www.dhs.wisconsin.gov/news/releases/072821.htm\n",
      "You must `download()` an article first!\n",
      "26.58%\n"
     ]
    },
    {
     "name": "stderr",
     "output_type": "stream",
     "text": [
      "not a 200 response: 451\n"
     ]
    },
    {
     "name": "stdout",
     "output_type": "stream",
     "text": [
      "Error while processing https://www.khon2.com/coronavirus/university-of-hawaii-drops-in-person-coronavirus-vaccine-requirement-cites-high-vaccination-rates/\n",
      "You must `download()` an article first!\n"
     ]
    },
    {
     "name": "stderr",
     "output_type": "stream",
     "text": [
      "not a 200 response: 500\n"
     ]
    },
    {
     "name": "stdout",
     "output_type": "stream",
     "text": [
      "Error while processing https://www.nytimes.com/2021/07/26/business/dealbook/companies-vaccine-mandates.html\n",
      "You must `download()` an article first!\n",
      "26.67%\n"
     ]
    },
    {
     "name": "stderr",
     "output_type": "stream",
     "text": [
      "not a 200 response: 451\n"
     ]
    },
    {
     "name": "stdout",
     "output_type": "stream",
     "text": [
      "Error while processing https://www.thederrick.com/ap/national/doctor-2-nurses-stabbed-at-encino-hospital-medical-center-suspect-barricaded/article_133c3cf9-2d94-52e4-bad1-3428b763cff8.html\n",
      "You must `download()` an article first!\n"
     ]
    },
    {
     "name": "stderr",
     "output_type": "stream",
     "text": [
      "not a 200 response: 451\n"
     ]
    },
    {
     "name": "stdout",
     "output_type": "stream",
     "text": [
      "Error while processing https://www.thederrick.com/ap/national/more-charges-for-man-acquitted-of-murdering-georgia-teacher/article_282ebdfb-ad8f-5470-bc00-64fca88369f6.html\n",
      "You must `download()` an article first!\n"
     ]
    },
    {
     "name": "stderr",
     "output_type": "stream",
     "text": [
      "not a 200 response: 451\n"
     ]
    },
    {
     "name": "stdout",
     "output_type": "stream",
     "text": [
      "Error while processing https://www.thederrick.com/ap/national/scouts-sell-off-camps-under-strain-from-sex-abuse-suits/article_47bc106d-45b5-5ee8-bbc8-a78d8301409a.html\n",
      "You must `download()` an article first!\n"
     ]
    },
    {
     "name": "stderr",
     "output_type": "stream",
     "text": [
      "not a 200 response: 451\n"
     ]
    },
    {
     "name": "stdout",
     "output_type": "stream",
     "text": [
      "Error while processing https://www.thederrick.com/ap/national/heavy-rain-expected-in-parts-of-florida-cuba-bahamas/article_2c1f5f1b-830a-50c1-9fb1-0eea419a1ffd.html\n",
      "You must `download()` an article first!\n"
     ]
    },
    {
     "name": "stderr",
     "output_type": "stream",
     "text": [
      "not a 200 response: 451\n"
     ]
    },
    {
     "name": "stdout",
     "output_type": "stream",
     "text": [
      "Error while processing https://www.thederrick.com/ap/national/colorado-inmate-gets-48-years-for-kidnapping-killing-woman/article_de5db309-f531-5447-acf1-3e55748276f5.html\n",
      "You must `download()` an article first!\n"
     ]
    },
    {
     "name": "stderr",
     "output_type": "stream",
     "text": [
      "not a 200 response: 451\n"
     ]
    },
    {
     "name": "stdout",
     "output_type": "stream",
     "text": [
      "Error while processing https://www.thederrick.com/ap/politics/georgia-voting-touchscreens-vulnerable-cybersecurity-agency-finds/article_a79d66da-7e74-54dc-8081-d34bf968c5a1.html\n",
      "You must `download()` an article first!\n"
     ]
    },
    {
     "name": "stderr",
     "output_type": "stream",
     "text": [
      "not a 200 response: 451\n"
     ]
    },
    {
     "name": "stdout",
     "output_type": "stream",
     "text": [
      "Error while processing https://www.thederrick.com/ap/state/man-sentenced-to-life-in-california-racial-justice-law-case/article_aecffd94-8b9c-5c54-9df9-257608879350.html\n",
      "You must `download()` an article first!\n",
      "26.75%\n"
     ]
    },
    {
     "name": "stderr",
     "output_type": "stream",
     "text": [
      "connection/timeout error: https://www.seattletimes.com/seattle-news/health/coronavirus-daily-news-updates-april-20-what-to-know-today-about-covid-19-in-the-seattle-area-washington-state-and-the-world-2/ HTTPSConnectionPool(host='www.seattletimes.com', port=443): Read timed out. (read timeout=5)\n"
     ]
    },
    {
     "name": "stdout",
     "output_type": "stream",
     "text": [
      "Error while processing https://www.seattletimes.com/seattle-news/health/coronavirus-daily-news-updates-april-20-what-to-know-today-about-covid-19-in-the-seattle-area-washington-state-and-the-world-2/\n",
      "You must `download()` an article first!\n",
      "26.83%\n"
     ]
    },
    {
     "name": "stderr",
     "output_type": "stream",
     "text": [
      "not a 200 response: 503\n"
     ]
    },
    {
     "name": "stdout",
     "output_type": "stream",
     "text": [
      "Error while processing https://onlinelibrary.wiley.com/doi/full/10.1111/beer.12431\n",
      "You must `download()` an article first!\n"
     ]
    },
    {
     "name": "stderr",
     "output_type": "stream",
     "text": [
      "connection/timeout error: https://www.financialexpress.com/lifestyle/health/coronavirus-live-covid-19-latest-news-on-fourth-wave-omicron-total-covid-case-count-in-india-delhi-mumbai-goa-uttar-pradesh/2503531/ HTTPSConnectionPool(host='www.financialexpress.com', port=443): Read timed out. (read timeout=5)\n"
     ]
    },
    {
     "name": "stdout",
     "output_type": "stream",
     "text": [
      "Error while processing https://www.financialexpress.com/lifestyle/health/coronavirus-live-covid-19-latest-news-on-fourth-wave-omicron-total-covid-case-count-in-india-delhi-mumbai-goa-uttar-pradesh/2503531/\n",
      "You must `download()` an article first!\n",
      "26.92%\n",
      "27.0%\n",
      "27.08%\n"
     ]
    },
    {
     "name": "stderr",
     "output_type": "stream",
     "text": [
      "not a 200 response: 403\n"
     ]
    },
    {
     "name": "stdout",
     "output_type": "stream",
     "text": [
      "Error while processing https://www.businessnewsaustralia.com/articles/without-foreign-students-and-workers--retail-sector-calls-for-pensioners-to-fill-staffing-gaps.html\n",
      "You must `download()` an article first!\n",
      "27.17%\n"
     ]
    },
    {
     "name": "stderr",
     "output_type": "stream",
     "text": [
      "not a 200 response: 503\n"
     ]
    },
    {
     "name": "stdout",
     "output_type": "stream",
     "text": [
      "Error while processing https://www.thelancet.com/journals/laninf/article/PIIS1473-3099(21)00460-6/fulltext\n",
      "You must `download()` an article first!\n",
      "27.25%\n"
     ]
    },
    {
     "name": "stderr",
     "output_type": "stream",
     "text": [
      "not a 200 response: 503\n"
     ]
    },
    {
     "name": "stdout",
     "output_type": "stream",
     "text": [
      "Error while processing https://bpspsychub.onlinelibrary.wiley.com/doi/full/10.1111/bjhp.12556\n",
      "You must `download()` an article first!\n"
     ]
    },
    {
     "name": "stderr",
     "output_type": "stream",
     "text": [
      "connection/timeout error: https://www.usnews.com/opinion/articles/2021-09-28/opinion-covid-19-vaccines-are-good-but-shouldnt-be-mandated-for-school-kids HTTPSConnectionPool(host='www.usnews.com', port=443): Read timed out. (read timeout=5)\n"
     ]
    },
    {
     "name": "stdout",
     "output_type": "stream",
     "text": [
      "Error while processing https://www.usnews.com/opinion/articles/2021-09-28/opinion-covid-19-vaccines-are-good-but-shouldnt-be-mandated-for-school-kids\n",
      "You must `download()` an article first!\n"
     ]
    },
    {
     "name": "stderr",
     "output_type": "stream",
     "text": [
      "connection/timeout error: https://www.health.gov.au/news/lieutenant-general-john-frewens-interview-on-the-today-show-on-6-september-2021 HTTPSConnectionPool(host='www.health.gov.au', port=443): Read timed out. (read timeout=5)\n"
     ]
    },
    {
     "name": "stdout",
     "output_type": "stream",
     "text": [
      "Error while processing https://www.health.gov.au/news/lieutenant-general-john-frewens-interview-on-the-today-show-on-6-september-2021\n",
      "You must `download()` an article first!\n"
     ]
    },
    {
     "name": "stderr",
     "output_type": "stream",
     "text": [
      "not a 200 response: 503\n"
     ]
    },
    {
     "name": "stdout",
     "output_type": "stream",
     "text": [
      "Error while processing https://onlinelibrary.wiley.com/doi/10.1111/apt.16590\n",
      "You must `download()` an article first!\n",
      "27.33%\n"
     ]
    },
    {
     "name": "stderr",
     "output_type": "stream",
     "text": [
      "not a 200 response: 403\n"
     ]
    },
    {
     "name": "stdout",
     "output_type": "stream",
     "text": [
      "Error while processing https://invivo.pharmaintelligence.informa.com/IV124893/The-Case-For-Covaxin-Ocugen-CEO-Shankar-Musunuri\n",
      "You must `download()` an article first!\n"
     ]
    },
    {
     "name": "stderr",
     "output_type": "stream",
     "text": [
      "connection/timeout error: https://www.health.gov.au/ministers/the-hon-greg-hunt-mp/media/minister-hunts-press-conference-in-melbourne-on-20-september-2021-with-an-update-on-the-vaccination-rollout-and-moderna-vaccines HTTPSConnectionPool(host='www.health.gov.au', port=443): Read timed out. (read timeout=5)\n"
     ]
    },
    {
     "name": "stdout",
     "output_type": "stream",
     "text": [
      "Error while processing https://www.health.gov.au/ministers/the-hon-greg-hunt-mp/media/minister-hunts-press-conference-in-melbourne-on-20-september-2021-with-an-update-on-the-vaccination-rollout-and-moderna-vaccines\n",
      "You must `download()` an article first!\n",
      "27.42%\n"
     ]
    },
    {
     "name": "stderr",
     "output_type": "stream",
     "text": [
      "/home/rba/Projects/cultural-analytics/venv_culturalanalytics/lib/python3.8/site-packages/dateutil/parser/_parser.py:1207: UnknownTimezoneWarning: tzname EEST identified but not understood.  Pass `tzinfos` argument in order to correctly return a timezone-aware datetime.  In a future version, this will raise an exception.\n",
      "  warnings.warn(\"tzname {tzname} identified but not understood.  \"\n",
      "connection/timeout error: https://www.washingtonpost.com/nation/2021/10/18/covid-delta-variant-live-updates/ HTTPSConnectionPool(host='www.washingtonpost.com', port=443): Read timed out. (read timeout=5)\n"
     ]
    },
    {
     "name": "stdout",
     "output_type": "stream",
     "text": [
      "Error while processing https://www.washingtonpost.com/nation/2021/10/18/covid-delta-variant-live-updates/\n",
      "You must `download()` an article first!\n"
     ]
    }
   ],
   "source": [
    "def textDownloader(row):\n",
    "    row = row.to_dict()\n",
    "    try:\n",
    "        with open(f\"../data/articles/{row['id']}.json\", \"x\") as file:\n",
    "            q = NewsPlease.from_url(row['link'], timeout = 5)\n",
    "            row['maintext'] = q.maintext\n",
    "            json.dump(row, file)\n",
    "            time.sleep(.3)\n",
    "    except FileExistsError as e1:\n",
    "        pass\n",
    "    except Exception as e:\n",
    "        print('Error while processing',row['link'])\n",
    "        print(e)\n",
    "\n",
    "    \n",
    "# def main():\n",
    "#     pool = multiprocessing.Pool(3)\n",
    "#     pool.map(textDownloader, [meta.loc[x] for x in meta.index])\n",
    "\n",
    "    \n",
    "def main():\n",
    "    c = 0 \n",
    "    for i in [meta.loc[x] for x in meta.index]:\n",
    "        textDownloader(i)\n",
    "        c+=1\n",
    "        if (c%20 == 0):\n",
    "            print(f\"{round(c/len(meta)*1e2,2)}%\")\n",
    "    \n",
    "main()"
   ]
  },
  {
   "cell_type": "code",
   "execution_count": null,
   "id": "45f31b6e",
   "metadata": {},
   "outputs": [],
   "source": []
  }
 ],
 "metadata": {
  "kernelspec": {
   "display_name": "Python 3",
   "language": "python",
   "name": "python3"
  },
  "language_info": {
   "codemirror_mode": {
    "name": "ipython",
    "version": 3
   },
   "file_extension": ".py",
   "mimetype": "text/x-python",
   "name": "python",
   "nbconvert_exporter": "python",
   "pygments_lexer": "ipython3",
   "version": "3.8.10"
  }
 },
 "nbformat": 4,
 "nbformat_minor": 5
}
