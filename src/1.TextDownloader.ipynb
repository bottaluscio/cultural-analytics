{
 "cells": [
  {
   "cell_type": "code",
   "execution_count": 1,
   "id": "5f371051",
   "metadata": {},
   "outputs": [],
   "source": [
    "import numpy as np\n",
    "import pandas as pd\n",
    "import os,time, matplotlib\n",
    "import matplotlib.pyplot as plt\n",
    "import datetime,time,json\n",
    "import multiprocessing\n",
    "\n",
    "from newsplease import NewsPlease\n",
    "from utils import GoogleNews"
   ]
  },
  {
   "cell_type": "code",
   "execution_count": 4,
   "id": "6ff3399b",
   "metadata": {},
   "outputs": [
    {
     "name": "stdout",
     "output_type": "stream",
     "text": [
      "(66462, 4)\n"
     ]
    }
   ],
   "source": [
    "meta = pd.read_csv('../data/pygooglenews/metadata.csv', sep=',')\n",
    "print(meta.shape)\n",
    "meta = meta.drop_duplicates(subset=['id'])"
   ]
  },
  {
   "cell_type": "code",
   "execution_count": 3,
   "id": "f9345250",
   "metadata": {},
   "outputs": [
    {
     "data": {
      "text/plain": [
       "(24001, 4)"
      ]
     },
     "execution_count": 3,
     "metadata": {},
     "output_type": "execute_result"
    }
   ],
   "source": [
    "meta.shape"
   ]
  },
  {
   "cell_type": "code",
   "execution_count": 5,
   "id": "232f6508",
   "metadata": {},
   "outputs": [
    {
     "data": {
      "text/plain": [
       "0.36112364960428517"
      ]
     },
     "execution_count": 5,
     "metadata": {},
     "output_type": "execute_result"
    }
   ],
   "source": [
    "24001/66462"
   ]
  },
  {
   "cell_type": "code",
   "execution_count": 4,
   "id": "21881b1f",
   "metadata": {},
   "outputs": [
    {
     "data": {
      "text/html": [
       "<div>\n",
       "<style scoped>\n",
       "    .dataframe tbody tr th:only-of-type {\n",
       "        vertical-align: middle;\n",
       "    }\n",
       "\n",
       "    .dataframe tbody tr th {\n",
       "        vertical-align: top;\n",
       "    }\n",
       "\n",
       "    .dataframe thead th {\n",
       "        text-align: right;\n",
       "    }\n",
       "</style>\n",
       "<table border=\"1\" class=\"dataframe\">\n",
       "  <thead>\n",
       "    <tr style=\"text-align: right;\">\n",
       "      <th></th>\n",
       "      <th>id</th>\n",
       "      <th>title</th>\n",
       "      <th>link</th>\n",
       "      <th>published</th>\n",
       "    </tr>\n",
       "  </thead>\n",
       "  <tbody>\n",
       "    <tr>\n",
       "      <th>0</th>\n",
       "      <td>113be0cc2d1a225a304211002b25fbb8</td>\n",
       "      <td>Anti-vaccine movement could undermine efforts ...</td>\n",
       "      <td>https://www.nature.com/articles/d41586-020-014...</td>\n",
       "      <td>Wed, 13 May 2020 07:00:00 GMT</td>\n",
       "    </tr>\n",
       "    <tr>\n",
       "      <th>1</th>\n",
       "      <td>331047232ac3c1b44a7c7fd234452e7d</td>\n",
       "      <td>A majority of vaccine skeptics plan to refuse ...</td>\n",
       "      <td>https://theconversation.com/a-majority-of-vacc...</td>\n",
       "      <td>Mon, 04 May 2020 07:00:00 GMT</td>\n",
       "    </tr>\n",
       "    <tr>\n",
       "      <th>2</th>\n",
       "      <td>e19788af8207dbed4cbfb9b4da1eae13</td>\n",
       "      <td>A leading COVID-19 vaccine scientist answers o...</td>\n",
       "      <td>https://www.weforum.org/agenda/2020/05/covid19...</td>\n",
       "      <td>Fri, 01 May 2020 07:00:00 GMT</td>\n",
       "    </tr>\n",
       "    <tr>\n",
       "      <th>3</th>\n",
       "      <td>e7d84595423deac7d6d953d488db98a0</td>\n",
       "      <td>UK's response to covid-19 “too little, too lat...</td>\n",
       "      <td>https://www.bmj.com/company/newsroom/uks-respo...</td>\n",
       "      <td>Fri, 15 May 2020 16:58:07 GMT</td>\n",
       "    </tr>\n",
       "    <tr>\n",
       "      <th>4</th>\n",
       "      <td>c9458976bdc65bf03e05a181fde642a6</td>\n",
       "      <td>Luxembourg mulls mandatory vaccine as Germany ...</td>\n",
       "      <td>https://www.luxtimes.lu/en/luxembourg/luxembou...</td>\n",
       "      <td>Fri, 08 Apr 2022 07:00:00 GMT</td>\n",
       "    </tr>\n",
       "  </tbody>\n",
       "</table>\n",
       "</div>"
      ],
      "text/plain": [
       "                                 id  \\\n",
       "0  113be0cc2d1a225a304211002b25fbb8   \n",
       "1  331047232ac3c1b44a7c7fd234452e7d   \n",
       "2  e19788af8207dbed4cbfb9b4da1eae13   \n",
       "3  e7d84595423deac7d6d953d488db98a0   \n",
       "4  c9458976bdc65bf03e05a181fde642a6   \n",
       "\n",
       "                                               title  \\\n",
       "0  Anti-vaccine movement could undermine efforts ...   \n",
       "1  A majority of vaccine skeptics plan to refuse ...   \n",
       "2  A leading COVID-19 vaccine scientist answers o...   \n",
       "3  UK's response to covid-19 “too little, too lat...   \n",
       "4  Luxembourg mulls mandatory vaccine as Germany ...   \n",
       "\n",
       "                                                link  \\\n",
       "0  https://www.nature.com/articles/d41586-020-014...   \n",
       "1  https://theconversation.com/a-majority-of-vacc...   \n",
       "2  https://www.weforum.org/agenda/2020/05/covid19...   \n",
       "3  https://www.bmj.com/company/newsroom/uks-respo...   \n",
       "4  https://www.luxtimes.lu/en/luxembourg/luxembou...   \n",
       "\n",
       "                       published  \n",
       "0  Wed, 13 May 2020 07:00:00 GMT  \n",
       "1  Mon, 04 May 2020 07:00:00 GMT  \n",
       "2  Fri, 01 May 2020 07:00:00 GMT  \n",
       "3  Fri, 15 May 2020 16:58:07 GMT  \n",
       "4  Fri, 08 Apr 2022 07:00:00 GMT  "
      ]
     },
     "execution_count": 4,
     "metadata": {},
     "output_type": "execute_result"
    }
   ],
   "source": [
    "meta.head()"
   ]
  },
  {
   "cell_type": "code",
   "execution_count": 5,
   "id": "e61565b0",
   "metadata": {},
   "outputs": [
    {
     "data": {
      "text/plain": [
       "'https://www.nature.com/articles/d41586-020-01423-4'"
      ]
     },
     "execution_count": 5,
     "metadata": {},
     "output_type": "execute_result"
    }
   ],
   "source": [
    "l = meta.link.iloc[0]\n",
    "l"
   ]
  },
  {
   "cell_type": "code",
   "execution_count": 6,
   "id": "4d0baa80",
   "metadata": {
    "scrolled": true
   },
   "outputs": [
    {
     "data": {
      "text/plain": [
       "{'authors': ['Ball', 'Philip Ball', 'You Can Also Search For This Author In'],\n",
       " 'date_download': datetime.datetime(2022, 6, 10, 19, 57, 19),\n",
       " 'date_modify': None,\n",
       " 'date_publish': datetime.datetime(2022, 5, 16, 0, 0),\n",
       " 'description': 'Studies of social networks show that opposition to vaccines is small but far-reaching — and growing.',\n",
       " 'filename': 'https%3A%2F%2Fwww.nature.com%2Farticles%2Fd41586-020-01423-4.json',\n",
       " 'image_url': 'https://media.nature.com/lw1024/magazine-assets/d41586-020-01423-4/d41586-020-01423-4_17977470.jpg',\n",
       " 'language': 'en',\n",
       " 'localpath': None,\n",
       " 'maintext': 'Anti-vaccine placards have appeared at US protests during the pandemic.Credit: Rich Pedroncelli/AP/Shutterstock\\nAs scientists work to create a vaccine against COVID-19, a small but fervent anti-vaccination movement is marshalling against it. Campaigners are seeding outlandish narratives: they falsely say that coronavirus vaccines will be used to implant microchips into people, for instance, and falsely claim that a woman who took part in a UK vaccine trial died. In April, some carried placards with anti-vaccine slogans at rallies in California to protest against the lockdown. Last week, a now-deleted YouTube video promoting wild conspiracy theories about the pandemic and asserting (without evidence) that vaccines would “kill millions” received more than 8 million views.\\nIt’s not known how many people would actually refuse a COVID-19 vaccine — and general support for vaccines remains high. But some researchers studying vaccine-opposition movements say they’re concerned that the messages could undermine efforts to establish herd immunity to the new coronavirus. Online opposition to vaccines has rapidly pivoted to talk of the pandemic, says Neil Johnson, a physicist at George Washington University in Washington DC, who is studying the campaigners’ tactics. “For a lot of these groups, it’s all about COVID now,” he says.\\nGroups opposing vaccines are small in size, but their online-communications strategy is worryingly effective and far-reaching, a report from Johnson’s team suggests. Before the SARS-CoV-2 virus emerged, Johnson’s team began mapping out a network of views on vaccination, on Facebook. They investigated more than 1,300 pages, followed by about 85 million individuals.\\nTheir findings1, published on 13 May, suggest that anti-vaccination pages tend to have fewer followers but are more numerous than pro-vaccination ones, and are more often linked to in discussions on other Facebook pages — such as parent associations at schools — whose stance on vaccination is undecided.\\nIn contrast, pages that explain the benefits of and the scientific case for vaccination are linked in a network that is largely disconnected from this “main battlefield” for public sentiment, as Johnson puts it. During measles outbreaks in 2019, anti-vaccination pages grew more links than did pro-vaccination ones on Facebook, Johnson’s team adds. An extrapolation of current trends using computer simulations suggests that opposition to vaccines might dominate the network of views on vaccines within ten years, they write.\\nSource: Ref 1.\\nThe work shows that “the pro-vaccine community are basically sticking to their narrative and talking to each other, and not reaching out and being responsive to the narratives that are out there among the undecided,” says Heidi Larson, who directs the Vaccine Confidence Project, a group that monitors public trust in vaccines, at the London School of Hygiene and Tropical Medicine.\\nThe issue isn’t confined to Facebook. On 1 April, Johnson’s team released a preprint of a separate study2 on online messaging about COVID-19. That report, which has not yet been peer-reviewed, suggests that links are growing across different social-media platforms between anti-vaccine groups debating COVID-19 and other interest groups, such as far-right extremists.\\nCountering the spread of anti-vaccine sentiment will involve understanding not just the shape of the online map, but of how it got that way, says Bruce Gellin, president of global immunization at the Sabin Vaccine Institute in Washington DC. “We need to understand what it is about the conversations and content [around anti-vaccination] that compels people to listen and share it with others,” he says.\\nVaried, emotive messages\\nPro-vaccine groups have a simple message — vaccines work and save lives. Anti-vaccine narratives are numerous: from sowing worries about children’s health to advocating alternative medicines and linking immunizations to conspiracy theories. And the anti-vaccination messages are spread across many more Facebook clusters than are those from the larger pro-vaccine groups. Johnson says these features echo those his team has found in earlier studies of insurgency networks in conflict zones, where insurgents could often embed themselves deeply into existing social networks.\\nAnti-vaccine campaigners tend to win converts with personalized, emotive messages, says Larson; these are built not necessarily on fear (“Vaccines will kill you.”), but on appeals to the heart (“Do you love your children?”). The public-health community, meanwhile, has simply been trying to get more people vaccinated, she says — which might lead to a feeling that they are just trying to get their numbers up. “The approach needs to be quite different with people who are undecided,” she says. Vaccine-advocacy organizations are “not listening to concerns and questions”.\\nOverall, most people support vaccines, points out Gellin, and are likely to do so in this pandemic. Still, global vaccination rates have plateaued in the past two decades, Larson says. Both she and Gellin worry that another reason for public suspicion about a COVID-19 vaccine might be the speed of its development. “We should be very clear and transparent about the development process,” says Gellin. “Otherwise, when it shows up, people will ask ‘how can we be sure no shortcuts were taken?’”\\nThe messaging around a vaccine will also need to be carefully thought out. If there’s already fewer COVID-19 infections by then, it’s going to be a hard sell, says Larson. “The thing that’s going to change people’s minds is if the government says that if you have the vaccine, you can go to work”, she says.',\n",
       " 'source_domain': 'www.nature.com',\n",
       " 'text': None,\n",
       " 'title': 'Anti-vaccine movement could undermine efforts to end coronavirus pandemic, researchers warn',\n",
       " 'title_page': None,\n",
       " 'title_rss': None,\n",
       " 'url': 'https://www.nature.com/articles/d41586-020-01423-4'}"
      ]
     },
     "execution_count": 6,
     "metadata": {},
     "output_type": "execute_result"
    }
   ],
   "source": [
    "article = NewsPlease.from_url(l)\n",
    "article.get_dict()"
   ]
  },
  {
   "cell_type": "code",
   "execution_count": 9,
   "id": "f5d9652f",
   "metadata": {
    "scrolled": false
   },
   "outputs": [
    {
     "name": "stdout",
     "output_type": "stream",
     "text": [
      "0.42%\n",
      "0.83%\n",
      "1.25%\n",
      "1.67%\n",
      "2.08%\n",
      "2.5%\n",
      "2.92%\n",
      "3.33%\n",
      "3.75%\n",
      "4.17%\n",
      "4.58%\n",
      "5.0%\n",
      "5.42%\n",
      "5.83%\n",
      "6.25%\n",
      "6.67%\n",
      "7.08%\n",
      "7.5%\n",
      "7.92%\n",
      "8.33%\n",
      "8.75%\n",
      "9.17%\n",
      "9.58%\n",
      "10.0%\n",
      "10.42%\n",
      "10.83%\n",
      "11.25%\n",
      "11.67%\n",
      "12.08%\n",
      "12.5%\n",
      "12.92%\n",
      "13.33%\n",
      "13.75%\n",
      "14.17%\n",
      "14.58%\n",
      "15.0%\n",
      "15.42%\n",
      "15.83%\n",
      "16.25%\n",
      "16.67%\n",
      "17.08%\n",
      "17.5%\n",
      "17.92%\n",
      "18.33%\n",
      "18.75%\n",
      "19.17%\n",
      "19.58%\n",
      "20.0%\n",
      "20.42%\n",
      "20.83%\n",
      "21.25%\n",
      "21.67%\n",
      "22.08%\n",
      "22.5%\n",
      "22.92%\n",
      "23.33%\n",
      "23.75%\n",
      "24.17%\n",
      "24.58%\n",
      "25.0%\n",
      "25.42%\n",
      "25.83%\n",
      "26.25%\n",
      "26.67%\n",
      "27.08%\n",
      "27.5%\n",
      "27.92%\n",
      "28.33%\n",
      "28.75%\n",
      "29.17%\n",
      "29.58%\n",
      "30.0%\n",
      "30.42%\n",
      "30.83%\n",
      "31.25%\n",
      "31.67%\n",
      "32.08%\n",
      "32.5%\n",
      "32.92%\n",
      "33.33%\n",
      "33.75%\n",
      "34.17%\n",
      "34.58%\n",
      "35.0%\n",
      "35.42%\n",
      "35.83%\n",
      "36.25%\n",
      "36.67%\n",
      "37.08%\n",
      "37.5%\n",
      "37.92%\n",
      "38.33%\n",
      "38.75%\n",
      "39.17%\n",
      "39.58%\n",
      "40.0%\n",
      "40.41%\n",
      "40.83%\n",
      "41.25%\n",
      "41.66%\n",
      "42.08%\n",
      "42.5%\n",
      "42.91%\n",
      "43.33%\n",
      "43.75%\n",
      "44.16%\n",
      "44.58%\n",
      "45.0%\n",
      "45.41%\n",
      "45.83%\n",
      "46.25%\n",
      "46.66%\n",
      "47.08%\n",
      "47.5%\n",
      "47.91%\n",
      "48.33%\n",
      "48.75%\n",
      "49.16%\n",
      "49.58%\n",
      "50.0%\n",
      "50.41%\n",
      "50.83%\n",
      "51.25%\n",
      "51.66%\n",
      "52.08%\n",
      "52.5%\n",
      "52.91%\n",
      "53.33%\n",
      "53.75%\n",
      "54.16%\n",
      "54.58%\n",
      "55.0%\n",
      "55.41%\n",
      "55.83%\n",
      "56.25%\n",
      "56.66%\n",
      "57.08%\n",
      "57.5%\n",
      "57.91%\n",
      "58.33%\n",
      "58.75%\n",
      "59.16%\n",
      "59.58%\n",
      "60.0%\n",
      "60.41%\n",
      "60.83%\n",
      "61.25%\n",
      "61.66%\n",
      "62.08%\n",
      "62.5%\n",
      "62.91%\n",
      "63.33%\n",
      "63.75%\n",
      "64.16%\n",
      "64.58%\n",
      "65.0%\n",
      "65.41%\n",
      "65.83%\n",
      "66.25%\n",
      "66.66%\n",
      "67.08%\n",
      "67.5%\n",
      "67.91%\n",
      "68.33%\n",
      "68.75%\n",
      "69.16%\n",
      "69.58%\n",
      "70.0%\n",
      "70.41%\n",
      "70.83%\n",
      "71.25%\n",
      "71.66%\n",
      "72.08%\n",
      "72.5%\n",
      "72.91%\n",
      "73.33%\n",
      "73.75%\n",
      "74.16%\n",
      "74.58%\n",
      "75.0%\n",
      "75.41%\n",
      "75.83%\n",
      "76.25%\n",
      "76.66%\n",
      "77.08%\n",
      "77.5%\n",
      "77.91%\n",
      "78.33%\n",
      "78.75%\n",
      "79.16%\n",
      "79.58%\n",
      "80.0%\n",
      "80.41%\n",
      "80.83%\n",
      "81.25%\n",
      "81.66%\n",
      "82.08%\n",
      "82.5%\n",
      "82.91%\n",
      "83.33%\n",
      "83.75%\n",
      "84.16%\n",
      "84.58%\n",
      "85.0%\n",
      "85.41%\n",
      "85.83%\n",
      "86.25%\n",
      "86.66%\n",
      "87.08%\n",
      "87.5%\n",
      "87.91%\n",
      "88.33%\n",
      "88.75%\n"
     ]
    },
    {
     "name": "stderr",
     "output_type": "stream",
     "text": [
      "connection/timeout error: https://www.washingtonpost.com/world/2021/12/09/coronavirus-italy-fake-arm-vaccine/ HTTPSConnectionPool(host='www.washingtonpost.com', port=443): Read timed out. (read timeout=5)\n"
     ]
    },
    {
     "name": "stdout",
     "output_type": "stream",
     "text": [
      "Error while processing https://www.washingtonpost.com/world/2021/12/09/coronavirus-italy-fake-arm-vaccine/\n"
     ]
    },
    {
     "name": "stderr",
     "output_type": "stream",
     "text": [
      "connection/timeout error: https://www.washingtonpost.com/nation/2021/12/08/covid-omicron-variant-live-updates/ HTTPSConnectionPool(host='www.washingtonpost.com', port=443): Read timed out. (read timeout=5)\n"
     ]
    },
    {
     "name": "stdout",
     "output_type": "stream",
     "text": [
      "Error while processing https://www.washingtonpost.com/nation/2021/12/08/covid-omicron-variant-live-updates/\n"
     ]
    },
    {
     "name": "stderr",
     "output_type": "stream",
     "text": [
      "connection/timeout error: https://www.washingtonpost.com/world/2021/12/03/australia-aboriginal-coronavirus-vaccine-misinformation/ HTTPSConnectionPool(host='www.washingtonpost.com', port=443): Read timed out. (read timeout=5)\n"
     ]
    },
    {
     "name": "stdout",
     "output_type": "stream",
     "text": [
      "Error while processing https://www.washingtonpost.com/world/2021/12/03/australia-aboriginal-coronavirus-vaccine-misinformation/\n"
     ]
    },
    {
     "name": "stderr",
     "output_type": "stream",
     "text": [
      "connection/timeout error: https://www.washingtonpost.com/politics/omicron-coronavirus-whiplash/2021/12/16/35d0eaa0-5e86-11ec-8665-aed48580f911_story.html HTTPSConnectionPool(host='www.washingtonpost.com', port=443): Read timed out. (read timeout=5)\n"
     ]
    },
    {
     "name": "stdout",
     "output_type": "stream",
     "text": [
      "Error while processing https://www.washingtonpost.com/politics/omicron-coronavirus-whiplash/2021/12/16/35d0eaa0-5e86-11ec-8665-aed48580f911_story.html\n"
     ]
    },
    {
     "name": "stderr",
     "output_type": "stream",
     "text": [
      "connection/timeout error: https://www.washingtonpost.com/nation/2021/04/14/coronavirus-covid-live-updates-us/ HTTPSConnectionPool(host='www.washingtonpost.com', port=443): Read timed out. (read timeout=5)\n"
     ]
    },
    {
     "name": "stdout",
     "output_type": "stream",
     "text": [
      "Error while processing https://www.washingtonpost.com/nation/2021/04/14/coronavirus-covid-live-updates-us/\n"
     ]
    },
    {
     "name": "stderr",
     "output_type": "stream",
     "text": [
      "connection/timeout error: https://www.biometricupdate.com/202102/digital-id-coming-to-finland-germany-and-mexico HTTPSConnectionPool(host='www.biometricupdate.com', port=443): Read timed out. (read timeout=5)\n"
     ]
    },
    {
     "name": "stdout",
     "output_type": "stream",
     "text": [
      "Error while processing https://www.biometricupdate.com/202102/digital-id-coming-to-finland-germany-and-mexico\n"
     ]
    },
    {
     "name": "stderr",
     "output_type": "stream",
     "text": [
      "not a 200 response: 403\n"
     ]
    },
    {
     "name": "stdout",
     "output_type": "stream",
     "text": [
      "Error while processing https://www.sportspromedia.com/news/australian-open-2022-vaccine-mandate-covid-19-djokovic/\n",
      "89.16%\n"
     ]
    },
    {
     "name": "stderr",
     "output_type": "stream",
     "text": [
      "connection/timeout error: https://www.health.gov.au/ministers/the-hon-greg-hunt-mp/media/mobilising-australias-covid-19-vaccine-workforce HTTPSConnectionPool(host='www.health.gov.au', port=443): Read timed out. (read timeout=5)\n"
     ]
    },
    {
     "name": "stdout",
     "output_type": "stream",
     "text": [
      "Error while processing https://www.health.gov.au/ministers/the-hon-greg-hunt-mp/media/mobilising-australias-covid-19-vaccine-workforce\n"
     ]
    },
    {
     "name": "stderr",
     "output_type": "stream",
     "text": [
      "not a 200 response: 403\n"
     ]
    },
    {
     "name": "stdout",
     "output_type": "stream",
     "text": [
      "Error while processing https://www.ktvb.com/article/news/local/208/downtown-boise-restaurant-require-proof-covid-19-vaccination-or-negative-test/277-bb2eda53-f4c6-4616-a446-b36be72bbb5d\n",
      "89.58%\n"
     ]
    },
    {
     "name": "stderr",
     "output_type": "stream",
     "text": [
      "connection/timeout error: https://www.washingtonpost.com/nation/2021/09/15/lapd-vaccine-exemptions-police-mandate/ HTTPSConnectionPool(host='www.washingtonpost.com', port=443): Read timed out. (read timeout=5)\n"
     ]
    },
    {
     "name": "stdout",
     "output_type": "stream",
     "text": [
      "Error while processing https://www.washingtonpost.com/nation/2021/09/15/lapd-vaccine-exemptions-police-mandate/\n"
     ]
    },
    {
     "name": "stderr",
     "output_type": "stream",
     "text": [
      "encoding error: UTF-8 / UTF-8\n",
      "connection/timeout error: https://www.washingtonpost.com/education/2021/09/24/school-masks-cdc-studies/ HTTPSConnectionPool(host='www.washingtonpost.com', port=443): Read timed out. (read timeout=5)\n"
     ]
    },
    {
     "name": "stdout",
     "output_type": "stream",
     "text": [
      "Error while processing https://www.washingtonpost.com/education/2021/09/24/school-masks-cdc-studies/\n"
     ]
    },
    {
     "name": "stderr",
     "output_type": "stream",
     "text": [
      "connection/timeout error: https://www.usnews.com/news/world/articles/2021-08-18/pope-francis-urges-everyone-to-get-covid-19-vaccines-for-the-good-of-all HTTPSConnectionPool(host='www.usnews.com', port=443): Read timed out. (read timeout=5)\n"
     ]
    },
    {
     "name": "stdout",
     "output_type": "stream",
     "text": [
      "Error while processing https://www.usnews.com/news/world/articles/2021-08-18/pope-francis-urges-everyone-to-get-covid-19-vaccines-for-the-good-of-all\n"
     ]
    },
    {
     "name": "stderr",
     "output_type": "stream",
     "text": [
      "not a 200 response: 451\n"
     ]
    },
    {
     "name": "stdout",
     "output_type": "stream",
     "text": [
      "Error while processing https://www.news10.com/news/flu-shots-may-protect-against-severe-complications-from-covid-19/\n"
     ]
    },
    {
     "name": "stderr",
     "output_type": "stream",
     "text": [
      "not a 200 response: 451\n"
     ]
    },
    {
     "name": "stdout",
     "output_type": "stream",
     "text": [
      "Error while processing https://kdvr.com/news/live-nation-oks-vaccine-testing-requirements-at-their-shows/\n"
     ]
    },
    {
     "name": "stderr",
     "output_type": "stream",
     "text": [
      "connection/timeout error: https://www.seattletimes.com/business/employers-can-require-the-coronavirus-vaccine-but-most-major-seattle-businesses-are-holding-off-for-now/ HTTPSConnectionPool(host='www.seattletimes.com', port=443): Read timed out. (read timeout=5)\n"
     ]
    },
    {
     "name": "stdout",
     "output_type": "stream",
     "text": [
      "Error while processing https://www.seattletimes.com/business/employers-can-require-the-coronavirus-vaccine-but-most-major-seattle-businesses-are-holding-off-for-now/\n"
     ]
    },
    {
     "name": "stderr",
     "output_type": "stream",
     "text": [
      "not a 200 response: 403\n"
     ]
    },
    {
     "name": "stdout",
     "output_type": "stream",
     "text": [
      "Error while processing https://www.wusa9.com/article/news/verify/how-many-executive-orders-has-biden-signed-are-executive-orders-laws-no-heres-the-difference-between-federal-law-and-executive-order/65-b3e5d870-5623-40c9-abf3-05609848fcdf\n",
      "90.0%\n"
     ]
    },
    {
     "name": "stderr",
     "output_type": "stream",
     "text": [
      "connection/timeout error: https://www.washingtonpost.com/travel/2021/10/19/cruises-vaccine-test-requirements/ HTTPSConnectionPool(host='www.washingtonpost.com', port=443): Read timed out. (read timeout=5)\n"
     ]
    },
    {
     "name": "stdout",
     "output_type": "stream",
     "text": [
      "Error while processing https://www.washingtonpost.com/travel/2021/10/19/cruises-vaccine-test-requirements/\n"
     ]
    },
    {
     "name": "stderr",
     "output_type": "stream",
     "text": [
      "connection/timeout error: https://www.washingtonpost.com/nation/2022/02/01/covid-omicron-variant-live-updates/ HTTPSConnectionPool(host='www.washingtonpost.com', port=443): Read timed out. (read timeout=5)\n"
     ]
    },
    {
     "name": "stdout",
     "output_type": "stream",
     "text": [
      "Error while processing https://www.washingtonpost.com/nation/2022/02/01/covid-omicron-variant-live-updates/\n"
     ]
    },
    {
     "name": "stderr",
     "output_type": "stream",
     "text": [
      "not a 200 response: 451\n"
     ]
    },
    {
     "name": "stdout",
     "output_type": "stream",
     "text": [
      "Error while processing https://www.wpri.com/health/coronavirus/february-11-2022-ri-coronavirus-update/\n"
     ]
    },
    {
     "name": "stderr",
     "output_type": "stream",
     "text": [
      "connection/timeout error: https://www.usnews.com/news/business/articles/2021-08-26/greek-health-care-workers-protest-against-mandatory-vaccines HTTPSConnectionPool(host='www.usnews.com', port=443): Read timed out. (read timeout=5)\n"
     ]
    },
    {
     "name": "stdout",
     "output_type": "stream",
     "text": [
      "Error while processing https://www.usnews.com/news/business/articles/2021-08-26/greek-health-care-workers-protest-against-mandatory-vaccines\n"
     ]
    },
    {
     "name": "stderr",
     "output_type": "stream",
     "text": [
      "not a 200 response: 451\n"
     ]
    },
    {
     "name": "stdout",
     "output_type": "stream",
     "text": [
      "Error while processing https://datebook.sfchronicle.com/entertainment/the-latest-covid-19-vaccination-and-masking-requirements-for-bay-area-entertainment-venues\n"
     ]
    },
    {
     "name": "stderr",
     "output_type": "stream",
     "text": [
      "connection/timeout error: https://www.newsday.com/lifestyle/restaurants/long-island-restaurants-coronavirus-vaccine-mandate-j54148 HTTPSConnectionPool(host='www.newsday.com', port=443): Read timed out. (read timeout=5)\n"
     ]
    },
    {
     "name": "stdout",
     "output_type": "stream",
     "text": [
      "Error while processing https://www.newsday.com/lifestyle/restaurants/long-island-restaurants-coronavirus-vaccine-mandate-j54148\n",
      "90.41%\n"
     ]
    },
    {
     "name": "stderr",
     "output_type": "stream",
     "text": [
      "not a 200 response: 403\n"
     ]
    },
    {
     "name": "stdout",
     "output_type": "stream",
     "text": [
      "Error while processing https://patientengagementhit.com/news/parents-of-toddlers-expressing-some-covid-19-vaccine-hesitancy\n"
     ]
    },
    {
     "name": "stderr",
     "output_type": "stream",
     "text": [
      "connection/timeout error: https://www.financialexpress.com/lifestyle/health/coronavirus-india-live-news-covid-19-omicron-cases-in-india-live-count-coronavirus-lockdown-night-curfew-guidelines-and-restrictions-live-updates-delhi-cases-mumbai-cases-pm-modi/2407790/ HTTPSConnectionPool(host='www.financialexpress.com', port=443): Read timed out. (read timeout=5)\n"
     ]
    },
    {
     "name": "stdout",
     "output_type": "stream",
     "text": [
      "Error while processing https://www.financialexpress.com/lifestyle/health/coronavirus-india-live-news-covid-19-omicron-cases-in-india-live-count-coronavirus-lockdown-night-curfew-guidelines-and-restrictions-live-updates-delhi-cases-mumbai-cases-pm-modi/2407790/\n",
      "90.83%\n"
     ]
    },
    {
     "name": "stderr",
     "output_type": "stream",
     "text": [
      "not a 200 response: 403\n"
     ]
    },
    {
     "name": "stdout",
     "output_type": "stream",
     "text": [
      "Error while processing https://www.dailytelegraph.com.au/news/national/health-alert-for-aussie-travellers-from-monkeypox-hot-spots/news-story/9ce354ce1dab3e1440440f2e0397248b\n"
     ]
    },
    {
     "name": "stderr",
     "output_type": "stream",
     "text": [
      "connection/timeout error: https://www.traveller.com.au/portugal-covid19-vaccination-rates-the-worlds-coolest-country-is-also-one-of-the-safest-h1z9k9 HTTPSConnectionPool(host='www.traveller.com.au', port=443): Read timed out. (read timeout=5)\n"
     ]
    },
    {
     "name": "stdout",
     "output_type": "stream",
     "text": [
      "Error while processing https://www.traveller.com.au/portugal-covid19-vaccination-rates-the-worlds-coolest-country-is-also-one-of-the-safest-h1z9k9\n"
     ]
    },
    {
     "name": "stderr",
     "output_type": "stream",
     "text": [
      "connection/timeout error: https://speakingofmedicine.plos.org/2022/05/23/vaccine-apartheid-is-racist-and-wrong/ HTTPSConnectionPool(host='speakingofmedicine.plos.org', port=443): Read timed out. (read timeout=5)\n"
     ]
    },
    {
     "name": "stdout",
     "output_type": "stream",
     "text": [
      "Error while processing https://speakingofmedicine.plos.org/2022/05/23/vaccine-apartheid-is-racist-and-wrong/\n"
     ]
    },
    {
     "name": "stderr",
     "output_type": "stream",
     "text": [
      "not a 200 response: 403\n"
     ]
    },
    {
     "name": "stdout",
     "output_type": "stream",
     "text": [
      "Error while processing https://www.devex.com/news/trips-waiver-compromise-tabled-at-wto-finds-few-takers-103239\n",
      "91.25%\n"
     ]
    },
    {
     "name": "stderr",
     "output_type": "stream",
     "text": [
      "not a 200 response: 403\n"
     ]
    },
    {
     "name": "stdout",
     "output_type": "stream",
     "text": [
      "Error while processing https://www.nst.com.my/news/nation/2022/05/794315/pickids-parents-told-get-their-kids-protected-may-15-deadline\n"
     ]
    },
    {
     "name": "stderr",
     "output_type": "stream",
     "text": [
      "connection/timeout error: https://www.washingtonpost.com/opinions/2022/02/02/smallest-kids-still-lack-vaccine-fda-must-leave-no-uncertainty/ HTTPSConnectionPool(host='www.washingtonpost.com', port=443): Read timed out. (read timeout=5)\n"
     ]
    },
    {
     "name": "stdout",
     "output_type": "stream",
     "text": [
      "Error while processing https://www.washingtonpost.com/opinions/2022/02/02/smallest-kids-still-lack-vaccine-fda-must-leave-no-uncertainty/\n"
     ]
    },
    {
     "name": "stderr",
     "output_type": "stream",
     "text": [
      "/home/rba/Projects/cultural-analytics/venv_culturalanalytics/lib/python3.8/site-packages/dateutil/parser/_parser.py:1207: UnknownTimezoneWarning: tzname EEST identified but not understood.  Pass `tzinfos` argument in order to correctly return a timezone-aware datetime.  In a future version, this will raise an exception.\n",
      "  warnings.warn(\"tzname {tzname} identified but not understood.  \"\n",
      "not a 200 response: 503\n"
     ]
    },
    {
     "name": "stdout",
     "output_type": "stream",
     "text": [
      "Error while processing https://onlinelibrary.wiley.com/doi/10.1002/eji.202270055\n"
     ]
    },
    {
     "name": "stderr",
     "output_type": "stream",
     "text": [
      "not a 200 response: 451\n"
     ]
    },
    {
     "name": "stdout",
     "output_type": "stream",
     "text": [
      "Error while processing https://www.kxan.com/news/international/germany-irritated-by-ukraines-snub-of-a-presidential-visit/\n"
     ]
    },
    {
     "name": "stderr",
     "output_type": "stream",
     "text": [
      "connection/timeout error: https://www.thetimes.co.uk/article/keep-your-masks-and-vaccines-why-millionaire-simon-dolan-is-taking-the-uk-government-to-court-6wrjpszz2 HTTPSConnectionPool(host='www.thetimes.co.uk', port=443): Read timed out. (read timeout=5)\n"
     ]
    },
    {
     "name": "stdout",
     "output_type": "stream",
     "text": [
      "Error while processing https://www.thetimes.co.uk/article/keep-your-masks-and-vaccines-why-millionaire-simon-dolan-is-taking-the-uk-government-to-court-6wrjpszz2\n"
     ]
    },
    {
     "name": "stderr",
     "output_type": "stream",
     "text": [
      "connection/timeout error: https://www.washingtonpost.com/world/europe/covid-vaccinations-france/2021/10/11/0f9c4e42-2141-11ec-a8d9-0827a2a4b915_story.html HTTPSConnectionPool(host='www.washingtonpost.com', port=443): Read timed out. (read timeout=5)\n"
     ]
    },
    {
     "name": "stdout",
     "output_type": "stream",
     "text": [
      "Error while processing https://www.washingtonpost.com/world/europe/covid-vaccinations-france/2021/10/11/0f9c4e42-2141-11ec-a8d9-0827a2a4b915_story.html\n"
     ]
    },
    {
     "name": "stderr",
     "output_type": "stream",
     "text": [
      "connection/timeout error: https://www.washingtonpost.com/outlook/2021/10/05/frustration-anger-deaths-wont-convince-unvaccinated/ HTTPSConnectionPool(host='www.washingtonpost.com', port=443): Read timed out. (read timeout=5)\n"
     ]
    },
    {
     "name": "stdout",
     "output_type": "stream",
     "text": [
      "Error while processing https://www.washingtonpost.com/outlook/2021/10/05/frustration-anger-deaths-wont-convince-unvaccinated/\n",
      "91.66%\n"
     ]
    },
    {
     "name": "stderr",
     "output_type": "stream",
     "text": [
      "connection/timeout error: https://www.washingtonpost.com/outlook/2021/03/15/vaccine-coronavirus-patents-waive-global-equity/ HTTPSConnectionPool(host='www.washingtonpost.com', port=443): Read timed out. (read timeout=5)\n"
     ]
    },
    {
     "name": "stdout",
     "output_type": "stream",
     "text": [
      "Error while processing https://www.washingtonpost.com/outlook/2021/03/15/vaccine-coronavirus-patents-waive-global-equity/\n"
     ]
    },
    {
     "name": "stderr",
     "output_type": "stream",
     "text": [
      "connection/timeout error: https://www.washingtonpost.com/opinions/thanks-to-covid-19-the-age-of-biometric-surveillance-is-here/2021/03/22/04b24f76-8b24-11eb-a6bd-0eb91c03305a_story.html HTTPSConnectionPool(host='www.washingtonpost.com', port=443): Read timed out. (read timeout=5)\n"
     ]
    },
    {
     "name": "stdout",
     "output_type": "stream",
     "text": [
      "Error while processing https://www.washingtonpost.com/opinions/thanks-to-covid-19-the-age-of-biometric-surveillance-is-here/2021/03/22/04b24f76-8b24-11eb-a6bd-0eb91c03305a_story.html\n"
     ]
    },
    {
     "name": "stderr",
     "output_type": "stream",
     "text": [
      "SSL: https://news.umanitoba.ca/globe-and-mail-op-ed-brandon-trask-covid-19-vaccine-passports-would-discriminate-against-canadians-if-used-here-at-home/ HTTPSConnectionPool(host='news.umanitoba.ca', port=443): Max retries exceeded with url: /globe-and-mail-op-ed-brandon-trask-covid-19-vaccine-passports-would-discriminate-against-canadians-if-used-here-at-home/ (Caused by SSLError(SSLError(1, '[SSL: DH_KEY_TOO_SMALL] dh key too small (_ssl.c:1131)')))\n"
     ]
    },
    {
     "name": "stdout",
     "output_type": "stream",
     "text": [
      "Error while processing https://news.umanitoba.ca/globe-and-mail-op-ed-brandon-trask-covid-19-vaccine-passports-would-discriminate-against-canadians-if-used-here-at-home/\n"
     ]
    },
    {
     "name": "stderr",
     "output_type": "stream",
     "text": [
      "not a 200 response: 403\n"
     ]
    },
    {
     "name": "stdout",
     "output_type": "stream",
     "text": [
      "Error while processing https://www.azmirror.com/2020/09/01/vaccine-mandates-vs-religious-beliefs-the-upcoming-covid-19-lawsuits/\n"
     ]
    },
    {
     "name": "stderr",
     "output_type": "stream",
     "text": [
      "not a 200 response: 451\n"
     ]
    },
    {
     "name": "stdout",
     "output_type": "stream",
     "text": [
      "Error while processing https://www.woodtv.com/covid-19-vaccine/trinity-health-requiring-employees-to-get-covid-19-vaccine/\n",
      "92.08%\n"
     ]
    },
    {
     "name": "stderr",
     "output_type": "stream",
     "text": [
      "/home/rba/Projects/cultural-analytics/venv_culturalanalytics/lib/python3.8/site-packages/bs4/builder/__init__.py:545: XMLParsedAsHTMLWarning: It looks like you're parsing an XML document using an HTML parser. If this really is an HTML document (maybe it's XHTML?), you can ignore or filter this warning. If it's XML, you should know that using an XML parser will be more reliable. To parse this document as XML, make sure you have the lxml package installed, and pass the keyword argument `features=\"xml\"` into the BeautifulSoup constructor.\n",
      "  warnings.warn(\n",
      "not a 200 response: 403\n"
     ]
    },
    {
     "name": "stdout",
     "output_type": "stream",
     "text": [
      "Error while processing https://www.abc10.com/article/news/community/race-and-culture/covid-19-vaccine-hesitancy-native-american-population/103-7545408f-29de-41c2-a74a-7832b50e0464\n"
     ]
    },
    {
     "name": "stderr",
     "output_type": "stream",
     "text": [
      "connection/timeout error: https://www.seattletimes.com/seattle-news/a-uw-expert-just-called-the-end-of-the-pandemic-why-is-nobody-celebrating/ HTTPSConnectionPool(host='www.seattletimes.com', port=443): Read timed out. (read timeout=5)\n"
     ]
    },
    {
     "name": "stdout",
     "output_type": "stream",
     "text": [
      "Error while processing https://www.seattletimes.com/seattle-news/a-uw-expert-just-called-the-end-of-the-pandemic-why-is-nobody-celebrating/\n"
     ]
    },
    {
     "name": "stderr",
     "output_type": "stream",
     "text": [
      "not a 200 response: 403\n"
     ]
    },
    {
     "name": "stdout",
     "output_type": "stream",
     "text": [
      "Error while processing https://www.azmirror.com/2022/01/28/arizona-businesses-with-vaccine-mandates-would-face-500k-lawsuits-under-gop-proposal/\n"
     ]
    },
    {
     "name": "stderr",
     "output_type": "stream",
     "text": [
      "not a 200 response: 451\n"
     ]
    },
    {
     "name": "stdout",
     "output_type": "stream",
     "text": [
      "Error while processing https://www.idahopress.com/news/local/boise-requires-vaccination-or-proof-of-negative-test-masks-for-large-events/article_2b83ec0d-e4bb-542c-a22b-b235eb8c57f5.html\n"
     ]
    },
    {
     "name": "stderr",
     "output_type": "stream",
     "text": [
      "connection/timeout error: https://www.pharmaceutical-technology.com/comment/boosters-drug-breakthroughs-covid-19-vaccines/ HTTPSConnectionPool(host='www.pharmaceutical-technology.com', port=443): Read timed out. (read timeout=5)\n"
     ]
    },
    {
     "name": "stdout",
     "output_type": "stream",
     "text": [
      "Error while processing https://www.pharmaceutical-technology.com/comment/boosters-drug-breakthroughs-covid-19-vaccines/\n"
     ]
    },
    {
     "name": "stderr",
     "output_type": "stream",
     "text": [
      "not a 200 response: 503\n"
     ]
    },
    {
     "name": "stdout",
     "output_type": "stream",
     "text": [
      "Error while processing https://www.thelancet.com/journals/lancet/article/PIIS0140-6736(21)01258-7/fulltext\n"
     ]
    },
    {
     "name": "stderr",
     "output_type": "stream",
     "text": [
      "not a 200 response: 451\n"
     ]
    },
    {
     "name": "stdout",
     "output_type": "stream",
     "text": [
      "Error while processing https://www.idahopress.com/postregister/coronavirus/facing-staff-shortages-nursing-homes-welcome-broader-vaccine-requirements/article_e6e48fb2-5859-57b6-8275-e9326cdbe3c0.html\n",
      "92.5%\n"
     ]
    },
    {
     "name": "stderr",
     "output_type": "stream",
     "text": [
      "not a 200 response: 451\n"
     ]
    },
    {
     "name": "stdout",
     "output_type": "stream",
     "text": [
      "Error while processing https://www.wkbn.com/news/local-news/dont-want-the-covid-vaccine-how-big-of-a-risk-are-you-really-taking/\n"
     ]
    },
    {
     "name": "stderr",
     "output_type": "stream",
     "text": [
      "not a 200 response: 403\n"
     ]
    },
    {
     "name": "stdout",
     "output_type": "stream",
     "text": [
      "Error while processing https://www.devex.com/news/why-is-there-a-gender-gap-in-india-s-vaccination-program-100465\n"
     ]
    },
    {
     "name": "stderr",
     "output_type": "stream",
     "text": [
      "not a 200 response: 403\n"
     ]
    },
    {
     "name": "stdout",
     "output_type": "stream",
     "text": [
      "Error while processing https://www.jems.com/news/biden-backs-covid-vaccine-mandate-for-firefighters-as-controversy-roils-departments/\n"
     ]
    },
    {
     "name": "stderr",
     "output_type": "stream",
     "text": [
      "connection/timeout error: https://www.philstar.com/headlines/2021/10/14/2133971/concepcion-pushes-mandatory-vaccination HTTPSConnectionPool(host='www.philstar.com', port=443): Read timed out. (read timeout=5)\n"
     ]
    },
    {
     "name": "stdout",
     "output_type": "stream",
     "text": [
      "Error while processing https://www.philstar.com/headlines/2021/10/14/2133971/concepcion-pushes-mandatory-vaccination\n"
     ]
    },
    {
     "name": "stderr",
     "output_type": "stream",
     "text": [
      "connection/timeout error: https://www.washingtonpost.com/world/2022/01/30/coronavirus-anti-vaccine-germany/ HTTPSConnectionPool(host='www.washingtonpost.com', port=443): Read timed out. (read timeout=5)\n"
     ]
    },
    {
     "name": "stdout",
     "output_type": "stream",
     "text": [
      "Error while processing https://www.washingtonpost.com/world/2022/01/30/coronavirus-anti-vaccine-germany/\n"
     ]
    },
    {
     "name": "stderr",
     "output_type": "stream",
     "text": [
      "connection/timeout error: https://www.washingtonpost.com/politics/2022/03/06/macron-is-likely-win-french-presidency-part-thanks-putin/ HTTPSConnectionPool(host='www.washingtonpost.com', port=443): Read timed out. (read timeout=5)\n"
     ]
    },
    {
     "name": "stdout",
     "output_type": "stream",
     "text": [
      "Error while processing https://www.washingtonpost.com/politics/2022/03/06/macron-is-likely-win-french-presidency-part-thanks-putin/\n"
     ]
    },
    {
     "name": "stderr",
     "output_type": "stream",
     "text": [
      "not a 200 response: 403\n"
     ]
    },
    {
     "name": "stdout",
     "output_type": "stream",
     "text": [
      "Error while processing https://commonslibrary.parliament.uk/research-briefings/cdp-2022-0059/\n",
      "92.91%\n"
     ]
    },
    {
     "name": "stderr",
     "output_type": "stream",
     "text": [
      "connection/timeout error: https://www.washingtonpost.com/nation/2021/11/12/covid-delta-variant-live-updates/ HTTPSConnectionPool(host='www.washingtonpost.com', port=443): Read timed out. (read timeout=5)\n"
     ]
    },
    {
     "name": "stdout",
     "output_type": "stream",
     "text": [
      "Error while processing https://www.washingtonpost.com/nation/2021/11/12/covid-delta-variant-live-updates/\n"
     ]
    },
    {
     "name": "stderr",
     "output_type": "stream",
     "text": [
      "encoding error: utf8 / UTF-8\n",
      "not a 200 response: 503\n"
     ]
    },
    {
     "name": "stdout",
     "output_type": "stream",
     "text": [
      "Error while processing https://onlinelibrary.wiley.com/doi/10.1111/phn.12950\n",
      "93.33%\n"
     ]
    },
    {
     "name": "stderr",
     "output_type": "stream",
     "text": [
      "not a 200 response: 403\n"
     ]
    },
    {
     "name": "stdout",
     "output_type": "stream",
     "text": [
      "Error while processing https://www.king5.com/article/news/health/coronavirus/vaccine/washingtons-covid-vaccine-mandate-strictest-country-who-is-exempt/281-d0379a07-ea74-4a3e-a856-b8cbf8132a96\n"
     ]
    },
    {
     "name": "stderr",
     "output_type": "stream",
     "text": [
      "connection/timeout error: https://www.washingtonpost.com/education/2021/08/04/professor-lawsuit-georgemason-vaccine-mandate/ HTTPSConnectionPool(host='www.washingtonpost.com', port=443): Read timed out. (read timeout=5)\n"
     ]
    },
    {
     "name": "stdout",
     "output_type": "stream",
     "text": [
      "Error while processing https://www.washingtonpost.com/education/2021/08/04/professor-lawsuit-georgemason-vaccine-mandate/\n"
     ]
    },
    {
     "name": "stderr",
     "output_type": "stream",
     "text": [
      "connection/timeout error: https://www.washingtonpost.com/opinions/2021/08/02/vaccine-mandates-offer-cause-for-hope/ HTTPSConnectionPool(host='www.washingtonpost.com', port=443): Read timed out. (read timeout=5)\n"
     ]
    },
    {
     "name": "stdout",
     "output_type": "stream",
     "text": [
      "Error while processing https://www.washingtonpost.com/opinions/2021/08/02/vaccine-mandates-offer-cause-for-hope/\n"
     ]
    },
    {
     "name": "stderr",
     "output_type": "stream",
     "text": [
      "not a 200 response: 403\n"
     ]
    },
    {
     "name": "stdout",
     "output_type": "stream",
     "text": [
      "Error while processing https://www.wcnc.com/article/news/verify/national-verify/vaccine-mandates-us-military-history/536-d94443b1-9a0d-4f98-8376-cf60fa66734c\n"
     ]
    },
    {
     "name": "stderr",
     "output_type": "stream",
     "text": [
      "connection/timeout error: https://www.washingtonpost.com/nation/2021/08/06/cnn-vaccination-reopening-mandate/ HTTPSConnectionPool(host='www.washingtonpost.com', port=443): Read timed out. (read timeout=5)\n"
     ]
    },
    {
     "name": "stdout",
     "output_type": "stream",
     "text": [
      "Error while processing https://www.washingtonpost.com/nation/2021/08/06/cnn-vaccination-reopening-mandate/\n"
     ]
    },
    {
     "name": "stderr",
     "output_type": "stream",
     "text": [
      "not a 200 response: 451\n"
     ]
    },
    {
     "name": "stdout",
     "output_type": "stream",
     "text": [
      "Error while processing https://www.daily-journal.com/news/local/amita-places-pause-on-vax-mandate/article_caa9ec64-5f65-11ec-9d77-771e2423e372.html\n"
     ]
    },
    {
     "name": "stderr",
     "output_type": "stream",
     "text": [
      "connection/timeout error: https://cyprus-mail.com/2021/12/25/covid-taints-christmas-for-second-year/ HTTPSConnectionPool(host='cyprus-mail.com', port=443): Read timed out. (read timeout=5)\n"
     ]
    },
    {
     "name": "stdout",
     "output_type": "stream",
     "text": [
      "Error while processing https://cyprus-mail.com/2021/12/25/covid-taints-christmas-for-second-year/\n"
     ]
    },
    {
     "name": "stderr",
     "output_type": "stream",
     "text": [
      "not a 200 response: 451\n"
     ]
    },
    {
     "name": "stdout",
     "output_type": "stream",
     "text": [
      "Error while processing https://www.idahopress.com/news/local/idaho-played-role-in-stalling-three-proposed-federal-vaccine-mandates/article_55496f64-a77e-5308-b10c-e249930cef34.html\n",
      "93.75%\n"
     ]
    },
    {
     "name": "stderr",
     "output_type": "stream",
     "text": [
      "not a 200 response: 451\n"
     ]
    },
    {
     "name": "stdout",
     "output_type": "stream",
     "text": [
      "Error while processing https://www.nogalesinternational.com/news/businesses-say-they-re-ready-for-next-border-vaccine-mandate/article_413926ce-641b-11ec-a26b-27fc1942b0f0.html\n"
     ]
    },
    {
     "name": "stderr",
     "output_type": "stream",
     "text": [
      "connection/timeout error: https://www.usnews.com/news/health-news/articles/2021-11-15/racial-disparities-in-kids-vaccinations-are-hard-to-track HTTPSConnectionPool(host='www.usnews.com', port=443): Read timed out. (read timeout=5)\n"
     ]
    },
    {
     "name": "stdout",
     "output_type": "stream",
     "text": [
      "Error while processing https://www.usnews.com/news/health-news/articles/2021-11-15/racial-disparities-in-kids-vaccinations-are-hard-to-track\n"
     ]
    },
    {
     "name": "stderr",
     "output_type": "stream",
     "text": [
      "connection/timeout error: https://www.usnews.com/news/health-news/articles/2021-11-03/for-vaccine-hesitant-veterans-side-effects-a-top-concern HTTPSConnectionPool(host='www.usnews.com', port=443): Read timed out. (read timeout=5)\n"
     ]
    },
    {
     "name": "stdout",
     "output_type": "stream",
     "text": [
      "Error while processing https://www.usnews.com/news/health-news/articles/2021-11-03/for-vaccine-hesitant-veterans-side-effects-a-top-concern\n"
     ]
    },
    {
     "name": "stderr",
     "output_type": "stream",
     "text": [
      "connection/timeout error: https://www.usnews.com/news/us/articles/2021-11-16/ollie-the-dog-helps-us-kids-with-vaccine-hesitancy-one-jab-at-a-time HTTPSConnectionPool(host='www.usnews.com', port=443): Read timed out. (read timeout=5)\n"
     ]
    },
    {
     "name": "stdout",
     "output_type": "stream",
     "text": [
      "Error while processing https://www.usnews.com/news/us/articles/2021-11-16/ollie-the-dog-helps-us-kids-with-vaccine-hesitancy-one-jab-at-a-time\n"
     ]
    },
    {
     "name": "stderr",
     "output_type": "stream",
     "text": [
      "connection/timeout error: https://www.washingtonpost.com/national-security/2021/11/21/vacine-mandate-marine-corps/ HTTPSConnectionPool(host='www.washingtonpost.com', port=443): Read timed out. (read timeout=5)\n"
     ]
    },
    {
     "name": "stdout",
     "output_type": "stream",
     "text": [
      "Error while processing https://www.washingtonpost.com/national-security/2021/11/21/vacine-mandate-marine-corps/\n"
     ]
    },
    {
     "name": "stderr",
     "output_type": "stream",
     "text": [
      "connection/timeout error: https://www.usnews.com/news/health-news/articles/2021-11-02/weve-been-here-before-how-polio-vaccine-rollout-saved-millions-of-young-lives HTTPSConnectionPool(host='www.usnews.com', port=443): Read timed out. (read timeout=5)\n"
     ]
    },
    {
     "name": "stdout",
     "output_type": "stream",
     "text": [
      "Error while processing https://www.usnews.com/news/health-news/articles/2021-11-02/weve-been-here-before-how-polio-vaccine-rollout-saved-millions-of-young-lives\n"
     ]
    },
    {
     "name": "stderr",
     "output_type": "stream",
     "text": [
      "connection/timeout error: https://www.washingtonpost.com/opinions/2021/11/07/were-losing-ground-against-diseases-weve-already-defeated/ HTTPSConnectionPool(host='www.washingtonpost.com', port=443): Read timed out. (read timeout=5)\n"
     ]
    },
    {
     "name": "stdout",
     "output_type": "stream",
     "text": [
      "Error while processing https://www.washingtonpost.com/opinions/2021/11/07/were-losing-ground-against-diseases-weve-already-defeated/\n"
     ]
    },
    {
     "name": "stderr",
     "output_type": "stream",
     "text": [
      "connection/timeout error: https://www.washingtonpost.com/health/2021/11/10/pediatricians-childrens-coronavirus-vaccines/ HTTPSConnectionPool(host='www.washingtonpost.com', port=443): Read timed out. (read timeout=5)\n"
     ]
    },
    {
     "name": "stdout",
     "output_type": "stream",
     "text": [
      "Error while processing https://www.washingtonpost.com/health/2021/11/10/pediatricians-childrens-coronavirus-vaccines/\n"
     ]
    },
    {
     "name": "stderr",
     "output_type": "stream",
     "text": [
      "connection/timeout error: https://www.washingtonpost.com/opinions/2021/11/11/polio-isnt-serious-threat-most-children-we-still-require-vaccines-it-anyway/ HTTPSConnectionPool(host='www.washingtonpost.com', port=443): Read timed out. (read timeout=5)\n"
     ]
    },
    {
     "name": "stdout",
     "output_type": "stream",
     "text": [
      "Error while processing https://www.washingtonpost.com/opinions/2021/11/11/polio-isnt-serious-threat-most-children-we-still-require-vaccines-it-anyway/\n"
     ]
    },
    {
     "name": "stderr",
     "output_type": "stream",
     "text": [
      "not a 200 response: 403\n"
     ]
    },
    {
     "name": "stdout",
     "output_type": "stream",
     "text": [
      "Error while processing https://www.wkyc.com/article/news/health/coronavirus/vaccine/misinformation-thrives-spanish-speaking-vaccination-lorain-health-workers-fighting-back/95-b2d98995-0cfe-4639-93c2-c8d0e9a210bf\n"
     ]
    },
    {
     "name": "stderr",
     "output_type": "stream",
     "text": [
      "connection/timeout error: https://pamplinmedia.com/pt/9-news/516499-412731-rising-delta-variant-tosses-wrench-into-states-covid-fight HTTPSConnectionPool(host='pamplinmedia.com', port=443): Read timed out. (read timeout=5)\n"
     ]
    },
    {
     "name": "stdout",
     "output_type": "stream",
     "text": [
      "Error while processing https://pamplinmedia.com/pt/9-news/516499-412731-rising-delta-variant-tosses-wrench-into-states-covid-fight\n"
     ]
    },
    {
     "name": "stderr",
     "output_type": "stream",
     "text": [
      "connection/timeout error: https://www.seattletimes.com/seattle-news/health/coronavirus-daily-news-updates-july-5-what-to-know-today-about-covid-19-in-the-seattle-area-washington-state-and-the-world-2/ HTTPSConnectionPool(host='www.seattletimes.com', port=443): Read timed out. (read timeout=5)\n"
     ]
    },
    {
     "name": "stdout",
     "output_type": "stream",
     "text": [
      "Error while processing https://www.seattletimes.com/seattle-news/health/coronavirus-daily-news-updates-july-5-what-to-know-today-about-covid-19-in-the-seattle-area-washington-state-and-the-world-2/\n",
      "94.16%\n"
     ]
    },
    {
     "name": "stderr",
     "output_type": "stream",
     "text": [
      "connection/timeout error: https://www.washingtonpost.com/politics/2021/07/07/daily-202-biden-pushes-ahead-with-door-to-door-vaccine-drive/ HTTPSConnectionPool(host='www.washingtonpost.com', port=443): Read timed out. (read timeout=5)\n"
     ]
    },
    {
     "name": "stdout",
     "output_type": "stream",
     "text": [
      "Error while processing https://www.washingtonpost.com/politics/2021/07/07/daily-202-biden-pushes-ahead-with-door-to-door-vaccine-drive/\n"
     ]
    },
    {
     "name": "stderr",
     "output_type": "stream",
     "text": [
      "connection/timeout error: https://www.seattletimes.com/seattle-news/health/coronavirus-daily-news-updates-july-23-what-to-know-today-about-covid-19-in-the-seattle-area-washington-state-and-the-world-2/ HTTPSConnectionPool(host='www.seattletimes.com', port=443): Read timed out. (read timeout=5)\n"
     ]
    },
    {
     "name": "stdout",
     "output_type": "stream",
     "text": [
      "Error while processing https://www.seattletimes.com/seattle-news/health/coronavirus-daily-news-updates-july-23-what-to-know-today-about-covid-19-in-the-seattle-area-washington-state-and-the-world-2/\n"
     ]
    },
    {
     "name": "stderr",
     "output_type": "stream",
     "text": [
      "not a 200 response: 451\n"
     ]
    },
    {
     "name": "stdout",
     "output_type": "stream",
     "text": [
      "Error while processing https://www.krqe.com/health/coronavirus/vaccine/us-is-split-between-the-vaccinated-and-unvaccinated-and-deaths-and-hospitalizations-reflect-this-divide/\n"
     ]
    },
    {
     "name": "stderr",
     "output_type": "stream",
     "text": [
      "not a 200 response: 503\n"
     ]
    },
    {
     "name": "stdout",
     "output_type": "stream",
     "text": [
      "Error while processing https://www.pnas.org/doi/10.1073/pnas.2109543118\n"
     ]
    },
    {
     "name": "stderr",
     "output_type": "stream",
     "text": [
      "connection/timeout error: https://www.washingtonpost.com/world/interactive/2021/covid-pandemic-divided-world/ HTTPSConnectionPool(host='www.washingtonpost.com', port=443): Read timed out. (read timeout=5)\n"
     ]
    },
    {
     "name": "stdout",
     "output_type": "stream",
     "text": [
      "Error while processing https://www.washingtonpost.com/world/interactive/2021/covid-pandemic-divided-world/\n"
     ]
    },
    {
     "name": "stderr",
     "output_type": "stream",
     "text": [
      "connection/timeout error: https://www.washingtonpost.com/politics/2021/08/25/virus-overlap-politics-vaccination/ HTTPSConnectionPool(host='www.washingtonpost.com', port=443): Read timed out. (read timeout=5)\n"
     ]
    },
    {
     "name": "stdout",
     "output_type": "stream",
     "text": [
      "Error while processing https://www.washingtonpost.com/politics/2021/08/25/virus-overlap-politics-vaccination/\n"
     ]
    },
    {
     "name": "stderr",
     "output_type": "stream",
     "text": [
      "connection/timeout error: https://www.usnews.com/news/best-countries/articles/2021-08-25/more-equitable-covid-19-vaccination-needed-to-help-africa HTTPSConnectionPool(host='www.usnews.com', port=443): Read timed out. (read timeout=5)\n"
     ]
    },
    {
     "name": "stdout",
     "output_type": "stream",
     "text": [
      "Error while processing https://www.usnews.com/news/best-countries/articles/2021-08-25/more-equitable-covid-19-vaccination-needed-to-help-africa\n"
     ]
    },
    {
     "name": "stderr",
     "output_type": "stream",
     "text": [
      "not a 200 response: 451\n"
     ]
    },
    {
     "name": "stdout",
     "output_type": "stream",
     "text": [
      "Error while processing https://lancasteronline.com/news/health/8-months-into-vaccination-campaign-upmc-still-prefers-educating-reluctant-staff-on-efficacy-of-covid/article_86794a72-fa1f-11eb-acb6-dbdf3b8d82c2.html\n"
     ]
    },
    {
     "name": "stderr",
     "output_type": "stream",
     "text": [
      "not a 200 response: 403\n"
     ]
    },
    {
     "name": "stdout",
     "output_type": "stream",
     "text": [
      "Error while processing https://www.mtdemocrat.com/news/covid-19-vaccinations-in-schools-delayed/\n"
     ]
    },
    {
     "name": "stderr",
     "output_type": "stream",
     "text": [
      "connection/timeout error: https://www.seattletimes.com/seattle-news/health/coronavirus-daily-news-updates-april-4-what-to-know-today-about-covid-19-in-the-seattle-area-washington-state-and-the-world-2/ HTTPSConnectionPool(host='www.seattletimes.com', port=443): Read timed out. (read timeout=5)\n"
     ]
    },
    {
     "name": "stdout",
     "output_type": "stream",
     "text": [
      "Error while processing https://www.seattletimes.com/seattle-news/health/coronavirus-daily-news-updates-april-4-what-to-know-today-about-covid-19-in-the-seattle-area-washington-state-and-the-world-2/\n",
      "94.58%\n"
     ]
    },
    {
     "name": "stderr",
     "output_type": "stream",
     "text": [
      "not a 200 response: 451\n"
     ]
    },
    {
     "name": "stdout",
     "output_type": "stream",
     "text": [
      "Error while processing https://www.kitv.com/news/coronavirus/30-covid-cases-linked-to-concert-at-honolulu-s-the-republik-nightclub-attendees-urged-to/article_79d66d6a-6110-11ec-8bce-878b3c456c3a.html\n",
      "95.0%\n"
     ]
    },
    {
     "name": "stderr",
     "output_type": "stream",
     "text": [
      "connection/timeout error: https://www.republicworld.com/sports-news/other-sports/who-is-marko-grilc-how-did-the-38-yr-old-slovenian-die-in-snowboarding-accident.html HTTPSConnectionPool(host='www.republicworld.com', port=443): Read timed out. (read timeout=5)\n"
     ]
    },
    {
     "name": "stdout",
     "output_type": "stream",
     "text": [
      "Error while processing https://www.republicworld.com/sports-news/other-sports/who-is-marko-grilc-how-did-the-38-yr-old-slovenian-die-in-snowboarding-accident.html\n"
     ]
    },
    {
     "name": "stderr",
     "output_type": "stream",
     "text": [
      "connection/timeout error: https://www.washingtonpost.com/business/2021/11/19/federal-vaccine-mandates/ HTTPSConnectionPool(host='www.washingtonpost.com', port=443): Read timed out. (read timeout=5)\n"
     ]
    },
    {
     "name": "stdout",
     "output_type": "stream",
     "text": [
      "Error while processing https://www.washingtonpost.com/business/2021/11/19/federal-vaccine-mandates/\n"
     ]
    },
    {
     "name": "stderr",
     "output_type": "stream",
     "text": [
      "connection/timeout error: https://www.natlawreview.com/article/us-federal-labor-viewpoints-week-november-1-2021 HTTPSConnectionPool(host='www.natlawreview.com', port=443): Read timed out. (read timeout=5)\n"
     ]
    },
    {
     "name": "stdout",
     "output_type": "stream",
     "text": [
      "Error while processing https://www.natlawreview.com/article/us-federal-labor-viewpoints-week-november-1-2021\n"
     ]
    },
    {
     "name": "stderr",
     "output_type": "stream",
     "text": [
      "connection/timeout error: https://www.washingtonpost.com/politics/2021/11/08/most-schools-arent-going-coronavirus-vaccine-mandates-yet/ HTTPSConnectionPool(host='www.washingtonpost.com', port=443): Read timed out. (read timeout=5)\n"
     ]
    },
    {
     "name": "stdout",
     "output_type": "stream",
     "text": [
      "Error while processing https://www.washingtonpost.com/politics/2021/11/08/most-schools-arent-going-coronavirus-vaccine-mandates-yet/\n"
     ]
    },
    {
     "name": "stderr",
     "output_type": "stream",
     "text": [
      "connection/timeout error: https://www.usnews.com/news/health-news/articles/2021-11-21/gop-embraces-natural-immunity-as-substitute-for-vaccines HTTPSConnectionPool(host='www.usnews.com', port=443): Read timed out. (read timeout=5)\n"
     ]
    },
    {
     "name": "stdout",
     "output_type": "stream",
     "text": [
      "Error while processing https://www.usnews.com/news/health-news/articles/2021-11-21/gop-embraces-natural-immunity-as-substitute-for-vaccines\n",
      "95.41%\n"
     ]
    },
    {
     "name": "stderr",
     "output_type": "stream",
     "text": [
      "connection/timeout error: https://www.kansascity.com/news/coronavirus/article258647213.html HTTPSConnectionPool(host='www.kansascity.com', port=443): Read timed out. (read timeout=5)\n"
     ]
    },
    {
     "name": "stdout",
     "output_type": "stream",
     "text": [
      "Error while processing https://www.kansascity.com/news/coronavirus/article258647213.html\n"
     ]
    },
    {
     "name": "stderr",
     "output_type": "stream",
     "text": [
      "connection/timeout error: https://www.kqed.org/news/11904834/covid-sick-pay-in-california-how-to-claim-this-new-paid-leave HTTPSConnectionPool(host='www.kqed.org', port=443): Read timed out. (read timeout=5)\n"
     ]
    },
    {
     "name": "stdout",
     "output_type": "stream",
     "text": [
      "Error while processing https://www.kqed.org/news/11904834/covid-sick-pay-in-california-how-to-claim-this-new-paid-leave\n"
     ]
    },
    {
     "name": "stderr",
     "output_type": "stream",
     "text": [
      "not a 200 response: 451\n"
     ]
    },
    {
     "name": "stdout",
     "output_type": "stream",
     "text": [
      "Error while processing https://www.cadillacnews.com/news/will-omicron-be-the-last-covid-wave-msu-researcher-says-1918-flu-pandemic-offers-clues/article_2c075564-890a-11ec-a901-f3298b924e8c.html\n"
     ]
    },
    {
     "name": "stderr",
     "output_type": "stream",
     "text": [
      "encoding error: UTF-8 / UTF-8\n",
      "connection/timeout error: https://www.financialexpress.com/lifestyle/health/coronavirus-omicron-india-live-updates-karnataka-detects-five-more-cases-of-omicron-variant-india-records-6563-new-cases-of-covid-19-132-deaths/2383853/ HTTPSConnectionPool(host='www.financialexpress.com', port=443): Read timed out. (read timeout=5)\n"
     ]
    },
    {
     "name": "stdout",
     "output_type": "stream",
     "text": [
      "Error while processing https://www.financialexpress.com/lifestyle/health/coronavirus-omicron-india-live-updates-karnataka-detects-five-more-cases-of-omicron-variant-india-records-6563-new-cases-of-covid-19-132-deaths/2383853/\n"
     ]
    },
    {
     "name": "stderr",
     "output_type": "stream",
     "text": [
      "connection/timeout error: https://www.washingtonpost.com/travel/2021/09/17/covid-spread-on-planes-testing-study/ HTTPSConnectionPool(host='www.washingtonpost.com', port=443): Read timed out. (read timeout=5)\n"
     ]
    },
    {
     "name": "stdout",
     "output_type": "stream",
     "text": [
      "Error while processing https://www.washingtonpost.com/travel/2021/09/17/covid-spread-on-planes-testing-study/\n"
     ]
    },
    {
     "name": "stderr",
     "output_type": "stream",
     "text": [
      "connection/timeout error: https://www.washingtonpost.com/travel/2021/09/13/fauci-vaccine-mandate-air-travel/ HTTPSConnectionPool(host='www.washingtonpost.com', port=443): Read timed out. (read timeout=5)\n"
     ]
    },
    {
     "name": "stdout",
     "output_type": "stream",
     "text": [
      "Error while processing https://www.washingtonpost.com/travel/2021/09/13/fauci-vaccine-mandate-air-travel/\n",
      "95.83%\n"
     ]
    },
    {
     "name": "stderr",
     "output_type": "stream",
     "text": [
      "not a 200 response: 503\n"
     ]
    },
    {
     "name": "stdout",
     "output_type": "stream",
     "text": [
      "Error while processing https://www.thelancet.com/journals/lanonc/article/PIIS1470-2045(22)00273-X/fulltext\n"
     ]
    },
    {
     "name": "stderr",
     "output_type": "stream",
     "text": [
      "not a 200 response: 451\n"
     ]
    },
    {
     "name": "stdout",
     "output_type": "stream",
     "text": [
      "Error while processing https://www.wpri.com/health/coronavirus/december-15-2021-ri-coronavirus-update/\n"
     ]
    },
    {
     "name": "stderr",
     "output_type": "stream",
     "text": [
      "connection/timeout error: https://www.usnews.com/news/health-news/articles/2022-03-03/study-gap-widens-between-urban-and-rural-vaccination-rates HTTPSConnectionPool(host='www.usnews.com', port=443): Read timed out. (read timeout=5)\n"
     ]
    },
    {
     "name": "stdout",
     "output_type": "stream",
     "text": [
      "Error while processing https://www.usnews.com/news/health-news/articles/2022-03-03/study-gap-widens-between-urban-and-rural-vaccination-rates\n"
     ]
    },
    {
     "name": "stderr",
     "output_type": "stream",
     "text": [
      "connection/timeout error: https://www.washingtonpost.com/health/2022/03/25/covid-boosters-vaccines/ HTTPSConnectionPool(host='www.washingtonpost.com', port=443): Read timed out. (read timeout=5)\n"
     ]
    },
    {
     "name": "stdout",
     "output_type": "stream",
     "text": [
      "Error while processing https://www.washingtonpost.com/health/2022/03/25/covid-boosters-vaccines/\n"
     ]
    },
    {
     "name": "stderr",
     "output_type": "stream",
     "text": [
      "connection/timeout error: https://www.usnews.com/news/health-news/articles/2022-02-28/primary-care-doctors-can-be-key-to-higher-covid-vaccination-rates HTTPSConnectionPool(host='www.usnews.com', port=443): Read timed out. (read timeout=5)\n"
     ]
    },
    {
     "name": "stdout",
     "output_type": "stream",
     "text": [
      "Error while processing https://www.usnews.com/news/health-news/articles/2022-02-28/primary-care-doctors-can-be-key-to-higher-covid-vaccination-rates\n"
     ]
    },
    {
     "name": "stderr",
     "output_type": "stream",
     "text": [
      "not a 200 response: 403\n"
     ]
    },
    {
     "name": "stdout",
     "output_type": "stream",
     "text": [
      "Error while processing https://patientengagementhit.com/news/rural-urban-disparity-in-covid-19-vaccination-status-widens\n"
     ]
    },
    {
     "name": "stderr",
     "output_type": "stream",
     "text": [
      "connection/timeout error: https://www.usnews.com/news/health-news/articles/2022-03-10/2-years-later-where-does-the-covid-19-pandemic-stand HTTPSConnectionPool(host='www.usnews.com', port=443): Read timed out. (read timeout=5)\n"
     ]
    },
    {
     "name": "stdout",
     "output_type": "stream",
     "text": [
      "Error while processing https://www.usnews.com/news/health-news/articles/2022-03-10/2-years-later-where-does-the-covid-19-pandemic-stand\n"
     ]
    },
    {
     "name": "stderr",
     "output_type": "stream",
     "text": [
      "not a 200 response: 403\n"
     ]
    },
    {
     "name": "stdout",
     "output_type": "stream",
     "text": [
      "Error while processing https://www.azmirror.com/2022/03/24/after-nearly-2-million-covid-19-cases-in-arizona-officials-are-cautiously-optimistic/\n"
     ]
    },
    {
     "name": "stderr",
     "output_type": "stream",
     "text": [
      "not a 200 response: 403\n"
     ]
    },
    {
     "name": "stdout",
     "output_type": "stream",
     "text": [
      "Error while processing https://www.devex.com/news/sponsored/opinion-covid-19-vaccination-and-pregnancy-an-afterthought-102682\n"
     ]
    },
    {
     "name": "stderr",
     "output_type": "stream",
     "text": [
      "not a 200 response: 503\n"
     ]
    },
    {
     "name": "stdout",
     "output_type": "stream",
     "text": [
      "Error while processing https://www.thelancet.com/journals/lanwpc/article/PIIS2666-6065(22)00051-7/fulltext\n",
      "96.25%\n"
     ]
    },
    {
     "name": "stderr",
     "output_type": "stream",
     "text": [
      "connection/timeout error: https://www.washingtonpost.com/travel/2022/06/01/italy-lifts-pandemic-travel-restrictions/ HTTPSConnectionPool(host='www.washingtonpost.com', port=443): Read timed out. (read timeout=5)\n"
     ]
    },
    {
     "name": "stdout",
     "output_type": "stream",
     "text": [
      "Error while processing https://www.washingtonpost.com/travel/2022/06/01/italy-lifts-pandemic-travel-restrictions/\n"
     ]
    },
    {
     "name": "stderr",
     "output_type": "stream",
     "text": [
      "not a 200 response: 451\n"
     ]
    },
    {
     "name": "stdout",
     "output_type": "stream",
     "text": [
      "Error while processing https://pix11.com/news/coronavirus/ny-covid-latest-tuesday-february-22-2022/\n"
     ]
    },
    {
     "name": "stderr",
     "output_type": "stream",
     "text": [
      "connection/timeout error: https://www.seattletimes.com/seattle-news/health/coronavirus-daily-news-updates-february-12-what-to-know-today-about-covid-19-in-the-seattle-area-washington-state-and-the-world-2/ HTTPSConnectionPool(host='www.seattletimes.com', port=443): Read timed out. (read timeout=5)\n"
     ]
    },
    {
     "name": "stdout",
     "output_type": "stream",
     "text": [
      "Error while processing https://www.seattletimes.com/seattle-news/health/coronavirus-daily-news-updates-february-12-what-to-know-today-about-covid-19-in-the-seattle-area-washington-state-and-the-world-2/\n"
     ]
    },
    {
     "name": "stderr",
     "output_type": "stream",
     "text": [
      "not a 200 response: 451\n"
     ]
    },
    {
     "name": "stdout",
     "output_type": "stream",
     "text": [
      "Error while processing https://pix11.com/news/coronavirus/nj-covid-latest-monday-january-31-2022/\n"
     ]
    },
    {
     "name": "stderr",
     "output_type": "stream",
     "text": [
      "connection/timeout error: https://www.sacbee.com/news/politics-government/capitol-alert/article243381501.html HTTPSConnectionPool(host='www.sacbee.com', port=443): Read timed out. (read timeout=5)\n"
     ]
    },
    {
     "name": "stdout",
     "output_type": "stream",
     "text": [
      "Error while processing https://www.sacbee.com/news/politics-government/capitol-alert/article243381501.html\n"
     ]
    },
    {
     "name": "stderr",
     "output_type": "stream",
     "text": [
      "not a 200 response: 403\n"
     ]
    },
    {
     "name": "stdout",
     "output_type": "stream",
     "text": [
      "Error while processing https://pink.pharmaintelligence.informa.com/PS146040/Coronavirus-Notebook-New-EU-Body-To-Advise-On-Future-Pandemic-Actions-Valneva-Awaits-EMA-Verdict-On-Vaccine-Candidate\n",
      "96.66%\n"
     ]
    },
    {
     "name": "stderr",
     "output_type": "stream",
     "text": [
      "connection/timeout error: https://theboar.org/2021/06/russia-to-start-vaccinating-animals-for-covid/ HTTPSConnectionPool(host='theboar.org', port=443): Read timed out. (read timeout=5)\n"
     ]
    },
    {
     "name": "stdout",
     "output_type": "stream",
     "text": [
      "Error while processing https://theboar.org/2021/06/russia-to-start-vaccinating-animals-for-covid/\n"
     ]
    },
    {
     "name": "stderr",
     "output_type": "stream",
     "text": [
      "connection/timeout error: https://www.usnews.com/news/world/articles/2022-04-04/why-putin-faces-more-nato-in-the-arctic-after-ukraine-invasion HTTPSConnectionPool(host='www.usnews.com', port=443): Read timed out. (read timeout=5)\n"
     ]
    },
    {
     "name": "stdout",
     "output_type": "stream",
     "text": [
      "Error while processing https://www.usnews.com/news/world/articles/2022-04-04/why-putin-faces-more-nato-in-the-arctic-after-ukraine-invasion\n"
     ]
    },
    {
     "name": "stderr",
     "output_type": "stream",
     "text": [
      "not a 200 response: 503\n"
     ]
    },
    {
     "name": "stdout",
     "output_type": "stream",
     "text": [
      "Error while processing https://onlinelibrary.wiley.com/doi/abs/10.1111/jep.13588\n"
     ]
    },
    {
     "name": "stderr",
     "output_type": "stream",
     "text": [
      "not a 200 response: 403\n"
     ]
    },
    {
     "name": "stdout",
     "output_type": "stream",
     "text": [
      "Error while processing https://13wham.com/news/local/some-parents-eager-others-wary-to-get-children-vaccinated-against-covid\n"
     ]
    },
    {
     "name": "stderr",
     "output_type": "stream",
     "text": [
      "connection/timeout error: https://www.usnews.com/news/health-news/articles/2021-06-14/the-latest-germany-records-fewest-virus-cases-in-9-months HTTPSConnectionPool(host='www.usnews.com', port=443): Read timed out. (read timeout=5)\n"
     ]
    },
    {
     "name": "stdout",
     "output_type": "stream",
     "text": [
      "Error while processing https://www.usnews.com/news/health-news/articles/2021-06-14/the-latest-germany-records-fewest-virus-cases-in-9-months\n"
     ]
    },
    {
     "name": "stderr",
     "output_type": "stream",
     "text": [
      "not a 200 response: 451\n"
     ]
    },
    {
     "name": "stdout",
     "output_type": "stream",
     "text": [
      "Error while processing https://www.rochesterfirst.com/coronavirus/could-you-lose-unemployment-benefits-if-you-get-fired-for-not-getting-vaccinated-experts-say-yes/\n"
     ]
    },
    {
     "name": "stderr",
     "output_type": "stream",
     "text": [
      "not a 200 response: 451\n"
     ]
    },
    {
     "name": "stdout",
     "output_type": "stream",
     "text": [
      "Error while processing https://pix11.com/news/coronavirus/ny-covid-latest-wednesday-december-29-2021/\n"
     ]
    },
    {
     "name": "stderr",
     "output_type": "stream",
     "text": [
      "not a 200 response: 451\n"
     ]
    },
    {
     "name": "stdout",
     "output_type": "stream",
     "text": [
      "Error while processing https://pix11.com/news/coronavirus/ny-covid-latest-saturday-december-18-2021/\n"
     ]
    },
    {
     "name": "stderr",
     "output_type": "stream",
     "text": [
      "not a 200 response: 451\n"
     ]
    },
    {
     "name": "stdout",
     "output_type": "stream",
     "text": [
      "Error while processing https://www.8newsnow.com/news/fake-vaccine-cardmakers-sellers-facing-federal-charges/\n",
      "97.08%\n"
     ]
    },
    {
     "name": "stderr",
     "output_type": "stream",
     "text": [
      "not a 200 response: 503\n"
     ]
    },
    {
     "name": "stdout",
     "output_type": "stream",
     "text": [
      "Error while processing https://www.capradio.org/articles/2021/12/31/california-coronavirus-updates-december-2021/\n"
     ]
    },
    {
     "name": "stderr",
     "output_type": "stream",
     "text": [
      "not a 200 response: 503\n"
     ]
    },
    {
     "name": "stdout",
     "output_type": "stream",
     "text": [
      "Error while processing https://www.pendercountync.gov/2021/07/north-carolina-to-require-vaccine-verification-for-state-employees-urges-other-government-agencies-and-private-employers-to-do-the-same/\n"
     ]
    },
    {
     "name": "stderr",
     "output_type": "stream",
     "text": [
      "not a 200 response: 451\n"
     ]
    },
    {
     "name": "stdout",
     "output_type": "stream",
     "text": [
      "Error while processing https://www.wpri.com/news/education/ri-first-in-the-country-where-all-colleges-universities-require-covid-vaccine-for-students/\n"
     ]
    },
    {
     "name": "stderr",
     "output_type": "stream",
     "text": [
      "not a 200 response: 503\n"
     ]
    },
    {
     "name": "stdout",
     "output_type": "stream",
     "text": [
      "Error while processing https://www.capradio.org/articles/2020/12/17/history-of-medical-testing-has-left-many-african-americans-hesitant-about-the-new-covid-19-vaccine/\n"
     ]
    },
    {
     "name": "stderr",
     "output_type": "stream",
     "text": [
      "not a 200 response: 403\n"
     ]
    },
    {
     "name": "stdout",
     "output_type": "stream",
     "text": [
      "Error while processing https://www.wusa9.com/article/news/health/coronavirus/vaccine-distribution-some-health-care-workers-hesitant-to-use/65-184201ca-0364-4968-badd-5993823a599b\n"
     ]
    },
    {
     "name": "stderr",
     "output_type": "stream",
     "text": [
      "connection/timeout error: https://www.washingtonpost.com/nation/2020/12/14/first-covid-vaccines-new-york/ HTTPSConnectionPool(host='www.washingtonpost.com', port=443): Read timed out. (read timeout=5)\n"
     ]
    },
    {
     "name": "stdout",
     "output_type": "stream",
     "text": [
      "Error while processing https://www.washingtonpost.com/nation/2020/12/14/first-covid-vaccines-new-york/\n"
     ]
    },
    {
     "name": "stderr",
     "output_type": "stream",
     "text": [
      "not a 200 response: 403\n"
     ]
    },
    {
     "name": "stdout",
     "output_type": "stream",
     "text": [
      "Error while processing https://patientengagementhit.com/news/covid-19-vaccine-poses-geographic-care-access-health-disparities\n"
     ]
    },
    {
     "name": "stderr",
     "output_type": "stream",
     "text": [
      "connection/timeout error: https://www.washingtonpost.com/lifestyle/style/women-covid-vaccine-skeptical/2020/12/15/63551cac-3a61-11eb-9276-ae0ca72729be_story.html HTTPSConnectionPool(host='www.washingtonpost.com', port=443): Read timed out. (read timeout=5)\n"
     ]
    },
    {
     "name": "stdout",
     "output_type": "stream",
     "text": [
      "Error while processing https://www.washingtonpost.com/lifestyle/style/women-covid-vaccine-skeptical/2020/12/15/63551cac-3a61-11eb-9276-ae0ca72729be_story.html\n"
     ]
    },
    {
     "name": "stderr",
     "output_type": "stream",
     "text": [
      "not a 200 response: 403\n"
     ]
    },
    {
     "name": "stdout",
     "output_type": "stream",
     "text": [
      "Error while processing https://www.devex.com/news/gates-foundation-covid-19-commitment-reaches-1-75b-with-latest-pledge-98739\n"
     ]
    },
    {
     "name": "stderr",
     "output_type": "stream",
     "text": [
      "not a 200 response: 403\n"
     ]
    },
    {
     "name": "stdout",
     "output_type": "stream",
     "text": [
      "Error while processing https://local12.com/government-prepares-covid-19-education-campaign-to-overcome-vaccine-hesitancy\n"
     ]
    },
    {
     "name": "stderr",
     "output_type": "stream",
     "text": [
      "connection/timeout error: https://www.washingtonpost.com/nation/2020/12/15/coronavirus-covid-live-updates-us/ HTTPSConnectionPool(host='www.washingtonpost.com', port=443): Read timed out. (read timeout=5)\n"
     ]
    },
    {
     "name": "stdout",
     "output_type": "stream",
     "text": [
      "Error while processing https://www.washingtonpost.com/nation/2020/12/15/coronavirus-covid-live-updates-us/\n",
      "97.5%\n"
     ]
    },
    {
     "name": "stderr",
     "output_type": "stream",
     "text": [
      "not a 200 response: 451\n"
     ]
    },
    {
     "name": "stdout",
     "output_type": "stream",
     "text": [
      "Error while processing https://www.rochesterfirst.com/coronavirus/2-years-later-timeline-of-key-covid-19-moments-since-monroe-countys-1st-confirmed-case/\n"
     ]
    },
    {
     "name": "stderr",
     "output_type": "stream",
     "text": [
      "connection/timeout error: https://www.dhs.wisconsin.gov/news/releases/032322.htm HTTPSConnectionPool(host='www.dhs.wisconsin.gov', port=443): Max retries exceeded with url: /news/releases/032322.htm (Caused by NewConnectionError('<urllib3.connection.HTTPSConnection object at 0x7f2d0f6bba60>: Failed to establish a new connection: [Errno -3] Temporary failure in name resolution'))\n"
     ]
    },
    {
     "name": "stdout",
     "output_type": "stream",
     "text": [
      "Error while processing https://www.dhs.wisconsin.gov/news/releases/032322.htm\n"
     ]
    },
    {
     "name": "stderr",
     "output_type": "stream",
     "text": [
      "connection/timeout error: https://www.washingtonpost.com/arts-entertainment/2021/09/14/nicki-minaj-covid-19-vaccine-conspiracy/ HTTPSConnectionPool(host='www.washingtonpost.com', port=443): Read timed out. (read timeout=5)\n"
     ]
    },
    {
     "name": "stdout",
     "output_type": "stream",
     "text": [
      "Error while processing https://www.washingtonpost.com/arts-entertainment/2021/09/14/nicki-minaj-covid-19-vaccine-conspiracy/\n"
     ]
    },
    {
     "name": "stderr",
     "output_type": "stream",
     "text": [
      "connection/timeout error: https://www.washingtonpost.com/world/2021/09/15/us-vaccination-lagging-world/ HTTPSConnectionPool(host='www.washingtonpost.com', port=443): Read timed out. (read timeout=5)\n"
     ]
    },
    {
     "name": "stdout",
     "output_type": "stream",
     "text": [
      "Error while processing https://www.washingtonpost.com/world/2021/09/15/us-vaccination-lagging-world/\n"
     ]
    },
    {
     "name": "stderr",
     "output_type": "stream",
     "text": [
      "connection/timeout error: https://www.usnews.com/news/health-news/articles/2021-09-01/us-sees-jump-in-unvaccinated-people-getting-first-shot HTTPSConnectionPool(host='www.usnews.com', port=443): Read timed out. (read timeout=5)\n"
     ]
    },
    {
     "name": "stdout",
     "output_type": "stream",
     "text": [
      "Error while processing https://www.usnews.com/news/health-news/articles/2021-09-01/us-sees-jump-in-unvaccinated-people-getting-first-shot\n"
     ]
    },
    {
     "name": "stderr",
     "output_type": "stream",
     "text": [
      "connection/timeout error: https://www.washingtonpost.com/business/pay-americans-1000-each-to-get-vaccinated/2021/09/17/9aaa2ca2-17af-11ec-a019-cb193b28aa73_story.html HTTPSConnectionPool(host='www.washingtonpost.com', port=443): Read timed out. (read timeout=5)\n"
     ]
    },
    {
     "name": "stdout",
     "output_type": "stream",
     "text": [
      "Error while processing https://www.washingtonpost.com/business/pay-americans-1000-each-to-get-vaccinated/2021/09/17/9aaa2ca2-17af-11ec-a019-cb193b28aa73_story.html\n",
      "97.91%\n"
     ]
    },
    {
     "name": "stderr",
     "output_type": "stream",
     "text": [
      "not a 200 response: 403\n"
     ]
    },
    {
     "name": "stdout",
     "output_type": "stream",
     "text": [
      "Error while processing https://patientengagementhit.com/news/fear-fueled-vaccine-hesitancy-outweighs-patient-safety-reality\n"
     ]
    },
    {
     "name": "stderr",
     "output_type": "stream",
     "text": [
      "not a 200 response: 403\n"
     ]
    },
    {
     "name": "stdout",
     "output_type": "stream",
     "text": [
      "Error while processing https://pink.pharmaintelligence.informa.com/PS144384/Canadian-Firm-Scathing-On-Obstacles-To-Compulsory-Licensing\n"
     ]
    },
    {
     "name": "stderr",
     "output_type": "stream",
     "text": [
      "connection/timeout error: https://www.washingtonpost.com/nation/2021/12/28/covid-omicron-variant-live-updates/ HTTPSConnectionPool(host='www.washingtonpost.com', port=443): Read timed out. (read timeout=5)\n"
     ]
    },
    {
     "name": "stdout",
     "output_type": "stream",
     "text": [
      "Error while processing https://www.washingtonpost.com/nation/2021/12/28/covid-omicron-variant-live-updates/\n"
     ]
    },
    {
     "name": "stderr",
     "output_type": "stream",
     "text": [
      "connection/timeout error: https://www.natlawreview.com/article/supreme-court-to-hear-arguments-two-federal-vaccine-mandates HTTPSConnectionPool(host='www.natlawreview.com', port=443): Read timed out. (read timeout=5)\n"
     ]
    },
    {
     "name": "stdout",
     "output_type": "stream",
     "text": [
      "Error while processing https://www.natlawreview.com/article/supreme-court-to-hear-arguments-two-federal-vaccine-mandates\n"
     ]
    },
    {
     "name": "stderr",
     "output_type": "stream",
     "text": [
      "connection/timeout error: https://www.washingtonpost.com/world/europe/boris-johnson-tory-rebellion/2021/12/14/458ef4ca-5cea-11ec-b1ef-cb78be717f0e_story.html HTTPSConnectionPool(host='www.washingtonpost.com', port=443): Read timed out. (read timeout=5)\n"
     ]
    },
    {
     "name": "stdout",
     "output_type": "stream",
     "text": [
      "Error while processing https://www.washingtonpost.com/world/europe/boris-johnson-tory-rebellion/2021/12/14/458ef4ca-5cea-11ec-b1ef-cb78be717f0e_story.html\n"
     ]
    },
    {
     "name": "stderr",
     "output_type": "stream",
     "text": [
      "connection/timeout error: https://www.washingtonpost.com/world/europe/france-macron-covid-positive/2020/12/17/ff52a176-404f-11eb-b58b-1623f6267960_story.html HTTPSConnectionPool(host='www.washingtonpost.com', port=443): Read timed out. (read timeout=5)\n"
     ]
    },
    {
     "name": "stdout",
     "output_type": "stream",
     "text": [
      "Error while processing https://www.washingtonpost.com/world/europe/france-macron-covid-positive/2020/12/17/ff52a176-404f-11eb-b58b-1623f6267960_story.html\n",
      "98.33%\n"
     ]
    },
    {
     "name": "stderr",
     "output_type": "stream",
     "text": [
      "connection/timeout error: https://www.usnews.com/news/health-news/articles/2021-09-20/the-latest-new-zealands-largest-city-to-remain-locked-down HTTPSConnectionPool(host='www.usnews.com', port=443): Read timed out. (read timeout=5)\n"
     ]
    },
    {
     "name": "stdout",
     "output_type": "stream",
     "text": [
      "Error while processing https://www.usnews.com/news/health-news/articles/2021-09-20/the-latest-new-zealands-largest-city-to-remain-locked-down\n"
     ]
    },
    {
     "name": "stderr",
     "output_type": "stream",
     "text": [
      "connection/timeout error: https://www.sacbee.com/news/politics-government/the-state-worker/article254569157.html HTTPSConnectionPool(host='www.sacbee.com', port=443): Read timed out. (read timeout=5)\n"
     ]
    },
    {
     "name": "stdout",
     "output_type": "stream",
     "text": [
      "Error while processing https://www.sacbee.com/news/politics-government/the-state-worker/article254569157.html\n"
     ]
    },
    {
     "name": "stderr",
     "output_type": "stream",
     "text": [
      "connection/timeout error: https://www.sunherald.com/news/politics-government/article254301008.html HTTPSConnectionPool(host='www.sunherald.com', port=443): Read timed out. (read timeout=5)\n"
     ]
    },
    {
     "name": "stdout",
     "output_type": "stream",
     "text": [
      "Error while processing https://www.sunherald.com/news/politics-government/article254301008.html\n"
     ]
    },
    {
     "name": "stderr",
     "output_type": "stream",
     "text": [
      "connection/timeout error: https://www.kansascity.com/news/coronavirus/article252987078.html HTTPSConnectionPool(host='www.kansascity.com', port=443): Read timed out. (read timeout=5)\n"
     ]
    },
    {
     "name": "stdout",
     "output_type": "stream",
     "text": [
      "Error while processing https://www.kansascity.com/news/coronavirus/article252987078.html\n"
     ]
    },
    {
     "name": "stderr",
     "output_type": "stream",
     "text": [
      "not a 200 response: 403\n"
     ]
    },
    {
     "name": "stdout",
     "output_type": "stream",
     "text": [
      "Error while processing https://www.winknews.com/2021/08/01/dozens-protest-nch-vaccination-mandate/\n"
     ]
    },
    {
     "name": "stderr",
     "output_type": "stream",
     "text": [
      "not a 200 response: 451\n"
     ]
    },
    {
     "name": "stdout",
     "output_type": "stream",
     "text": [
      "Error while processing https://www.khon2.com/coronavirus/hawaii-union-members-hold-news-conference-to-discuss-taking-legal-action-against-covid-vaccine-mandate/\n"
     ]
    },
    {
     "name": "stderr",
     "output_type": "stream",
     "text": [
      "not a 200 response: 451\n"
     ]
    },
    {
     "name": "stdout",
     "output_type": "stream",
     "text": [
      "Error while processing https://www.khon2.com/coronavirus/blangiardi-opts-for-vaccine-passport-over-lockdown-as-covid-cases-surge/\n"
     ]
    },
    {
     "name": "stderr",
     "output_type": "stream",
     "text": [
      "encoding error: UTF-8 / UTF-8\n",
      "not a 200 response: 503\n"
     ]
    },
    {
     "name": "stdout",
     "output_type": "stream",
     "text": [
      "Error while processing https://onlinelibrary.wiley.com/doi/10.1002/brb3.2382\n",
      "98.75%\n"
     ]
    },
    {
     "name": "stderr",
     "output_type": "stream",
     "text": [
      "not a 200 response: 451\n"
     ]
    },
    {
     "name": "stdout",
     "output_type": "stream",
     "text": [
      "Error while processing https://www.rochesterfirst.com/new-york-state/watch-live-gov-cuomo-makes-announcement-at-yankee-stadium/\n"
     ]
    },
    {
     "name": "stderr",
     "output_type": "stream",
     "text": [
      "connection/timeout error: https://www.valuepenguin.com/coronavirus-influenza-vaccines HTTPSConnectionPool(host='www.valuepenguin.com', port=443): Read timed out. (read timeout=5)\n"
     ]
    },
    {
     "name": "stdout",
     "output_type": "stream",
     "text": [
      "Error while processing https://www.valuepenguin.com/coronavirus-influenza-vaccines\n"
     ]
    },
    {
     "name": "stderr",
     "output_type": "stream",
     "text": [
      "connection/timeout error: https://www.washingtonpost.com/local/dc-politics/dc-vaccine-minors/2020/10/20/7378801e-12e4-11eb-ba42-ec6a580836ed_story.html HTTPSConnectionPool(host='www.washingtonpost.com', port=443): Read timed out. (read timeout=5)\n"
     ]
    },
    {
     "name": "stdout",
     "output_type": "stream",
     "text": [
      "Error while processing https://www.washingtonpost.com/local/dc-politics/dc-vaccine-minors/2020/10/20/7378801e-12e4-11eb-ba42-ec6a580836ed_story.html\n"
     ]
    },
    {
     "name": "stderr",
     "output_type": "stream",
     "text": [
      "connection/timeout error: https://www.washingtonpost.com/health/2021/08/31/ohio-ivermectin-lawsuit-hospital-covid/ HTTPSConnectionPool(host='www.washingtonpost.com', port=443): Read timed out. (read timeout=5)\n"
     ]
    },
    {
     "name": "stdout",
     "output_type": "stream",
     "text": [
      "Error while processing https://www.washingtonpost.com/health/2021/08/31/ohio-ivermectin-lawsuit-hospital-covid/\n"
     ]
    },
    {
     "name": "stderr",
     "output_type": "stream",
     "text": [
      "connection/timeout error: https://www.washingtonpost.com/education/texas-teachers-died-covid-connally/2021/09/07/2e9165b8-0ffc-11ec-882f-2dd15a067dc4_story.html HTTPSConnectionPool(host='www.washingtonpost.com', port=443): Read timed out. (read timeout=5)\n"
     ]
    },
    {
     "name": "stdout",
     "output_type": "stream",
     "text": [
      "Error while processing https://www.washingtonpost.com/education/texas-teachers-died-covid-connally/2021/09/07/2e9165b8-0ffc-11ec-882f-2dd15a067dc4_story.html\n"
     ]
    },
    {
     "name": "stderr",
     "output_type": "stream",
     "text": [
      "connection/timeout error: https://www.washingtonpost.com/politics/2021/08/02/health-202-delta-variant-cases-are-surging-experts-say-it-hard-forecast-how-much-worse-it-could-get/ HTTPSConnectionPool(host='www.washingtonpost.com', port=443): Read timed out. (read timeout=5)\n"
     ]
    },
    {
     "name": "stdout",
     "output_type": "stream",
     "text": [
      "Error while processing https://www.washingtonpost.com/politics/2021/08/02/health-202-delta-variant-cases-are-surging-experts-say-it-hard-forecast-how-much-worse-it-could-get/\n",
      "99.16%\n"
     ]
    },
    {
     "name": "stderr",
     "output_type": "stream",
     "text": [
      "error getting summary: \n",
      "Traceback (most recent call last):\n",
      "  File \"/home/rba/Projects/cultural-analytics/venv_culturalanalytics/lib/python3.8/site-packages/readability/readability.py\", line 213, in summary\n",
      "    self._html(True)\n",
      "  File \"/home/rba/Projects/cultural-analytics/venv_culturalanalytics/lib/python3.8/site-packages/readability/readability.py\", line 148, in _html\n",
      "    self.html = self._parse(self.input)\n",
      "  File \"/home/rba/Projects/cultural-analytics/venv_culturalanalytics/lib/python3.8/site-packages/readability/readability.py\", line 157, in _parse\n",
      "    doc, self.encoding = build_doc(input)\n",
      "  File \"/home/rba/Projects/cultural-analytics/venv_culturalanalytics/lib/python3.8/site-packages/readability/htmls.py\", line 21, in build_doc\n",
      "    doc = lxml.html.document_fromstring(\n",
      "  File \"/home/rba/Projects/cultural-analytics/venv_culturalanalytics/lib/python3.8/site-packages/lxml/html/__init__.py\", line 761, in document_fromstring\n",
      "    raise etree.ParserError(\n",
      "lxml.etree.ParserError: Document is empty\n"
     ]
    },
    {
     "name": "stdout",
     "output_type": "stream",
     "text": [
      "Error while processing https://www.haaretz.com/israel-news/2021-12-14/ty-article/ultra-orthodox-spiritual-leader-receives-death-threats-over-vaccine-support/0000017f-e2fa-df7c-a5ff-e2fa53c30000\n"
     ]
    },
    {
     "name": "stderr",
     "output_type": "stream",
     "text": [
      "error getting summary: \n",
      "Traceback (most recent call last):\n",
      "  File \"/home/rba/Projects/cultural-analytics/venv_culturalanalytics/lib/python3.8/site-packages/readability/readability.py\", line 213, in summary\n",
      "    self._html(True)\n",
      "  File \"/home/rba/Projects/cultural-analytics/venv_culturalanalytics/lib/python3.8/site-packages/readability/readability.py\", line 148, in _html\n",
      "    self.html = self._parse(self.input)\n",
      "  File \"/home/rba/Projects/cultural-analytics/venv_culturalanalytics/lib/python3.8/site-packages/readability/readability.py\", line 157, in _parse\n",
      "    doc, self.encoding = build_doc(input)\n",
      "  File \"/home/rba/Projects/cultural-analytics/venv_culturalanalytics/lib/python3.8/site-packages/readability/htmls.py\", line 21, in build_doc\n",
      "    doc = lxml.html.document_fromstring(\n",
      "  File \"/home/rba/Projects/cultural-analytics/venv_culturalanalytics/lib/python3.8/site-packages/lxml/html/__init__.py\", line 761, in document_fromstring\n",
      "    raise etree.ParserError(\n",
      "lxml.etree.ParserError: Document is empty\n"
     ]
    },
    {
     "name": "stdout",
     "output_type": "stream",
     "text": [
      "Error while processing https://www.haaretz.com/israel-news/2021-12-23/ty-article/.highlight/why-israels-covid-denying-rabbis-have-reversed-course-and-are-endorsing-vaccines/0000017f-db69-d3ff-a7ff-fbe9ccf30000\n"
     ]
    },
    {
     "name": "stderr",
     "output_type": "stream",
     "text": [
      "connection/timeout error: https://www.health.gov.au/news/atagi-recommendations-for-use-of-pfizer-covid-19-vaccine-as-a-booster-dose-in-adolescents-aged-16-17-years HTTPSConnectionPool(host='www.health.gov.au', port=443): Read timed out. (read timeout=5)\n"
     ]
    },
    {
     "name": "stdout",
     "output_type": "stream",
     "text": [
      "Error while processing https://www.health.gov.au/news/atagi-recommendations-for-use-of-pfizer-covid-19-vaccine-as-a-booster-dose-in-adolescents-aged-16-17-years\n"
     ]
    },
    {
     "name": "stderr",
     "output_type": "stream",
     "text": [
      "connection/timeout error: https://www.washingtonpost.com/lifestyle/travel/how-my-family-of-four-pulled-off-a-portugal-trip-during-the-pandemic/2021/08/26/6984c292-0119-11ec-85f2-b871803f65e4_story.html HTTPSConnectionPool(host='www.washingtonpost.com', port=443): Read timed out. (read timeout=5)\n"
     ]
    },
    {
     "name": "stdout",
     "output_type": "stream",
     "text": [
      "Error while processing https://www.washingtonpost.com/lifestyle/travel/how-my-family-of-four-pulled-off-a-portugal-trip-during-the-pandemic/2021/08/26/6984c292-0119-11ec-85f2-b871803f65e4_story.html\n"
     ]
    },
    {
     "name": "stderr",
     "output_type": "stream",
     "text": [
      "connection/timeout error: https://www.mecknc.gov/news/Pages/Updated-Charlotte-and-County-Mask-Mandate.aspx ('Connection aborted.', ConnectionResetError(104, 'Connection reset by peer'))\n"
     ]
    },
    {
     "name": "stdout",
     "output_type": "stream",
     "text": [
      "Error while processing https://www.mecknc.gov/news/Pages/Updated-Charlotte-and-County-Mask-Mandate.aspx\n"
     ]
    },
    {
     "name": "stderr",
     "output_type": "stream",
     "text": [
      "not a 200 response: 451\n"
     ]
    },
    {
     "name": "stdout",
     "output_type": "stream",
     "text": [
      "Error while processing https://www.wpri.com/health/coronavirus/masks-vaccinations-required-at-9-ri-performance-venues/\n",
      "99.58%\n"
     ]
    },
    {
     "name": "stderr",
     "output_type": "stream",
     "text": [
      "not a 200 response: 403\n"
     ]
    },
    {
     "name": "stdout",
     "output_type": "stream",
     "text": [
      "Error while processing https://www.jocogov.org/covid-19/covid-19-vaccine\n"
     ]
    },
    {
     "name": "stderr",
     "output_type": "stream",
     "text": [
      "not a 200 response: 451\n"
     ]
    },
    {
     "name": "stdout",
     "output_type": "stream",
     "text": [
      "Error while processing https://lancasteronline.com/news/health/lancaster-county-commissioners-disapprove-of-lgh-staff-covid-19-vaccine-requirement/article_fe2ab23e-be53-11eb-8fa8-d717c6e74c8a.html\n",
      "100.0%\n"
     ]
    }
   ],
   "source": [
    "def textDownloader(row):\n",
    "    row = row.to_dict()\n",
    "    try:\n",
    "        with open(f\"../data/articles/{row['id']}.json\", \"x\") as file:\n",
    "            q = NewsPlease.from_url(row['link'], timeout = 5)\n",
    "            row['maintext'] = q.maintext\n",
    "            json.dump(row, file)\n",
    "            time.sleep(.3)\n",
    "    except FileExistsError as e1:\n",
    "        pass\n",
    "    except Exception as e:\n",
    "        print('Error while processing',row['link'])\n",
    "#         print(e)\n",
    "\n",
    "    \n",
    "# def main():\n",
    "#     pool = multiprocessing.Pool(3)\n",
    "#     pool.map(textDownloader, [meta.loc[x] for x in meta.index])\n",
    "\n",
    "    \n",
    "def main():\n",
    "    c = 0 \n",
    "    for i in [meta.loc[x] for x in meta.index]:\n",
    "        textDownloader(i)\n",
    "        c+=1\n",
    "        if (c%100 == 0):\n",
    "            print(f\"{round(c/len(meta)*1e2,2)}%\")\n",
    "    \n",
    "main()"
   ]
  },
  {
   "cell_type": "code",
   "execution_count": null,
   "id": "6255e1d8",
   "metadata": {},
   "outputs": [],
   "source": []
  }
 ],
 "metadata": {
  "kernelspec": {
   "display_name": "Python 3",
   "language": "python",
   "name": "python3"
  },
  "language_info": {
   "codemirror_mode": {
    "name": "ipython",
    "version": 3
   },
   "file_extension": ".py",
   "mimetype": "text/x-python",
   "name": "python",
   "nbconvert_exporter": "python",
   "pygments_lexer": "ipython3",
   "version": "3.8.10"
  }
 },
 "nbformat": 4,
 "nbformat_minor": 5
}
